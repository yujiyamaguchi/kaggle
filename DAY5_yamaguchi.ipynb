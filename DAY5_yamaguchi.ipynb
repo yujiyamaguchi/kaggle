{
 "cells": [
  {
   "cell_type": "markdown",
   "metadata": {},
   "source": [
    "# priceの対数化による精度の確認"
   ]
  },
  {
   "cell_type": "code",
   "execution_count": 94,
   "metadata": {},
   "outputs": [],
   "source": [
    "%matplotlib inline\n",
    "from IPython.core.display import display\n",
    "import pandas as pd\n",
    "import numpy as np\n",
    "import matplotlib.pyplot as plt\n",
    "from mpl_toolkits.mplot3d import Axes3D #3D散布図の描画\n",
    "import itertools #組み合わせを求めるときに使う\n",
    "from sklearn.linear_model import LinearRegression\n",
    "from sklearn.model_selection import train_test_split\n",
    "import pyper #pyperとRを事前にインストールしておく必要がある\n",
    "from sklearn.metrics import mean_squared_error, mean_absolute_error\n",
    "from sklearn.ensemble import RandomForestRegressor\n",
    "from sklearn.model_selection import cross_val_predict\n",
    "from sklearn.model_selection import cross_val_score"
   ]
  },
  {
   "cell_type": "code",
   "execution_count": 128,
   "metadata": {},
   "outputs": [
    {
     "data": {
      "text/plain": [
       "(array([1.9021e+04, 2.1480e+03, 3.1600e+02, 9.0000e+01, 2.6000e+01,\n",
       "        4.0000e+00, 4.0000e+00, 1.0000e+00, 1.0000e+00, 2.0000e+00]),\n",
       " array([  75000.,  837500., 1600000., 2362500., 3125000., 3887500.,\n",
       "        4650000., 5412500., 6175000., 6937500., 7700000.]),\n",
       " <a list of 10 Patch objects>)"
      ]
     },
     "execution_count": 128,
     "metadata": {},
     "output_type": "execute_result"
    },
    {
     "data": {
      "image/png": "[encoded data removed]",
      "text/plain": [
       "<matplotlib.figure.Figure at 0x2202736d6a0>"
      ]
     },
     "metadata": {},
     "output_type": "display_data"
    }
   ],
   "source": [
    "# priceのヒストグラム\n",
    "df = pd.read_csv(\"kc_house_data.csv\")\n",
    "plt.hist(df[\"price\"])"
   ]
  },
  {
   "cell_type": "code",
   "execution_count": 110,
   "metadata": {},
   "outputs": [
    {
     "data": {
      "text/plain": [
       "(array([6.300e+01, 5.330e+02, 3.977e+03, 7.183e+03, 6.345e+03, 2.541e+03,\n",
       "        7.330e+02, 1.930e+02, 3.800e+01, 7.000e+00]),\n",
       " array([11.22524339, 11.68839214, 12.15154089, 12.61468964, 13.07783839,\n",
       "        13.54098714, 14.00413589, 14.46728464, 14.93043339, 15.39358214,\n",
       "        15.85673089]),\n",
       " <a list of 10 Patch objects>)"
      ]
     },
     "execution_count": 110,
     "metadata": {},
     "output_type": "execute_result"
    },
    {
     "data": {
      "image/png": "[encoded data removed]",
      "text/plain": [
       "<matplotlib.figure.Figure at 0x220271c6240>"
      ]
     },
     "metadata": {},
     "output_type": "display_data"
    }
   ],
   "source": [
    "# 対数のヒストグラム\n",
    "df_log = pd.read_csv(\"kc_house_data.csv\")\n",
    "df_log[\"price\"] = df_log[\"price\"].apply( lambda x: np.log(x) )\n",
    "plt.hist(df_log[\"price\"])"
   ]
  },
  {
   "cell_type": "code",
   "execution_count": 111,
   "metadata": {},
   "outputs": [
    {
     "data": {
      "text/plain": [
       "(array([1.9021e+04, 2.1480e+03, 3.1600e+02, 9.0000e+01, 2.6000e+01,\n",
       "        4.0000e+00, 4.0000e+00, 1.0000e+00, 1.0000e+00, 2.0000e+00]),\n",
       " array([  75000.,  837500., 1600000., 2362500., 3125000., 3887500.,\n",
       "        4650000., 5412500., 6175000., 6937500., 7700000.]),\n",
       " <a list of 10 Patch objects>)"
      ]
     },
     "execution_count": 111,
     "metadata": {},
     "output_type": "execute_result"
    },
    {
     "data": {
      "image/png": "[encoded data removed]",
      "text/plain": [
       "<matplotlib.figure.Figure at 0x220272186a0>"
      ]
     },
     "metadata": {},
     "output_type": "display_data"
    }
   ],
   "source": [
    "# 念のため元に戻して同じになるか確認\n",
    "df = df_log\n",
    "df[\"price\"] = df[\"price\"].apply( lambda x: np.exp(x) )\n",
    "plt.hist(df[\"price\"])"
   ]
  },
  {
   "cell_type": "markdown",
   "metadata": {},
   "source": [
    "以下の4パターンで確認\n",
    "- 線形回帰、ランダムフォレスト回帰\n",
    "- 通常price、対数化price"
   ]
  },
  {
   "cell_type": "code",
   "execution_count": 115,
   "metadata": {},
   "outputs": [
    {
     "data": {
      "text/plain": [
       "array([ 494097.57016755,  247982.2550895 ,  164117.49424183,\n",
       "        363041.36909987,  536594.80677808,  472537.07525462,\n",
       "        509181.30403286, 1059491.07360271,  541901.83197424,\n",
       "        200981.07252076])"
      ]
     },
     "metadata": {},
     "output_type": "display_data"
    },
    {
     "name": "stdout",
     "output_type": "stream",
     "text": [
      " Train MAE: 125369.435\n",
      " Train SCR: 0.695\n",
      " Test  MAE: 128157.32\n",
      " Test  SCR: 0.696\n"
     ]
    }
   ],
   "source": [
    "# (1)線形回帰、通常price\n",
    "df = pd.read_csv(\"kc_house_data.csv\")\n",
    "X = df.drop([\"id\", \"price\", \"zipcode\", \"date\", \"sqft_living\"], axis=1)\n",
    "y = df[\"price\"]\n",
    "\n",
    "# データを訓練データ80%、テストデータ20%に分割\n",
    "X_train, X_test, y_train, y_test = train_test_split(X, y, test_size=0.2, random_state=42)\n",
    "\n",
    "# 線形回帰\n",
    "regr = LinearRegression()\n",
    "regr.fit(X_train, y_train)\n",
    "\n",
    "# 訓練データでの学習、MAEの計算\n",
    "y_pred = regr.predict(X_train)\n",
    "display(y_pred[:10])\n",
    "mae = mean_absolute_error(y_train, y_pred)\n",
    "print(\" Train MAE: %s\"%round(mae,3))\n",
    "score = regr.score(X_train, y_train)\n",
    "print(\" Train SCR: %s\"%round(score,3))\n",
    "\n",
    "# テストデータでMAEの計算\n",
    "y_pred = regr.predict(X_test)\n",
    "mae = mean_absolute_error(y_test, y_pred)\n",
    "print(\" Test  MAE: %s\"%round(mae,3))\n",
    "score = regr.score(X_test, y_test)\n",
    "print(\" Test  SCR: %s\"%round(score,3))"
   ]
  },
  {
   "cell_type": "code",
   "execution_count": 114,
   "metadata": {},
   "outputs": [
    {
     "name": "stdout",
     "output_type": "stream",
     "text": [
      " Train MAE: 110375.5\n",
      " Train SCR: 0.768\n",
      " Test  MAE: 118055.423\n",
      " Test  SCR: 0.768\n"
     ]
    }
   ],
   "source": [
    "# (2)線形回帰、対数化price\n",
    "df_log = pd.read_csv(\"kc_house_data.csv\")\n",
    "df_log[\"price\"] = df_log[\"price\"].apply( lambda x: np.log(x) ) # log関数で変換\n",
    "X = df_log.drop([\"id\", \"price\", \"zipcode\", \"date\", \"sqft_living\"], axis=1)\n",
    "y = df_log[\"price\"]\n",
    "\n",
    "# データを訓練データ80%、テストデータ20%に分割\n",
    "X_train, X_test, y_train, y_test = train_test_split(X, y, test_size=0.2, random_state=42)\n",
    "\n",
    "# 線形回帰\n",
    "regr = LinearRegression()\n",
    "regr.fit(X_train, y_train)\n",
    "\n",
    "# 訓練データでの学習、MAEの計算\n",
    "y_pred = regr.predict(X_train)\n",
    "mae = mean_absolute_error(np.exp(y_train), np.exp(y_pred))\n",
    "print(\" Train MAE: %s\"%round(mae,3))\n",
    "score = regr.score(X_train, y_train)\n",
    "print(\" Train SCR: %s\"%round(score,3))\n",
    "\n",
    "# テストデータでMAEの計算\n",
    "y_pred = regr.predict(X_test)\n",
    "mae = mean_absolute_error(np.exp(y_test), np.exp(y_pred))\n",
    "print(\" Test  MAE: %s\"%round(mae,3))\n",
    "score = regr.score(X_test, y_test)\n",
    "print(\" Test  SCR: %s\"%round(score,3))"
   ]
  },
  {
   "cell_type": "code",
   "execution_count": 116,
   "metadata": {},
   "outputs": [
    {
     "data": {
      "text/plain": [
       "array([367285., 278500., 225425., 283500., 453800., 461920., 454000.,\n",
       "       821410., 636100., 296145.])"
      ]
     },
     "metadata": {},
     "output_type": "display_data"
    },
    {
     "name": "stdout",
     "output_type": "stream",
     "text": [
      " Train MAE: 30265.644\n",
      " Train SCR: 0.973\n",
      " Test  MAE: 80251.373\n",
      " Test  SCR: 0.834\n"
     ]
    }
   ],
   "source": [
    "# (3)ランダムフォレスト回帰、通常price\n",
    "df = pd.read_csv(\"kc_house_data.csv\")\n",
    "X = df.drop([\"id\", \"price\", \"zipcode\", \"date\", \"sqft_living\"], axis=1)\n",
    "y = df[\"price\"]\n",
    "\n",
    "# データを訓練データ80%、テストデータ20%に分割\n",
    "X_train, X_test, y_train, y_test = train_test_split(X, y, test_size=0.2, random_state=42)\n",
    "\n",
    "# 線形回帰\n",
    "regr = RandomForestRegressor()\n",
    "regr.fit(X_train, y_train)\n",
    "\n",
    "# 訓練データでの学習、MAEの計算\n",
    "y_pred = regr.predict(X_train)\n",
    "display(y_pred[:10])\n",
    "mae = mean_absolute_error(y_train, y_pred)\n",
    "print(\" Train MAE: %s\"%round(mae,3))\n",
    "score = regr.score(X_train, y_train)\n",
    "print(\" Train SCR: %s\"%round(score,3))\n",
    "\n",
    "# テストデータでMAEの計算\n",
    "y_pred = regr.predict(X_test)\n",
    "mae = mean_absolute_error(y_test, y_pred)\n",
    "print(\" Test  MAE: %s\"%round(mae,3))\n",
    "score = regr.score(X_test, y_test)\n",
    "print(\" Test  SCR: %s\"%round(score,3))"
   ]
  },
  {
   "cell_type": "code",
   "execution_count": 118,
   "metadata": {},
   "outputs": [
    {
     "data": {
      "text/plain": [
       "array([12.71881448, 12.49218709, 12.32147631, 12.58667717, 13.10941726,\n",
       "       13.07930049, 13.06246986, 13.51148016, 13.39473275, 12.5896562 ])"
      ]
     },
     "metadata": {},
     "output_type": "display_data"
    },
    {
     "name": "stdout",
     "output_type": "stream",
     "text": [
      " Train MAE: 31082.619\n",
      " Train SCR: 0.974\n",
      " Test  MAE: 79002.165\n",
      " Test  SCR: 0.873\n"
     ]
    }
   ],
   "source": [
    "# (4)ランダムフォレスト回帰、対数化price\n",
    "df_log = pd.read_csv(\"kc_house_data.csv\")\n",
    "df_log[\"price\"] = df_log[\"price\"].apply( lambda x: np.log(x) ) # log関数で変換\n",
    "X = df_log.drop([\"id\", \"price\", \"zipcode\", \"date\", \"sqft_living\"], axis=1)\n",
    "y = df_log[\"price\"]\n",
    "\n",
    "# データを訓練データ80%、テストデータ20%に分割\n",
    "X_train, X_test, y_train, y_test = train_test_split(X, y, test_size=0.2, random_state=42)\n",
    "\n",
    "# 線形回帰\n",
    "regr = RandomForestRegressor()\n",
    "regr.fit(X_train, y_train)\n",
    "\n",
    "# 訓練データでの学習、MAEの計算\n",
    "y_pred = regr.predict(X_train)\n",
    "display(y_pred[:10])\n",
    "mae = mean_absolute_error(np.exp(y_train), np.exp(y_pred))\n",
    "print(\" Train MAE: %s\"%round(mae,3))\n",
    "score = regr.score(X_train, y_train)\n",
    "print(\" Train SCR: %s\"%round(score,3))\n",
    "\n",
    "# テストデータでMAEの計算\n",
    "y_pred = regr.predict(X_test)\n",
    "mae = mean_absolute_error(np.exp(y_test), np.exp(y_pred))\n",
    "print(\" Test  MAE: %s\"%round(mae,3))\n",
    "score = regr.score(X_test, y_test)\n",
    "print(\" Test  SCR: %s\"%round(score,3))"
   ]
  },
  {
   "cell_type": "markdown",
   "metadata": {},
   "source": [
    "(4)ランダムフォレスト回帰、対数化price\n",
    "\n",
    "の結果が一番よさそう。\n",
    "交差検証でも確認してみる。\n",
    "cross_val_score\n",
    "という便利な関数があるもよう。"
   ]
  },
  {
   "cell_type": "code",
   "execution_count": 123,
   "metadata": {},
   "outputs": [
    {
     "name": "stdout",
     "output_type": "stream",
     "text": [
      "SCR: 0.6908930054058809\n"
     ]
    }
   ],
   "source": [
    "# (1)線形回帰、通常price\n",
    "df = pd.read_csv(\"kc_house_data.csv\")\n",
    "X = df.drop([\"id\", \"price\", \"zipcode\", \"date\", \"sqft_living\"], axis=1)\n",
    "y = df[\"price\"]\n",
    "\n",
    "# 線形回帰\n",
    "regr = LinearRegression()\n",
    "scores = cross_val_score(regr, X, y, cv=10)\n",
    "print(\"SCR: %s\"%scores.mean())"
   ]
  },
  {
   "cell_type": "code",
   "execution_count": 124,
   "metadata": {},
   "outputs": [
    {
     "name": "stdout",
     "output_type": "stream",
     "text": [
      "SCR: 0.7639515268396393\n"
     ]
    }
   ],
   "source": [
    "# (2)線形回帰、対数化price\n",
    "df_log = pd.read_csv(\"kc_house_data.csv\")\n",
    "df_log[\"price\"] = df_log[\"price\"].apply( lambda x: np.log(x) ) # log関数で変換\n",
    "X = df_log.drop([\"id\", \"price\", \"zipcode\", \"date\", \"sqft_living\"], axis=1)\n",
    "y = df_log[\"price\"]\n",
    "\n",
    "# 線形回帰\n",
    "regr = LinearRegression()\n",
    "scores = cross_val_score(regr, X, y, cv=10)\n",
    "print(\"SCR: %s\"%scores.mean())"
   ]
  },
  {
   "cell_type": "code",
   "execution_count": 125,
   "metadata": {},
   "outputs": [
    {
     "name": "stdout",
     "output_type": "stream",
     "text": [
      "SCR: 0.8528699993765277\n"
     ]
    }
   ],
   "source": [
    "# (3)ランダムフォレスト回帰、通常price\n",
    "df = pd.read_csv(\"kc_house_data.csv\")\n",
    "X = df.drop([\"id\", \"price\", \"zipcode\", \"date\", \"sqft_living\"], axis=1)\n",
    "y = df[\"price\"]\n",
    "\n",
    "# ランダムフォレスト回帰\n",
    "regr = RandomForestRegressor()\n",
    "scores = cross_val_score(regr, X, y, cv=10)\n",
    "print(\"SCR: %s\"%scores.mean())"
   ]
  },
  {
   "cell_type": "code",
   "execution_count": 126,
   "metadata": {},
   "outputs": [
    {
     "name": "stdout",
     "output_type": "stream",
     "text": [
      "SCR: 0.8732878974448516\n"
     ]
    }
   ],
   "source": [
    "# (4)ランダムフォレスト回帰、対数化price\n",
    "df_log = pd.read_csv(\"kc_house_data.csv\")\n",
    "df_log[\"price\"] = df_log[\"price\"].apply( lambda x: np.log(x) ) # log関数で変換\n",
    "X = df_log.drop([\"id\", \"price\", \"zipcode\", \"date\", \"sqft_living\"], axis=1)\n",
    "y = df_log[\"price\"]\n",
    "\n",
    "# ランダムフォレスト回帰\n",
    "regr = RandomForestRegressor()\n",
    "scores = cross_val_score(regr, X, y, cv=10)\n",
    "print(\"SCR: %s\"%scores.mean())"
   ]
  },
  {
   "cell_type": "markdown",
   "metadata": {},
   "source": [
    "交差検証でも、\n",
    "\n",
    "(4)ランダムフォレスト回帰、対数化price\n",
    "\n",
    "の結果が一番よいことが分かった。"
   ]
  }
 ],
 "metadata": {
  "kernelspec": {
   "display_name": "Python 3",
   "language": "python",
   "name": "python3"
  },
  "language_info": {
   "codemirror_mode": {
    "name": "ipython",
    "version": 3
   },
   "file_extension": ".py",
   "mimetype": "text/x-python",
   "name": "python",
   "nbconvert_exporter": "python",
   "pygments_lexer": "ipython3",
   "version": "3.6.4"
  }
 },
 "nbformat": 4,
 "nbformat_minor": 2
}

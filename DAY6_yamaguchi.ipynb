{
 "cells": [
  {
   "cell_type": "markdown",
   "metadata": {
    "toc": true
   },
   "source": [
    "<h1>Table of Contents<span class=\"tocSkip\"></span></h1>\n",
    "<div class=\"toc\"><ul class=\"toc-item\"><li><span><a href=\"#DAY5\" data-toc-modified-id=\"DAY5-1\"><span class=\"toc-item-num\">1&nbsp;&nbsp;</span>DAY5</a></span><ul class=\"toc-item\"><li><span><a href=\"#priceの対数化による精度の確認\" data-toc-modified-id=\"priceの対数化による精度の確認-1.1\"><span class=\"toc-item-num\">1.1&nbsp;&nbsp;</span>priceの対数化による精度の確認</a></span></li></ul></li><li><span><a href=\"#DAY6\" data-toc-modified-id=\"DAY6-2\"><span class=\"toc-item-num\">2&nbsp;&nbsp;</span>DAY6</a></span><ul class=\"toc-item\"><li><span><a href=\"#ランダムフォレスト：目的変数の選択についての確認\" data-toc-modified-id=\"ランダムフォレスト：目的変数の選択についての確認-2.1\"><span class=\"toc-item-num\">2.1&nbsp;&nbsp;</span>ランダムフォレスト：目的変数の選択についての確認</a></span><ul class=\"toc-item\"><li><span><a href=\"#すべての目的変数を選択してみる\" data-toc-modified-id=\"すべての目的変数を選択してみる-2.1.1\"><span class=\"toc-item-num\">2.1.1&nbsp;&nbsp;</span>すべての目的変数を選択してみる</a></span></li><li><span><a href=\"#年、月、曜日のダミー変数を追加してみる\" data-toc-modified-id=\"年、月、曜日のダミー変数を追加してみる-2.1.2\"><span class=\"toc-item-num\">2.1.2&nbsp;&nbsp;</span>年、月、曜日のダミー変数を追加してみる</a></span></li></ul></li><li><span><a href=\"#ランダムフォレスト：グリッドサーチによるパラメータチューニング\" data-toc-modified-id=\"ランダムフォレスト：グリッドサーチによるパラメータチューニング-2.2\"><span class=\"toc-item-num\">2.2&nbsp;&nbsp;</span>ランダムフォレスト：グリッドサーチによるパラメータチューニング</a></span></li></ul></li></ul></div>"
   ]
  },
  {
   "cell_type": "markdown",
   "metadata": {},
   "source": [
    "# DAY5\n",
    "## priceの対数化による精度の確認"
   ]
  },
  {
   "cell_type": "code",
   "execution_count": 53,
   "metadata": {
    "ExecuteTime": {
     "end_time": "2018-04-13T22:59:28.969141Z",
     "start_time": "2018-04-13T22:59:28.937889Z"
    }
   },
   "outputs": [],
   "source": [
    "%matplotlib inline\n",
    "from IPython.core.display import display\n",
    "import pandas as pd\n",
    "import numpy as np\n",
    "import matplotlib.pyplot as plt\n",
    "from mpl_toolkits.mplot3d import Axes3D #3D散布図の描画\n",
    "import itertools #組み合わせを求めるときに使う\n",
    "from sklearn.linear_model import LinearRegression\n",
    "from sklearn.model_selection import train_test_split\n",
    "import pyper #pyperとRを事前にインストールしておく必要がある\n",
    "from sklearn.metrics import mean_squared_error, mean_absolute_error\n",
    "from sklearn.ensemble import RandomForestRegressor\n",
    "from sklearn.model_selection import cross_val_predict\n",
    "from sklearn.model_selection import cross_val_score\n",
    "from sklearn.model_selection import GridSearchCV\n",
    "from category_encoders import * # pip install category_encoders"
   ]
  },
  {
   "cell_type": "code",
   "execution_count": 54,
   "metadata": {
    "ExecuteTime": {
     "end_time": "2018-04-13T22:59:31.289673Z",
     "start_time": "2018-04-13T22:59:31.055210Z"
    }
   },
   "outputs": [
    {
     "data": {
      "text/plain": [
       "(array([1.9021e+04, 2.1480e+03, 3.1600e+02, 9.0000e+01, 2.6000e+01,\n",
       "        4.0000e+00, 4.0000e+00, 1.0000e+00, 1.0000e+00, 2.0000e+00]),\n",
       " array([  75000.,  837500., 1600000., 2362500., 3125000., 3887500.,\n",
       "        4650000., 5412500., 6175000., 6937500., 7700000.]),\n",
       " <a list of 10 Patch objects>)"
      ]
     },
     "execution_count": 54,
     "metadata": {},
     "output_type": "execute_result"
    },
    {
     "data": {
      "image/png": "[encoded data removed]",
      "text/plain": [
       "<matplotlib.figure.Figure at 0x261b40db5c0>"
      ]
     },
     "metadata": {},
     "output_type": "display_data"
    }
   ],
   "source": [
    "# priceのヒストグラム\n",
    "df = pd.read_csv(\"kc_house_data.csv\")\n",
    "plt.hist(df[\"price\"])"
   ]
  },
  {
   "cell_type": "code",
   "execution_count": 55,
   "metadata": {
    "ExecuteTime": {
     "end_time": "2018-04-13T22:59:34.067750Z",
     "start_time": "2018-04-13T22:59:33.799128Z"
    }
   },
   "outputs": [
    {
     "data": {
      "text/plain": [
       "(array([6.300e+01, 5.330e+02, 3.977e+03, 7.183e+03, 6.345e+03, 2.541e+03,\n",
       "        7.330e+02, 1.930e+02, 3.800e+01, 7.000e+00]),\n",
       " array([11.22524339, 11.68839214, 12.15154089, 12.61468964, 13.07783839,\n",
       "        13.54098714, 14.00413589, 14.46728464, 14.93043339, 15.39358214,\n",
       "        15.85673089]),\n",
       " <a list of 10 Patch objects>)"
      ]
     },
     "execution_count": 55,
     "metadata": {},
     "output_type": "execute_result"
    },
    {
     "data": {
      "image/png": "[encoded data removed]",
      "text/plain": [
       "<matplotlib.figure.Figure at 0x261b45d75c0>"
      ]
     },
     "metadata": {},
     "output_type": "display_data"
    }
   ],
   "source": [
    "# 対数のヒストグラム\n",
    "df_log = pd.read_csv(\"kc_house_data.csv\")\n",
    "df_log[\"price\"] = df_log[\"price\"].map(lambda x: np.log(x))\n",
    "plt.hist(df_log[\"price\"])"
   ]
  },
  {
   "cell_type": "code",
   "execution_count": 56,
   "metadata": {
    "ExecuteTime": {
     "end_time": "2018-04-13T22:59:37.310307Z",
     "start_time": "2018-04-13T22:59:37.105488Z"
    }
   },
   "outputs": [
    {
     "data": {
      "text/plain": [
       "(array([1.9021e+04, 2.1480e+03, 3.1600e+02, 9.0000e+01, 2.6000e+01,\n",
       "        4.0000e+00, 4.0000e+00, 1.0000e+00, 1.0000e+00, 2.0000e+00]),\n",
       " array([  75000.,  837500., 1600000., 2362500., 3125000., 3887500.,\n",
       "        4650000., 5412500., 6175000., 6937500., 7700000.]),\n",
       " <a list of 10 Patch objects>)"
      ]
     },
     "execution_count": 56,
     "metadata": {},
     "output_type": "execute_result"
    },
    {
     "data": {
      "image/png": "[encoded data removed]",
      "text/plain": [
       "<matplotlib.figure.Figure at 0x261b7178860>"
      ]
     },
     "metadata": {},
     "output_type": "display_data"
    }
   ],
   "source": [
    "# 念のため元に戻して同じになるか確認\n",
    "df = df_log\n",
    "df[\"price\"] = df[\"price\"].map(lambda x: np.exp(x))\n",
    "plt.hist(df[\"price\"])"
   ]
  },
  {
   "cell_type": "markdown",
   "metadata": {},
   "source": [
    "以下の4パターンで確認\n",
    "- 線形回帰、ランダムフォレスト回帰\n",
    "- 通常price、対数化price"
   ]
  },
  {
   "cell_type": "code",
   "execution_count": 57,
   "metadata": {
    "ExecuteTime": {
     "end_time": "2018-04-13T23:00:10.086470Z",
     "start_time": "2018-04-13T23:00:09.898992Z"
    }
   },
   "outputs": [
    {
     "data": {
      "text/plain": [
       "array([ 494097.57016755,  247982.2550895 ,  164117.49424183,\n",
       "        363041.36909987,  536594.80677808,  472537.07525462,\n",
       "        509181.30403286, 1059491.07360271,  541901.83197424,\n",
       "        200981.07252076])"
      ]
     },
     "metadata": {},
     "output_type": "display_data"
    },
    {
     "name": "stdout",
     "output_type": "stream",
     "text": [
      " Train MAE: 125369.435\n",
      " Train SCR: 0.695\n",
      " Test  MAE: 128157.32\n",
      " Test  SCR: 0.696\n"
     ]
    }
   ],
   "source": [
    "# (1)線形回帰、通常price\n",
    "df = pd.read_csv(\"kc_house_data.csv\")\n",
    "X = df.drop([\"id\", \"price\", \"zipcode\", \"date\", \"sqft_living\"], axis=1)\n",
    "y = df[\"price\"]\n",
    "\n",
    "# データを訓練データ80%、テストデータ20%に分割\n",
    "X_train, X_test, y_train, y_test = train_test_split(X, y, test_size=0.2, random_state=42)\n",
    "\n",
    "# 線形回帰\n",
    "regr = LinearRegression()\n",
    "regr.fit(X_train, y_train)\n",
    "\n",
    "# 訓練データでの学習、MAEの計算\n",
    "y_pred = regr.predict(X_train)\n",
    "display(y_pred[:10])\n",
    "mae = mean_absolute_error(y_train, y_pred)\n",
    "print(\" Train MAE: %s\"%round(mae,3))\n",
    "score = regr.score(X_train, y_train)\n",
    "print(\" Train SCR: %s\"%round(score,3))\n",
    "\n",
    "# テストデータでMAEの計算\n",
    "y_pred = regr.predict(X_test)\n",
    "mae = mean_absolute_error(y_test, y_pred)\n",
    "print(\" Test  MAE: %s\"%round(mae,3))\n",
    "score = regr.score(X_test, y_test)\n",
    "print(\" Test  SCR: %s\"%round(score,3))"
   ]
  },
  {
   "cell_type": "code",
   "execution_count": 58,
   "metadata": {
    "ExecuteTime": {
     "end_time": "2018-04-13T23:00:21.971367Z",
     "start_time": "2018-04-13T23:00:21.811649Z"
    }
   },
   "outputs": [
    {
     "name": "stdout",
     "output_type": "stream",
     "text": [
      " Train MAE: 110375.5\n",
      " Train SCR: 0.768\n",
      " Test  MAE: 118055.423\n",
      " Test  SCR: 0.768\n"
     ]
    }
   ],
   "source": [
    "# (2)線形回帰、対数化price\n",
    "df_log = pd.read_csv(\"kc_house_data.csv\")\n",
    "df_log[\"price\"] = df_log[\"price\"].apply( lambda x: np.log(x) ) # log関数で変換\n",
    "X = df_log.drop([\"id\", \"price\", \"zipcode\", \"date\", \"sqft_living\"], axis=1)\n",
    "y = df_log[\"price\"]\n",
    "\n",
    "# データを訓練データ80%、テストデータ20%に分割\n",
    "X_train, X_test, y_train, y_test = train_test_split(X, y, test_size=0.2, random_state=42)\n",
    "\n",
    "# 線形回帰\n",
    "regr = LinearRegression()\n",
    "regr.fit(X_train, y_train)\n",
    "\n",
    "# 訓練データでの学習、MAEの計算\n",
    "y_pred = regr.predict(X_train)\n",
    "mae = mean_absolute_error(np.exp(y_train), np.exp(y_pred))\n",
    "print(\" Train MAE: %s\"%round(mae,3))\n",
    "score = regr.score(X_train, y_train)\n",
    "print(\" Train SCR: %s\"%round(score,3))\n",
    "\n",
    "# テストデータでMAEの計算\n",
    "y_pred = regr.predict(X_test)\n",
    "mae = mean_absolute_error(np.exp(y_test), np.exp(y_pred))\n",
    "print(\" Test  MAE: %s\"%round(mae,3))\n",
    "score = regr.score(X_test, y_test)\n",
    "print(\" Test  SCR: %s\"%round(score,3))"
   ]
  },
  {
   "cell_type": "code",
   "execution_count": 59,
   "metadata": {
    "ExecuteTime": {
     "end_time": "2018-04-13T23:00:29.425223Z",
     "start_time": "2018-04-13T23:00:28.083513Z"
    }
   },
   "outputs": [
    {
     "data": {
      "text/plain": [
       "array([372250., 282000., 225720., 288000., 486900., 490250., 452750.,\n",
       "       801300., 709350., 293300.])"
      ]
     },
     "metadata": {},
     "output_type": "display_data"
    },
    {
     "name": "stdout",
     "output_type": "stream",
     "text": [
      " Train MAE: 29874.063\n",
      " Train SCR: 0.974\n",
      " Test  MAE: 77813.206\n",
      " Test  SCR: 0.857\n"
     ]
    }
   ],
   "source": [
    "# (3)ランダムフォレスト回帰、通常price\n",
    "df = pd.read_csv(\"kc_house_data.csv\")\n",
    "X = df.drop([\"id\", \"price\", \"zipcode\", \"date\", \"sqft_living\"], axis=1)\n",
    "y = df[\"price\"]\n",
    "\n",
    "# データを訓練データ80%、テストデータ20%に分割\n",
    "X_train, X_test, y_train, y_test = train_test_split(X, y, test_size=0.2, random_state=42)\n",
    "\n",
    "# 線形回帰\n",
    "regr = RandomForestRegressor()\n",
    "regr.fit(X_train, y_train)\n",
    "\n",
    "# 訓練データでの学習、MAEの計算\n",
    "y_pred = regr.predict(X_train)\n",
    "display(y_pred[:10])\n",
    "mae = mean_absolute_error(y_train, y_pred)\n",
    "print(\" Train MAE: %s\"%round(mae,3))\n",
    "score = regr.score(X_train, y_train)\n",
    "print(\" Train SCR: %s\"%round(score,3))\n",
    "\n",
    "# テストデータでMAEの計算\n",
    "y_pred = regr.predict(X_test)\n",
    "mae = mean_absolute_error(y_test, y_pred)\n",
    "print(\" Test  MAE: %s\"%round(mae,3))\n",
    "score = regr.score(X_test, y_test)\n",
    "print(\" Test  SCR: %s\"%round(score,3))"
   ]
  },
  {
   "cell_type": "code",
   "execution_count": 60,
   "metadata": {
    "ExecuteTime": {
     "end_time": "2018-04-13T23:00:37.392243Z",
     "start_time": "2018-04-13T23:00:36.072810Z"
    }
   },
   "outputs": [
    {
     "data": {
      "text/plain": [
       "array([12.72963741, 12.50672442, 12.15346397, 12.56830476, 13.20141306,\n",
       "       13.07285605, 13.02861321, 13.60200672, 13.32980705, 12.59844322])"
      ]
     },
     "metadata": {},
     "output_type": "display_data"
    },
    {
     "name": "stdout",
     "output_type": "stream",
     "text": [
      " Train MAE: 31192.335\n",
      " Train SCR: 0.974\n",
      " Test  MAE: 79027.853\n",
      " Test  SCR: 0.873\n"
     ]
    }
   ],
   "source": [
    "# (4)ランダムフォレスト回帰、対数化price\n",
    "df_log = pd.read_csv(\"kc_house_data.csv\")\n",
    "df_log[\"price\"] = df_log[\"price\"].apply( lambda x: np.log(x) ) # log関数で変換\n",
    "X = df_log.drop([\"id\", \"price\", \"zipcode\", \"date\", \"sqft_living\"], axis=1)\n",
    "y = df_log[\"price\"]\n",
    "\n",
    "# データを訓練データ80%、テストデータ20%に分割\n",
    "X_train, X_test, y_train, y_test = train_test_split(X, y, test_size=0.2, random_state=42)\n",
    "\n",
    "# 線形回帰\n",
    "regr = RandomForestRegressor()\n",
    "regr.fit(X_train, y_train)\n",
    "\n",
    "# 訓練データでの学習、MAEの計算\n",
    "y_pred = regr.predict(X_train)\n",
    "display(y_pred[:10])\n",
    "mae = mean_absolute_error(np.exp(y_train), np.exp(y_pred))\n",
    "print(\" Train MAE: %s\"%round(mae,3))\n",
    "score = regr.score(X_train, y_train)\n",
    "print(\" Train SCR: %s\"%round(score,3))\n",
    "\n",
    "# テストデータでMAEの計算\n",
    "y_pred = regr.predict(X_test)\n",
    "mae = mean_absolute_error(np.exp(y_test), np.exp(y_pred))\n",
    "print(\" Test  MAE: %s\"%round(mae,3))\n",
    "score = regr.score(X_test, y_test)\n",
    "print(\" Test  SCR: %s\"%round(score,3))"
   ]
  },
  {
   "cell_type": "markdown",
   "metadata": {},
   "source": [
    "(4)ランダムフォレスト回帰、対数化price\n",
    "\n",
    "の結果が一番よさそう。\n",
    "交差検証でも確認してみる。\n",
    "cross_val_score\n",
    "という便利な関数があるもよう。"
   ]
  },
  {
   "cell_type": "code",
   "execution_count": 61,
   "metadata": {
    "ExecuteTime": {
     "end_time": "2018-04-13T23:00:50.707941Z",
     "start_time": "2018-04-13T23:00:50.489171Z"
    }
   },
   "outputs": [
    {
     "name": "stdout",
     "output_type": "stream",
     "text": [
      "SCR: 0.6908930054058809\n"
     ]
    }
   ],
   "source": [
    "# (1)線形回帰、通常price\n",
    "df = pd.read_csv(\"kc_house_data.csv\")\n",
    "X = df.drop([\"id\", \"price\", \"zipcode\", \"date\", \"sqft_living\"], axis=1)\n",
    "y = df[\"price\"]\n",
    "\n",
    "# 線形回帰\n",
    "regr = LinearRegression()\n",
    "scores = cross_val_score(regr, X, y, cv=10)\n",
    "print(\"SCR: %s\"%scores.mean())"
   ]
  },
  {
   "cell_type": "code",
   "execution_count": 66,
   "metadata": {
    "ExecuteTime": {
     "end_time": "2018-04-13T23:02:28.694623Z",
     "start_time": "2018-04-13T23:02:28.453297Z"
    }
   },
   "outputs": [
    {
     "name": "stdout",
     "output_type": "stream",
     "text": [
      "SCR: 0.7639515268396393\n"
     ]
    }
   ],
   "source": [
    "# (2)線形回帰、対数化price\n",
    "df_log = pd.read_csv(\"kc_house_data.csv\")\n",
    "df_log[\"price\"] = df_log[\"price\"].map(lambda x: np.log(x)) # log関数で変換\n",
    "X = df_log.drop([\"id\", \"price\", \"zipcode\", \"date\", \"sqft_living\"], axis=1)\n",
    "y = df_log[\"price\"]\n",
    "\n",
    "# 線形回帰\n",
    "regr = LinearRegression()\n",
    "scores = cross_val_score(regr, X, y, cv=10)\n",
    "print(\"SCR: %s\"%scores.mean())"
   ]
  },
  {
   "cell_type": "code",
   "execution_count": 63,
   "metadata": {
    "ExecuteTime": {
     "end_time": "2018-04-13T23:01:08.899525Z",
     "start_time": "2018-04-13T23:00:56.756743Z"
    }
   },
   "outputs": [
    {
     "name": "stdout",
     "output_type": "stream",
     "text": [
      "SCR: 0.8490714878991519\n"
     ]
    }
   ],
   "source": [
    "# (3)ランダムフォレスト回帰、通常price\n",
    "df = pd.read_csv(\"kc_house_data.csv\")\n",
    "X = df.drop([\"id\", \"price\", \"zipcode\", \"date\", \"sqft_living\"], axis=1)\n",
    "y = df[\"price\"]\n",
    "\n",
    "# ランダムフォレスト回帰\n",
    "regr = RandomForestRegressor()\n",
    "scores = cross_val_score(regr, X, y, cv=10)\n",
    "print(\"SCR: %s\"%scores.mean())"
   ]
  },
  {
   "cell_type": "code",
   "execution_count": 65,
   "metadata": {
    "ExecuteTime": {
     "end_time": "2018-04-13T23:02:25.398310Z",
     "start_time": "2018-04-13T23:02:13.525663Z"
    }
   },
   "outputs": [
    {
     "name": "stdout",
     "output_type": "stream",
     "text": [
      "SCR: 0.8731264037119667\n"
     ]
    }
   ],
   "source": [
    "# (4)ランダムフォレスト回帰、対数化price\n",
    "df_log = pd.read_csv(\"kc_house_data.csv\")\n",
    "df_log[\"price\"] = df_log[\"price\"].map(lambda x: np.log(x)) # log関数で変換\n",
    "X = df_log.drop([\"id\", \"price\", \"zipcode\", \"date\", \"sqft_living\"], axis=1)\n",
    "y = df_log[\"price\"]\n",
    "\n",
    "# ランダムフォレスト回帰\n",
    "regr = RandomForestRegressor()\n",
    "scores = cross_val_score(regr, X, y, cv=10)\n",
    "print(\"SCR: %s\"%scores.mean())"
   ]
  },
  {
   "cell_type": "markdown",
   "metadata": {},
   "source": [
    "交差検証でも、\n",
    "\n",
    "(4)ランダムフォレスト回帰、対数化price\n",
    "\n",
    "の結果が一番よいことが分かった。"
   ]
  },
  {
   "cell_type": "markdown",
   "metadata": {},
   "source": [
    "# DAY6\n",
    "## ランダムフォレスト：目的変数の選択についての確認\n",
    "先週までは、ランダムフォレストの試行において、あまり考えずに線形回帰の目的変数のセットで試していた。\n",
    "立ち戻って、目的変数について考え直してみる。"
   ]
  },
  {
   "cell_type": "markdown",
   "metadata": {},
   "source": [
    "### すべての目的変数を選択してみる"
   ]
  },
  {
   "cell_type": "code",
   "execution_count": 102,
   "metadata": {
    "ExecuteTime": {
     "end_time": "2018-04-13T23:58:04.557482Z",
     "start_time": "2018-04-13T23:57:47.654670Z"
    }
   },
   "outputs": [
    {
     "name": "stdout",
     "output_type": "stream",
     "text": [
      "SCR: 0.8776124899366629\n"
     ]
    }
   ],
   "source": [
    "# (4)ランダムフォレスト回帰、対数化price\n",
    "df_log = pd.read_csv(\"kc_house_data.csv\")\n",
    "df_log[\"price\"] = df_log[\"price\"].map(lambda x: np.log(x)) # priceを対数変換\n",
    "df_log[\"date\"] = pd.to_datetime(df_log.date).map(lambda x:x.value) # dateをunix timeに変換\n",
    "\n",
    "# price以外のすべてを採用する\n",
    "X = df_log.drop([\"price\"], axis=1)\n",
    "y = df_log[\"price\"]\n",
    "\n",
    "# ランダムフォレスト回帰\n",
    "regr = RandomForestRegressor()\n",
    "scores = cross_val_score(regr, X, y, cv=10)\n",
    "print(\"SCR: %s\"%scores.mean())"
   ]
  },
  {
   "cell_type": "markdown",
   "metadata": {},
   "source": [
    "DAY5までのスコアは、\n",
    "\n",
    "SCR: 0.8732878974448516\n",
    "\n",
    "なので単純によくなっているようにみえる。\n",
    "\n",
    "そこで、どの目的変数が効いているのかを確認する。"
   ]
  },
  {
   "cell_type": "code",
   "execution_count": 107,
   "metadata": {
    "ExecuteTime": {
     "end_time": "2018-04-14T00:01:32.282387Z",
     "start_time": "2018-04-14T00:01:30.201733Z"
    }
   },
   "outputs": [
    {
     "name": "stdout",
     "output_type": "stream",
     "text": [
      "Training and Test: \n",
      " Train MAE: 29975.781\n",
      " Train SCR: 0.977\n",
      " Test  MAE: 76514.109\n",
      " Test  SCR: 0.879\n",
      "Feature importance: \n",
      " id :  0.0079788168124001\n",
      " date :  0.011501856500079682\n",
      " bedrooms :  0.0024949665782391154\n",
      " bathrooms :  0.005366290275079963\n",
      " sqft_living :  0.1744861435631096\n",
      " sqft_lot :  0.014480350793040164\n",
      " floors :  0.0011872555757843676\n",
      " waterfront :  0.007136978769521107\n",
      " view :  0.007484683228903258\n",
      " condition :  0.004808095977743021\n",
      " grade :  0.347752294763987\n",
      " sqft_above :  0.012742884587413161\n",
      " sqft_basement :  0.002801734981992437\n",
      " yr_built :  0.02086662444891459\n",
      " yr_renovated :  0.0010263506252317534\n",
      " zipcode :  0.010729502669074752\n",
      " lat :  0.2882056431367833\n",
      " long :  0.04207981497946382\n",
      " sqft_living15 :  0.024305888430942814\n",
      " sqft_lot15 :  0.01256382330229601\n"
     ]
    },
    {
     "data": {
      "text/plain": [
       "Text(0,0.5,'Feature')"
      ]
     },
     "execution_count": 107,
     "metadata": {},
     "output_type": "execute_result"
    },
    {
     "data": {
      "image/png": "[encoded data removed]",
      "text/plain": [
       "<matplotlib.figure.Figure at 0x261b6c7df98>"
      ]
     },
     "metadata": {},
     "output_type": "display_data"
    }
   ],
   "source": [
    "# (4)ランダムフォレスト回帰、対数化price\n",
    "df_log = pd.read_csv(\"kc_house_data.csv\")\n",
    "df_log[\"price\"] = df_log[\"price\"].map(lambda x: np.log(x)) # priceを対数変換\n",
    "df_log[\"date\"] = pd.to_datetime(df_log.date).map(lambda x:x.value) # dateをunix timeに変換\n",
    "\n",
    "# price以外のすべてを採用する\n",
    "X = df_log.drop([\"price\"], axis=1)\n",
    "y = df_log[\"price\"]\n",
    "\n",
    "# データを訓練データ80%、テストデータ20%に分割\n",
    "X_train, X_test, y_train, y_test = train_test_split(X, y, test_size=0.2, random_state=42)\n",
    "\n",
    "# ランダムフォレスト回帰\n",
    "regr = RandomForestRegressor()\n",
    "regr.fit(X_train, y_train)\n",
    "\n",
    "print(\"Training and Test: \")\n",
    "# 訓練データでの学習、MAEの計算\n",
    "y_pred = regr.predict(X_train)\n",
    "mae = mean_absolute_error(np.exp(y_train), np.exp(y_pred))\n",
    "print(\" Train MAE: %s\"%round(mae,3))\n",
    "score = regr.score(X_train, y_train)\n",
    "print(\" Train SCR: %s\"%round(score,3))\n",
    "\n",
    "# テストデータでMAEの計算\n",
    "y_pred = regr.predict(X_test)\n",
    "mae = mean_absolute_error(np.exp(y_test), np.exp(y_pred))\n",
    "print(\" Test  MAE: %s\"%round(mae,3))\n",
    "score = regr.score(X_test, y_test)\n",
    "print(\" Test  SCR: %s\"%round(score,3))\n",
    "\n",
    "print(\"Feature importance: \")\n",
    "# 特徴量の重要度を取得\n",
    "importance = regr.feature_importances_\n",
    "for i, feat in enumerate(X.columns):\n",
    "    print(\"\", X.columns[i], \": \", importance[i])\n",
    "\n",
    "#plot\n",
    "n_features = X.shape[1]\n",
    "plt.barh(range(n_features), regr.feature_importances_, align='center')\n",
    "plt.yticks(np.arange(n_features), X.columns)\n",
    "plt.xlabel(\"Feature importance\")\n",
    "plt.ylabel(\"Feature\")"
   ]
  },
  {
   "cell_type": "markdown",
   "metadata": {
    "ExecuteTime": {
     "end_time": "2018-04-14T00:03:47.064140Z",
     "start_time": "2018-04-14T00:03:47.048541Z"
    }
   },
   "source": [
    "- grade、lat、sqft_livingの順に重要度が高いことが分かる。\n",
    "- idやzipcodeはなにか特定の順序で並んでいる訳ではないと思われるが多少評価されている\n"
   ]
  },
  {
   "cell_type": "markdown",
   "metadata": {
    "ExecuteTime": {
     "end_time": "2018-04-14T00:09:41.668217Z",
     "start_time": "2018-04-14T00:09:41.652618Z"
    }
   },
   "source": [
    "### 年、月、曜日のダミー変数を追加してみる"
   ]
  },
  {
   "cell_type": "code",
   "execution_count": 111,
   "metadata": {
    "ExecuteTime": {
     "end_time": "2018-04-14T00:08:01.502573Z",
     "start_time": "2018-04-14T00:07:39.318849Z"
    }
   },
   "outputs": [
    {
     "name": "stdout",
     "output_type": "stream",
     "text": [
      "SCR: 0.8767663028627165\n"
     ]
    }
   ],
   "source": [
    "# (4)ランダムフォレスト回帰、対数化price\n",
    "df = pd.read_csv(\"kc_house_data.csv\")\n",
    "df[\"price\"] = df[\"price\"].map(lambda x: np.log(x)) # priceを対数変換\n",
    "df[\"date\"] = pd.to_datetime(df.date).map(lambda x:x.value) # dateをunix timeに変換\n",
    "\n",
    "# year、dow、monthのエンコーディング\n",
    "df_tmp = pd.DataFrame()\n",
    "df_tmp['dow'] = pd.to_datetime(df.date).map(lambda x:'dow'+str(x.weekday()))\n",
    "df_tmp['month'] = pd.to_datetime(df.date).map(lambda x:'month'+str(x.month))\n",
    "df_tmp['year'] = pd.to_datetime(df.date).map(lambda x:'month'+str(x.year))\n",
    "df = pd.concat([df,pd.get_dummies(df_tmp.dow)],axis=1)\n",
    "df = pd.concat([df,pd.get_dummies(df_tmp.month)],axis=1)\n",
    "df = pd.concat([df,pd.get_dummies(df_tmp.year)],axis=1)\n",
    "\n",
    "# price以外のすべてを採用する\n",
    "X = df.drop([\"price\"], axis=1)\n",
    "y = df[\"price\"]\n",
    "\n",
    "# ランダムフォレスト回帰\n",
    "regr = RandomForestRegressor()\n",
    "scores = cross_val_score(regr, X, y, cv=10)\n",
    "print(\"SCR: %s\"%scores.mean())"
   ]
  },
  {
   "cell_type": "markdown",
   "metadata": {},
   "source": [
    "- なぜか若干悪くなっている。あまり効果はない\n",
    "- 目的変数の選択については、単にすべての変数を採用するのがよいようだ\n",
    "- ターゲットエンコーディングについては、やり方が分からず、まだ試せてない"
   ]
  },
  {
   "cell_type": "markdown",
   "metadata": {},
   "source": [
    "## ランダムフォレスト：グリッドサーチによるパラメータチューニング"
   ]
  },
  {
   "cell_type": "code",
   "execution_count": 114,
   "metadata": {
    "ExecuteTime": {
     "end_time": "2018-04-14T00:24:05.696214Z",
     "start_time": "2018-04-14T00:21:52.040690Z"
    },
    "scrolled": true
   },
   "outputs": [
    {
     "name": "stdout",
     "output_type": "stream",
     "text": [
      "RandomForestRegressor(bootstrap=True, criterion='mse', max_depth=None,\n",
      "           max_features='auto', max_leaf_nodes=None,\n",
      "           min_impurity_decrease=0.0, min_impurity_split=None,\n",
      "           min_samples_leaf=1, min_samples_split=2,\n",
      "           min_weight_fraction_leaf=0.0, n_estimators=300, n_jobs=-1,\n",
      "           oob_score=False, random_state=None, verbose=0, warm_start=False)\n",
      "0.8876841843046636\n"
     ]
    }
   ],
   "source": [
    "# (4)ランダムフォレスト回帰、対数化price\n",
    "df_log = pd.read_csv(\"kc_house_data.csv\")\n",
    "df_log[\"price\"] = df_log[\"price\"].map(lambda x: np.log(x)) # priceを対数変換\n",
    "df_log[\"date\"] = pd.to_datetime(df_log.date).map(lambda x:x.value) # dateをunix timeに変換\n",
    "\n",
    "# price以外のすべてを採用する\n",
    "X = df_log.drop([\"price\"], axis=1)\n",
    "y = df_log[\"price\"]\n",
    "\n",
    "# bootstrapやmax_leaf_nodesはあまり効果がなかったのでコメントアウトした\n",
    "parameters = {\n",
    "    'n_estimators'      : [10, 100, 300], # default: 10\n",
    "#    'bootstrap': [True, False],\n",
    "    'n_jobs'            : [-1], # 高速化のため\n",
    "#    'max_leaf_nodes': [10000000], \n",
    "    'max_features'      : [\"auto\", \"log2\", \"sqrt\"], # default: \"auto\"\n",
    "}\n",
    "\n",
    "clf = GridSearchCV(RandomForestRegressor(), parameters)\n",
    "clf.fit(X, y)\n",
    " \n",
    "print(clf.best_estimator_)\n",
    "print(clf.best_score_)\n",
    "#print(clf.cv_results_)"
   ]
  },
  {
   "cell_type": "markdown",
   "metadata": {},
   "source": [
    "- 若干スコアはよくなった\n",
    "- n_estimatorは増やせば増やすほどスコアがよいようだが、これ以上増やしても計算時間がかかるだけであまり効果がない\n",
    "- max_featuresはデフォルト値のautoが採用された\n",
    "- パラメータチューニングの結論としては、n_estimatorを適度に増やすのがよいと思われる"
   ]
  },
  {
   "cell_type": "markdown",
   "metadata": {
    "ExecuteTime": {
     "end_time": "2018-04-14T00:41:01.197474Z",
     "start_time": "2018-04-14T00:41:01.181852Z"
    }
   },
   "source": [
    "参考：clf.cv_results_の出力結果"
   ]
  },
  {
   "cell_type": "code",
   "execution_count": 116,
   "metadata": {
    "ExecuteTime": {
     "end_time": "2018-04-14T00:27:52.983875Z",
     "start_time": "2018-04-14T00:27:52.952627Z"
    }
   },
   "outputs": [
    {
     "name": "stderr",
     "output_type": "stream",
     "text": [
      "C:\\Users\\yuji-yamaguchi\\AppData\\Local\\Continuum\\anaconda3\\lib\\site-packages\\sklearn\\utils\\deprecation.py:122: FutureWarning: You are accessing a training score ('mean_train_score'), which will not be available by default any more in 0.21. If you need training scores, please set return_train_score=True\n",
      "  warnings.warn(*warn_args, **warn_kwargs)\n",
      "C:\\Users\\yuji-yamaguchi\\AppData\\Local\\Continuum\\anaconda3\\lib\\site-packages\\sklearn\\utils\\deprecation.py:122: FutureWarning: You are accessing a training score ('split0_train_score'), which will not be available by default any more in 0.21. If you need training scores, please set return_train_score=True\n",
      "  warnings.warn(*warn_args, **warn_kwargs)\n",
      "C:\\Users\\yuji-yamaguchi\\AppData\\Local\\Continuum\\anaconda3\\lib\\site-packages\\sklearn\\utils\\deprecation.py:122: FutureWarning: You are accessing a training score ('split1_train_score'), which will not be available by default any more in 0.21. If you need training scores, please set return_train_score=True\n",
      "  warnings.warn(*warn_args, **warn_kwargs)\n",
      "C:\\Users\\yuji-yamaguchi\\AppData\\Local\\Continuum\\anaconda3\\lib\\site-packages\\sklearn\\utils\\deprecation.py:122: FutureWarning: You are accessing a training score ('split2_train_score'), which will not be available by default any more in 0.21. If you need training scores, please set return_train_score=True\n",
      "  warnings.warn(*warn_args, **warn_kwargs)\n",
      "C:\\Users\\yuji-yamaguchi\\AppData\\Local\\Continuum\\anaconda3\\lib\\site-packages\\sklearn\\utils\\deprecation.py:122: FutureWarning: You are accessing a training score ('std_train_score'), which will not be available by default any more in 0.21. If you need training scores, please set return_train_score=True\n",
      "  warnings.warn(*warn_args, **warn_kwargs)\n"
     ]
    },
    {
     "data": {
      "text/plain": [
       "{'mean_fit_time': array([ 0.63028908,  4.99711164, 14.99443261,  0.26567332,  1.3240215 ,\n",
       "         4.0165271 ,  0.25518926,  1.28011807,  3.99644796]),\n",
       " 'mean_score_time': array([0.12123934, 0.11096168, 0.33336409, 0.10937961, 0.11980089,\n",
       "        0.33097935, 0.12621069, 0.14585567, 0.33334978]),\n",
       " 'mean_test_score': array([0.87411718, 0.88645222, 0.88768418, 0.86513332, 0.88309225,\n",
       "        0.8850206 , 0.86679604, 0.88411779, 0.8854823 ]),\n",
       " 'mean_train_score': array([0.97767266, 0.9840829 , 0.984705  , 0.97464554, 0.98330644,\n",
       "        0.9841007 , 0.97454574, 0.98353911, 0.98413704]),\n",
       " 'param_max_features': masked_array(data=['auto', 'auto', 'auto', 'log2', 'log2', 'log2', 'sqrt',\n",
       "                    'sqrt', 'sqrt'],\n",
       "              mask=[False, False, False, False, False, False, False, False,\n",
       "                    False],\n",
       "        fill_value='?',\n",
       "             dtype=object),\n",
       " 'param_n_estimators': masked_array(data=[10, 100, 300, 10, 100, 300, 10, 100, 300],\n",
       "              mask=[False, False, False, False, False, False, False, False,\n",
       "                    False],\n",
       "        fill_value='?',\n",
       "             dtype=object),\n",
       " 'param_n_jobs': masked_array(data=[-1, -1, -1, -1, -1, -1, -1, -1, -1],\n",
       "              mask=[False, False, False, False, False, False, False, False,\n",
       "                    False],\n",
       "        fill_value='?',\n",
       "             dtype=object),\n",
       " 'params': [{'max_features': 'auto', 'n_estimators': 10, 'n_jobs': -1},\n",
       "  {'max_features': 'auto', 'n_estimators': 100, 'n_jobs': -1},\n",
       "  {'max_features': 'auto', 'n_estimators': 300, 'n_jobs': -1},\n",
       "  {'max_features': 'log2', 'n_estimators': 10, 'n_jobs': -1},\n",
       "  {'max_features': 'log2', 'n_estimators': 100, 'n_jobs': -1},\n",
       "  {'max_features': 'log2', 'n_estimators': 300, 'n_jobs': -1},\n",
       "  {'max_features': 'sqrt', 'n_estimators': 10, 'n_jobs': -1},\n",
       "  {'max_features': 'sqrt', 'n_estimators': 100, 'n_jobs': -1},\n",
       "  {'max_features': 'sqrt', 'n_estimators': 300, 'n_jobs': -1}],\n",
       " 'rank_test_score': array([7, 2, 1, 9, 6, 4, 8, 5, 3]),\n",
       " 'split0_test_score': array([0.87061666, 0.8856248 , 0.88699049, 0.86589667, 0.88297181,\n",
       "        0.88455259, 0.86604645, 0.88261178, 0.88479819]),\n",
       " 'split0_train_score': array([0.97715477, 0.98428969, 0.98480175, 0.97453247, 0.9836841 ,\n",
       "        0.98417639, 0.97481801, 0.98360096, 0.98424472]),\n",
       " 'split1_test_score': array([0.87284944, 0.88305643, 0.8841209 , 0.86184354, 0.87976227,\n",
       "        0.88215982, 0.86410039, 0.88095424, 0.88234644]),\n",
       " 'split1_train_score': array([0.97840039, 0.98451845, 0.98511416, 0.97536163, 0.98360857,\n",
       "        0.98454964, 0.97485726, 0.98390251, 0.98448284]),\n",
       " 'split2_test_score': array([0.87888592, 0.89067554, 0.89194126, 0.86765966, 0.8865427 ,\n",
       "        0.88834946, 0.87024139, 0.88878757, 0.88930237]),\n",
       " 'split2_train_score': array([0.97746282, 0.98344057, 0.9841991 , 0.97404252, 0.98262665,\n",
       "        0.98357607, 0.97396194, 0.98311388, 0.98368355]),\n",
       " 'std_fit_time': array([0.01472192, 0.18669477, 0.28723383, 0.01270609, 0.06966698,\n",
       "        0.04541337, 0.01469498, 0.02557463, 0.0563661 ]),\n",
       " 'std_score_time': array([5.38691026e-03, 2.23209713e-03, 7.35692984e-03, 3.49765464e-05,\n",
       "        7.36311080e-03, 2.11947192e-03, 1.60478471e-03, 5.16126977e-02,\n",
       "        7.33653042e-03]),\n",
       " 'std_test_score': array([0.00349293, 0.00316497, 0.00323005, 0.00243495, 0.00276935,\n",
       "        0.00254843, 0.00256242, 0.00337054, 0.0028806 ]),\n",
       " 'std_train_score': array([0.00052972, 0.0004637 , 0.00037978, 0.00054443, 0.00048167,\n",
       "        0.00040105, 0.00041312, 0.00032491, 0.00033507])}"
      ]
     },
     "execution_count": 116,
     "metadata": {},
     "output_type": "execute_result"
    }
   ],
   "source": [
    "clf.cv_results_"
   ]
  }
 ],
 "metadata": {
  "kernelspec": {
   "display_name": "Python 3",
   "language": "python",
   "name": "python3"
  },
  "language_info": {
   "codemirror_mode": {
    "name": "ipython",
    "version": 3
   },
   "file_extension": ".py",
   "mimetype": "text/x-python",
   "name": "python",
   "nbconvert_exporter": "python",
   "pygments_lexer": "ipython3",
   "version": "3.6.4"
  },
  "toc": {
   "base_numbering": 1,
   "nav_menu": {},
   "number_sections": true,
   "sideBar": true,
   "skip_h1_title": false,
   "title_cell": "Table of Contents",
   "title_sidebar": "Contents",
   "toc_cell": true,
   "toc_position": {
    "height": "calc(100% - 180px)",
    "left": "10px",
    "top": "150px",
    "width": "185px"
   },
   "toc_section_display": true,
   "toc_window_display": true
  }
 },
 "nbformat": 4,
 "nbformat_minor": 2
}

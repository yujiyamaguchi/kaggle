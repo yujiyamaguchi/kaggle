{
 "cells": [
  {
   "cell_type": "markdown",
   "metadata": {},
   "source": [
    "課題: House Sales in King County, USA\n",
    "\n",
    "URL: https://www.kaggle.com/harlfoxem/housesalesprediction/\n",
    "\n",
    "名前: 山口 祐治"
   ]
  },
  {
   "cell_type": "markdown",
   "metadata": {
    "toc": true
   },
   "source": [
    "<h1>目次<span class=\"tocSkip\"></span></h1>\n",
    "<div class=\"toc\"><ul class=\"toc-item\"><li><span><a href=\"#課題の概要\" data-toc-modified-id=\"課題の概要-1\"><span class=\"toc-item-num\">1&nbsp;&nbsp;</span>課題の概要</a></span></li><li><span><a href=\"#モデルの選別\" data-toc-modified-id=\"モデルの選別-2\"><span class=\"toc-item-num\">2&nbsp;&nbsp;</span>モデルの選別</a></span><ul class=\"toc-item\"><li><span><a href=\"#欠測値の確認\" data-toc-modified-id=\"欠測値の確認-2.1\"><span class=\"toc-item-num\">2.1&nbsp;&nbsp;</span>欠測値の確認</a></span></li><li><span><a href=\"#ステップワイズ法による変数選択（主として回帰分析のため）\" data-toc-modified-id=\"ステップワイズ法による変数選択（主として回帰分析のため）-2.2\"><span class=\"toc-item-num\">2.2&nbsp;&nbsp;</span>ステップワイズ法による変数選択（主として回帰分析のため）</a></span></li><li><span><a href=\"#priceの対数化\" data-toc-modified-id=\"priceの対数化-2.3\"><span class=\"toc-item-num\">2.3&nbsp;&nbsp;</span>priceの対数化</a></span></li><li><span><a href=\"#クロスバリデーションによる各モデルの評価\" data-toc-modified-id=\"クロスバリデーションによる各モデルの評価-2.4\"><span class=\"toc-item-num\">2.4&nbsp;&nbsp;</span>クロスバリデーションによる各モデルの評価</a></span></li></ul></li><li><span><a href=\"#モデルのチューニング\" data-toc-modified-id=\"モデルのチューニング-3\"><span class=\"toc-item-num\">3&nbsp;&nbsp;</span>モデルのチューニング</a></span><ul class=\"toc-item\"><li><span><a href=\"#ランダムフォレスト回帰\" data-toc-modified-id=\"ランダムフォレスト回帰-3.1\"><span class=\"toc-item-num\">3.1&nbsp;&nbsp;</span>ランダムフォレスト回帰</a></span><ul class=\"toc-item\"><li><span><a href=\"#グリッドサーチによるパラメータチューニング\" data-toc-modified-id=\"グリッドサーチによるパラメータチューニング-3.1.1\"><span class=\"toc-item-num\">3.1.1&nbsp;&nbsp;</span>グリッドサーチによるパラメータチューニング</a></span></li><li><span><a href=\"#zipcodeのターゲットエンコーディング\" data-toc-modified-id=\"zipcodeのターゲットエンコーディング-3.1.2\"><span class=\"toc-item-num\">3.1.2&nbsp;&nbsp;</span>zipcodeのターゲットエンコーディング</a></span><ul class=\"toc-item\"><li><span><a href=\"#現状の特徴量の重要性確認\" data-toc-modified-id=\"現状の特徴量の重要性確認-3.1.2.1\"><span class=\"toc-item-num\">3.1.2.1&nbsp;&nbsp;</span>現状の特徴量の重要性確認</a></span></li><li><span><a href=\"#ターゲットエンコーディング\" data-toc-modified-id=\"ターゲットエンコーディング-3.1.2.2\"><span class=\"toc-item-num\">3.1.2.2&nbsp;&nbsp;</span>ターゲットエンコーディング</a></span></li><li><span><a href=\"#グリッドサーチで決定したパラメータとの組み合わせ\" data-toc-modified-id=\"グリッドサーチで決定したパラメータとの組み合わせ-3.1.2.3\"><span class=\"toc-item-num\">3.1.2.3&nbsp;&nbsp;</span>グリッドサーチで決定したパラメータとの組み合わせ</a></span></li></ul></li></ul></li><li><span><a href=\"#GradientBoostingRegressor\" data-toc-modified-id=\"GradientBoostingRegressor-3.2\"><span class=\"toc-item-num\">3.2&nbsp;&nbsp;</span>GradientBoostingRegressor</a></span><ul class=\"toc-item\"><li><span><a href=\"#グリッドサーチによるパラメータチューニング\" data-toc-modified-id=\"グリッドサーチによるパラメータチューニング-3.2.1\"><span class=\"toc-item-num\">3.2.1&nbsp;&nbsp;</span>グリッドサーチによるパラメータチューニング</a></span></li><li><span><a href=\"#zipcodeのターゲットエンコーディング\" data-toc-modified-id=\"zipcodeのターゲットエンコーディング-3.2.2\"><span class=\"toc-item-num\">3.2.2&nbsp;&nbsp;</span>zipcodeのターゲットエンコーディング</a></span><ul class=\"toc-item\"><li><span><a href=\"#現状の特徴量の重要性確認\" data-toc-modified-id=\"現状の特徴量の重要性確認-3.2.2.1\"><span class=\"toc-item-num\">3.2.2.1&nbsp;&nbsp;</span>現状の特徴量の重要性確認</a></span></li><li><span><a href=\"#ターゲットエンコーディング\" data-toc-modified-id=\"ターゲットエンコーディング-3.2.2.2\"><span class=\"toc-item-num\">3.2.2.2&nbsp;&nbsp;</span>ターゲットエンコーディング</a></span></li><li><span><a href=\"#グリッドサーチで決定したパラメータとの組み合わせ\" data-toc-modified-id=\"グリッドサーチで決定したパラメータとの組み合わせ-3.2.2.3\"><span class=\"toc-item-num\">3.2.2.3&nbsp;&nbsp;</span>グリッドサーチで決定したパラメータとの組み合わせ</a></span></li></ul></li></ul></li><li><span><a href=\"#BaggingRegressor\" data-toc-modified-id=\"BaggingRegressor-3.3\"><span class=\"toc-item-num\">3.3&nbsp;&nbsp;</span>BaggingRegressor</a></span><ul class=\"toc-item\"><li><span><a href=\"#グリッドサーチによるパラメータチューニング\" data-toc-modified-id=\"グリッドサーチによるパラメータチューニング-3.3.1\"><span class=\"toc-item-num\">3.3.1&nbsp;&nbsp;</span>グリッドサーチによるパラメータチューニング</a></span></li><li><span><a href=\"#zipcodeのターゲットエンコーディング\" data-toc-modified-id=\"zipcodeのターゲットエンコーディング-3.3.2\"><span class=\"toc-item-num\">3.3.2&nbsp;&nbsp;</span>zipcodeのターゲットエンコーディング</a></span><ul class=\"toc-item\"><li><span><a href=\"#現状の特徴量の重要性確認\" data-toc-modified-id=\"現状の特徴量の重要性確認-3.3.2.1\"><span class=\"toc-item-num\">3.3.2.1&nbsp;&nbsp;</span>現状の特徴量の重要性確認</a></span></li><li><span><a href=\"#ターゲットエンコーディング\" data-toc-modified-id=\"ターゲットエンコーディング-3.3.2.2\"><span class=\"toc-item-num\">3.3.2.2&nbsp;&nbsp;</span>ターゲットエンコーディング</a></span></li><li><span><a href=\"#グリッドサーチで決定したパラメータとの組み合わせ\" data-toc-modified-id=\"グリッドサーチで決定したパラメータとの組み合わせ-3.3.2.3\"><span class=\"toc-item-num\">3.3.2.3&nbsp;&nbsp;</span>グリッドサーチで決定したパラメータとの組み合わせ</a></span></li></ul></li></ul></li></ul></li><li><span><a href=\"#結論\" data-toc-modified-id=\"結論-4\"><span class=\"toc-item-num\">4&nbsp;&nbsp;</span>結論</a></span></li></ul></div>"
   ]
  },
  {
   "cell_type": "markdown",
   "metadata": {
    "ExecuteTime": {
     "end_time": "2018-04-20T17:06:02.879696Z",
     "start_time": "2018-04-20T17:06:02.864072Z"
    }
   },
   "source": [
    "# 課題の概要"
   ]
  },
  {
   "cell_type": "markdown",
   "metadata": {
    "ExecuteTime": {
     "end_time": "2018-04-20T14:40:13.461846Z",
     "start_time": "2018-04-20T14:40:13.446216Z"
    }
   },
   "source": [
    "- 米国ワシントン州キング郡の住宅の価格を予想する\n",
    "- キング郡の位置は[ココ](https://www.google.com/maps/place/%E3%82%A2%E3%83%A1%E3%83%AA%E3%82%AB%E5%90%88%E8%A1%86%E5%9B%BD+%E3%83%AF%E3%82%B7%E3%83%B3%E3%83%88%E3%83%B3%E5%B7%9E+%E3%82%AD%E3%83%B3%E3%82%B0/@47.4269284,-124.045032,7z/data=!4m5!3m4!1s0x54905c8c832d7837:0xe280ab6b8b64e03e!8m2!3d47.5480339!4d-121.9836029)\n",
    "- 2014年5月から2015年5月までに売却された家が対象\n",
    "- データの列の意味\n",
    "\n",
    "| 変数名 | 説明                   | 型      | 補足                          |\n",
    "|-------|------------------------|--------|-------------------------------|\n",
    "| id    | a notation for a house | numeric | 家のID。数値に意味があるかは不明 |\n",
    "| date | Date house was sold    | string  | 住宅が売却された日付 |\n",
    "| price | Price is prediction target | numeric | 家の価格。予測対象 |\n",
    "| bedrooms | Number of Bedrooms/House | numeric | ベッドルームの数 |\n",
    "| bathrooms | Number of bathrooms/bedrooms | numeric | バスルームの数 | \n",
    "| sqft_living | square footage of the home| numeric| 家の面積 |\n",
    "| sqft_lot| square footage of the lot| numeric| 土地の面積 |\n",
    "| floors| Total floors (levels) in house| numeric| 家の階数 |\n",
    "| waterfront| House which has a view to a waterfront| numeric| 水辺が見えるか |\n",
    "| view| Has been viewed| numeric| 家の四方が開放されているかとか？ |\n",
    "| condition| How good the condition is ( Overall )| numeric| 全体の状態 |\n",
    "| grade| overall grade given to the housing unit, based on King County grading system| numeric| 家のグレード |\n",
    "| sqft_above| square footage of house apart from basement| numeric| 家の面積(1階以上) |\n",
    "| sqft_basement| square footage of the basement| numeric| 家の面積(地下) |\n",
    "| yr_built| Built Year| numeric| 家が建てられた年 |\n",
    "| yr_renovated| Year when house was renovated| numeric| リフォームされた年 |\n",
    "| zipcode| zip | numeric| 郵便番号 |\n",
    "| lat | Latitude coordinate| numeric| 緯度 |\n",
    "| long| Longitude coordinate| numeric| 経度 |\n",
    "| sqft_living15 | Living room area in 2015(implies-- some renovations) This might or might not have affected the lotsize area |  numeric| 2015年の家の面積 |\n",
    "| sqft_lot15 | lotSize area in 2015(implies-- some renovations) | numeric| 2015年の土地の面積 |\n"
   ]
  },
  {
   "cell_type": "markdown",
   "metadata": {},
   "source": [
    "# モデルの選別"
   ]
  },
  {
   "cell_type": "code",
   "execution_count": 223,
   "metadata": {
    "ExecuteTime": {
     "end_time": "2018-04-20T23:58:43.043000Z",
     "start_time": "2018-04-20T23:58:42.996148Z"
    }
   },
   "outputs": [],
   "source": [
    "%matplotlib inline\n",
    "from IPython.core.display import display\n",
    "import pandas as pd\n",
    "import numpy as np\n",
    "import matplotlib.pyplot as plt\n",
    "from mpl_toolkits.mplot3d import Axes3D #3D散布図の描画\n",
    "import itertools #組み合わせを求めるときに使う\n",
    "from sklearn.linear_model import LinearRegression\n",
    "from sklearn.model_selection import train_test_split\n",
    "import pyper #pyperとRを事前にインストールしておく必要がある\n",
    "from sklearn.metrics import mean_squared_error, mean_absolute_error\n",
    "from sklearn.ensemble import RandomForestRegressor\n",
    "from sklearn.model_selection import cross_val_predict\n",
    "from sklearn.model_selection import cross_val_score\n",
    "from sklearn.model_selection import GridSearchCV\n",
    "from category_encoders import * # pip install category_encoders\n",
    "import seaborn as sns\n",
    "from sklearn.ensemble import GradientBoostingRegressor\n",
    "from sklearn.ensemble import BaggingRegressor"
   ]
  },
  {
   "cell_type": "markdown",
   "metadata": {},
   "source": [
    "## 欠測値の確認"
   ]
  },
  {
   "cell_type": "code",
   "execution_count": 13,
   "metadata": {
    "ExecuteTime": {
     "end_time": "2018-04-20T15:36:02.266643Z",
     "start_time": "2018-04-20T15:36:02.157284Z"
    }
   },
   "outputs": [
    {
     "data": {
      "text/html": [
       "<div>\n",
       "<style scoped>\n",
       "    .dataframe tbody tr th:only-of-type {\n",
       "        vertical-align: middle;\n",
       "    }\n",
       "\n",
       "    .dataframe tbody tr th {\n",
       "        vertical-align: top;\n",
       "    }\n",
       "\n",
       "    .dataframe thead th {\n",
       "        text-align: right;\n",
       "    }\n",
       "</style>\n",
       "<table border=\"1\" class=\"dataframe\">\n",
       "  <thead>\n",
       "    <tr style=\"text-align: right;\">\n",
       "      <th></th>\n",
       "      <th>null</th>\n",
       "    </tr>\n",
       "  </thead>\n",
       "  <tbody>\n",
       "    <tr>\n",
       "      <th>id</th>\n",
       "      <td>0</td>\n",
       "    </tr>\n",
       "    <tr>\n",
       "      <th>date</th>\n",
       "      <td>0</td>\n",
       "    </tr>\n",
       "    <tr>\n",
       "      <th>price</th>\n",
       "      <td>0</td>\n",
       "    </tr>\n",
       "    <tr>\n",
       "      <th>bedrooms</th>\n",
       "      <td>0</td>\n",
       "    </tr>\n",
       "    <tr>\n",
       "      <th>bathrooms</th>\n",
       "      <td>0</td>\n",
       "    </tr>\n",
       "    <tr>\n",
       "      <th>sqft_living</th>\n",
       "      <td>0</td>\n",
       "    </tr>\n",
       "    <tr>\n",
       "      <th>sqft_lot</th>\n",
       "      <td>0</td>\n",
       "    </tr>\n",
       "    <tr>\n",
       "      <th>floors</th>\n",
       "      <td>0</td>\n",
       "    </tr>\n",
       "    <tr>\n",
       "      <th>waterfront</th>\n",
       "      <td>0</td>\n",
       "    </tr>\n",
       "    <tr>\n",
       "      <th>view</th>\n",
       "      <td>0</td>\n",
       "    </tr>\n",
       "    <tr>\n",
       "      <th>condition</th>\n",
       "      <td>0</td>\n",
       "    </tr>\n",
       "    <tr>\n",
       "      <th>grade</th>\n",
       "      <td>0</td>\n",
       "    </tr>\n",
       "    <tr>\n",
       "      <th>sqft_above</th>\n",
       "      <td>0</td>\n",
       "    </tr>\n",
       "    <tr>\n",
       "      <th>sqft_basement</th>\n",
       "      <td>0</td>\n",
       "    </tr>\n",
       "    <tr>\n",
       "      <th>yr_built</th>\n",
       "      <td>0</td>\n",
       "    </tr>\n",
       "    <tr>\n",
       "      <th>yr_renovated</th>\n",
       "      <td>0</td>\n",
       "    </tr>\n",
       "    <tr>\n",
       "      <th>zipcode</th>\n",
       "      <td>0</td>\n",
       "    </tr>\n",
       "    <tr>\n",
       "      <th>lat</th>\n",
       "      <td>0</td>\n",
       "    </tr>\n",
       "    <tr>\n",
       "      <th>long</th>\n",
       "      <td>0</td>\n",
       "    </tr>\n",
       "    <tr>\n",
       "      <th>sqft_living15</th>\n",
       "      <td>0</td>\n",
       "    </tr>\n",
       "    <tr>\n",
       "      <th>sqft_lot15</th>\n",
       "      <td>0</td>\n",
       "    </tr>\n",
       "  </tbody>\n",
       "</table>\n",
       "</div>"
      ],
      "text/plain": [
       "               null\n",
       "id                0\n",
       "date              0\n",
       "price             0\n",
       "bedrooms          0\n",
       "bathrooms         0\n",
       "sqft_living       0\n",
       "sqft_lot          0\n",
       "floors            0\n",
       "waterfront        0\n",
       "view              0\n",
       "condition         0\n",
       "grade             0\n",
       "sqft_above        0\n",
       "sqft_basement     0\n",
       "yr_built          0\n",
       "yr_renovated      0\n",
       "zipcode           0\n",
       "lat               0\n",
       "long              0\n",
       "sqft_living15     0\n",
       "sqft_lot15        0"
      ]
     },
     "execution_count": 13,
     "metadata": {},
     "output_type": "execute_result"
    }
   ],
   "source": [
    "df = pd.read_csv(\"kc_house_data.csv\")\n",
    "pd.DataFrame(df.isnull().sum(), columns=[\"null\"])"
   ]
  },
  {
   "cell_type": "markdown",
   "metadata": {},
   "source": [
    "欠測値はなし"
   ]
  },
  {
   "cell_type": "markdown",
   "metadata": {},
   "source": [
    "## ステップワイズ法による変数選択（主として回帰分析のため）"
   ]
  },
  {
   "cell_type": "code",
   "execution_count": 87,
   "metadata": {
    "ExecuteTime": {
     "end_time": "2018-04-20T17:34:24.978871Z",
     "start_time": "2018-04-20T17:34:20.908297Z"
    }
   },
   "outputs": [
    {
     "name": "stdout",
     "output_type": "stream",
     "text": [
      "try({step(lm(price~.,data=df))})\r\n",
      "Start:  AIC=527810.9\r\n",
      "price ~ id + date + bedrooms + bathrooms + sqft_living + sqft_lot + \r\n",
      "    floors + waterfront + view + condition + grade + sqft_above + \r\n",
      "    sqft_basement + yr_built + yr_renovated + zipcode + lat + \r\n",
      "    long + sqft_living15 + sqft_lot15\r\n",
      "\r\n",
      "\r\n",
      "Step:  AIC=527810.9\r\n",
      "price ~ id + date + bedrooms + bathrooms + sqft_living + sqft_lot + \r\n",
      "    floors + waterfront + view + condition + grade + sqft_above + \r\n",
      "    yr_built + yr_renovated + zipcode + lat + long + sqft_living15 + \r\n",
      "    sqft_lot15\r\n",
      "\r\n",
      "                Df  Sum of Sq        RSS    AIC\r\n",
      "<none>                        8.7059e+14 527811\r\n",
      "- floors         1 1.6393e+11 8.7075e+14 527813\r\n",
      "- sqft_lot       1 2.4821e+11 8.7084e+14 527815\r\n",
      "- id             1 3.0041e+11 8.7089e+14 527816\r\n",
      "- sqft_lot15     1 1.1808e+12 8.7177e+14 527838\r\n",
      "- yr_renovated   1 1.2877e+12 8.7188e+14 527841\r\n",
      "- sqft_living15  1 1.6337e+12 8.7222e+14 527849\r\n",
      "- sqft_above     1 2.0066e+12 8.7259e+14 527859\r\n",
      "- date           1 3.7347e+12 8.7432e+14 527901\r\n",
      "- condition      1 5.5591e+12 8.7615e+14 527946\r\n",
      "- bathrooms      1 6.5511e+12 8.7714e+14 527971\r\n",
      "- long           1 1.0486e+13 8.8107e+14 528068\r\n",
      "- zipcode        1 1.2545e+13 8.8313e+14 528118\r\n",
      "- bedrooms       1 1.4564e+13 8.8515e+14 528167\r\n",
      "- view           1 2.4596e+13 8.9518e+14 528411\r\n",
      "- waterfront     1 4.5556e+13 9.1614e+14 528911\r\n",
      "- sqft_living    1 4.7524e+13 9.1811e+14 528958\r\n",
      "- yr_built       1 5.2674e+13 9.2326e+14 529079\r\n",
      "- grade          1 8.1078e+13 9.5167e+14 529733\r\n",
      "- lat            1 1.2849e+14 9.9908e+14 530784\r\n",
      "\r\n",
      "Call:\r\n",
      "lm(formula = price ~ id + date + bedrooms + bathrooms + sqft_living + \r\n",
      "    sqft_lot + floors + waterfront + view + condition + grade + \r\n",
      "    sqft_above + yr_built + yr_renovated + zipcode + lat + long + \r\n",
      "    sqft_living15 + sqft_lot15, data = df)\r\n",
      "\r\n",
      "Coefficients:\r\n",
      "  (Intercept)             id           date       bedrooms      bathrooms  \r\n",
      "    4.869e+06     -1.314e-03      1.351e-03     -3.588e+04      4.138e+04  \r\n",
      "  sqft_living       sqft_lot         floors     waterfront           view  \r\n",
      "    1.502e+02      1.188e-01      7.235e+03      5.822e+05      5.276e+04  \r\n",
      "    condition          grade     sqft_above       yr_built   yr_renovated  \r\n",
      "    2.760e+04      9.635e+04      3.069e+01     -2.621e+03      2.062e+01  \r\n",
      "      zipcode            lat           long  sqft_living15     sqft_lot15  \r\n",
      "   -5.806e+02      6.049e+05     -2.117e+05      2.190e+01     -3.966e-01  \r\n",
      "\r\n",
      "\n"
     ]
    }
   ],
   "source": [
    "df = pd.read_csv(\"kc_house_data.csv\")\n",
    "df[\"date\"] = pd.to_datetime(df.date).map(lambda x:x.value / 10**9)  # dateをunix time(秒)に変換\n",
    "df[\"id\"] = df[\"id\"] / 10**3 # このようにスケーリングしないとうまく出力されなかった\n",
    "r = pyper.R(use_pandas='True')\n",
    "r.assign('df', df)\n",
    "print(r(\"step(lm(price~.,data=df))\"))"
   ]
  },
  {
   "cell_type": "markdown",
   "metadata": {
    "ExecuteTime": {
     "end_time": "2018-04-20T16:51:26.100045Z",
     "start_time": "2018-04-20T16:51:26.084418Z"
    }
   },
   "source": [
    "sqft_basement以外のすべてが選択された。"
   ]
  },
  {
   "cell_type": "markdown",
   "metadata": {},
   "source": [
    "## priceの対数化"
   ]
  },
  {
   "cell_type": "code",
   "execution_count": 141,
   "metadata": {
    "ExecuteTime": {
     "end_time": "2018-04-20T18:49:26.823687Z",
     "start_time": "2018-04-20T18:49:26.551892Z"
    }
   },
   "outputs": [
    {
     "data": {
      "text/plain": [
       "(array([1.9021e+04, 2.1480e+03, 3.1600e+02, 9.0000e+01, 2.6000e+01,\n",
       "        4.0000e+00, 4.0000e+00, 1.0000e+00, 1.0000e+00, 2.0000e+00]),\n",
       " array([  75000.,  837500., 1600000., 2362500., 3125000., 3887500.,\n",
       "        4650000., 5412500., 6175000., 6937500., 7700000.]),\n",
       " <a list of 10 Patch objects>)"
      ]
     },
     "execution_count": 141,
     "metadata": {},
     "output_type": "execute_result"
    },
    {
     "data": {
      "image/png": "[encoded data removed]",
      "text/plain": [
       "<matplotlib.figure.Figure at 0x21bd364d400>"
      ]
     },
     "metadata": {},
     "output_type": "display_data"
    }
   ],
   "source": [
    "# priceのヒストグラム\n",
    "df = pd.read_csv(\"kc_house_data.csv\")\n",
    "plt.hist(df[\"price\"])"
   ]
  },
  {
   "cell_type": "code",
   "execution_count": 142,
   "metadata": {
    "ExecuteTime": {
     "end_time": "2018-04-20T18:49:37.835661Z",
     "start_time": "2018-04-20T18:49:37.476249Z"
    }
   },
   "outputs": [
    {
     "data": {
      "image/png": "[encoded data removed]",
      "text/plain": [
       "<matplotlib.figure.Figure at 0x21bd36a6978>"
      ]
     },
     "metadata": {},
     "output_type": "display_data"
    },
    {
     "data": {
      "image/png": "[encoded data removed]",
      "text/plain": [
       "<matplotlib.figure.Figure at 0x21bd371a048>"
      ]
     },
     "metadata": {},
     "output_type": "display_data"
    }
   ],
   "source": [
    "# 対数のヒストグラム\n",
    "df = pd.read_csv(\"kc_house_data.csv\")\n",
    "df[\"price\"] = df[\"price\"].map(lambda x: np.log(x))\n",
    "plt.hist(df[\"price\"])\n",
    "plt.show()\n",
    "\n",
    "# 念のため元に戻して同じになるか確認\n",
    "df[\"price\"] = df[\"price\"].map(lambda x: np.exp(x))\n",
    "plt.hist(df[\"price\"])\n",
    "plt.show()"
   ]
  },
  {
   "cell_type": "markdown",
   "metadata": {},
   "source": [
    "以下の4パターンで確認\n",
    "- (1)線形回帰、price無変換\n",
    "- (2)線形回帰、price対数化\n",
    "- (3)ランダムフォレスト回帰、price無変換\n",
    "- (4)ランダムフォレスト回帰、price対数化"
   ]
  },
  {
   "cell_type": "code",
   "execution_count": 147,
   "metadata": {
    "ExecuteTime": {
     "end_time": "2018-04-20T18:56:11.354975Z",
     "start_time": "2018-04-20T18:56:11.151917Z"
    }
   },
   "outputs": [
    {
     "name": "stdout",
     "output_type": "stream",
     "text": [
      " Train MAE: 124762.362\n",
      " Train SCR: 0.701\n",
      " Test  MAE: 127157.093\n",
      " Test  SCR: 0.702\n"
     ]
    }
   ],
   "source": [
    "# (1)線形回帰、price無変換\n",
    "df = pd.read_csv(\"kc_house_data.csv\")\n",
    "df[\"date\"] = pd.to_datetime(df.date).map(lambda x:x.value / 10**9)  # dateをunix time(秒)に変換\n",
    "X = df.drop([\"price\", \"sqft_basement\"], axis=1) # 目的変数からsqft_basementのみ削除\n",
    "y = df[\"price\"]\n",
    "\n",
    "# データを訓練データ80%、テストデータ20%に分割\n",
    "X_train, X_test, y_train, y_test = train_test_split(X, y, test_size=0.2, random_state=42)\n",
    "\n",
    "# 線形回帰\n",
    "regr = LinearRegression()\n",
    "regr.fit(X_train, y_train)\n",
    "\n",
    "# 訓練データでの学習、MAEの計算\n",
    "y_pred = regr.predict(X_train)\n",
    "mae = mean_absolute_error(y_train, y_pred)\n",
    "print(\" Train MAE: %s\"%round(mae,3))\n",
    "score = regr.score(X_train, y_train)\n",
    "print(\" Train SCR: %s\"%round(score,3))\n",
    "\n",
    "# テストデータでMAEの計算\n",
    "y_pred = regr.predict(X_test)\n",
    "mae = mean_absolute_error(y_test, y_pred)\n",
    "print(\" Test  MAE: %s\"%round(mae,3))\n",
    "score = regr.score(X_test, y_test)\n",
    "print(\" Test  SCR: %s\"%round(score,3))"
   ]
  },
  {
   "cell_type": "code",
   "execution_count": 148,
   "metadata": {
    "ExecuteTime": {
     "end_time": "2018-04-20T18:56:24.445723Z",
     "start_time": "2018-04-20T18:56:24.211322Z"
    }
   },
   "outputs": [
    {
     "name": "stdout",
     "output_type": "stream",
     "text": [
      " Train MAE: 109566.416\n",
      " Train SCR: 0.772\n",
      " Test  MAE: 116926.524\n",
      " Test  SCR: 0.773\n"
     ]
    }
   ],
   "source": [
    "# (2)線形回帰、price対数化\n",
    "df = pd.read_csv(\"kc_house_data.csv\")\n",
    "df[\"date\"] = pd.to_datetime(df.date).map(lambda x:x.value / 10**9)  # dateをunix time(秒)に変換\n",
    "df[\"price\"] = df[\"price\"].apply( lambda x: np.log(x) ) # log関数で変換\n",
    "X = df.drop([\"price\", \"sqft_basement\"], axis=1) # 目的変数からsqft_basementのみ削除\n",
    "y = df[\"price\"]\n",
    "\n",
    "# データを訓練データ80%、テストデータ20%に分割\n",
    "X_train, X_test, y_train, y_test = train_test_split(X, y, test_size=0.2, random_state=42)\n",
    "\n",
    "# 線形回帰\n",
    "regr = LinearRegression()\n",
    "regr.fit(X_train, y_train)\n",
    "\n",
    "# 訓練データでの学習、MAEの計算\n",
    "y_pred = regr.predict(X_train)\n",
    "mae = mean_absolute_error(np.exp(y_train), np.exp(y_pred))\n",
    "print(\" Train MAE: %s\"%round(mae,3))\n",
    "score = regr.score(X_train, y_train)\n",
    "print(\" Train SCR: %s\"%round(score,3))\n",
    "\n",
    "# テストデータでMAEの計算\n",
    "y_pred = regr.predict(X_test)\n",
    "mae = mean_absolute_error(np.exp(y_test), np.exp(y_pred))\n",
    "print(\" Test  MAE: %s\"%round(mae,3))\n",
    "score = regr.score(X_test, y_test)\n",
    "print(\" Test  SCR: %s\"%round(score,3))"
   ]
  },
  {
   "cell_type": "code",
   "execution_count": 149,
   "metadata": {
    "ExecuteTime": {
     "end_time": "2018-04-20T18:57:22.132218Z",
     "start_time": "2018-04-20T18:57:20.267311Z"
    }
   },
   "outputs": [
    {
     "name": "stdout",
     "output_type": "stream",
     "text": [
      " Train MAE: 29458.662\n",
      " Train SCR: 0.975\n",
      " Test  MAE: 76776.37\n",
      " Test  SCR: 0.841\n"
     ]
    }
   ],
   "source": [
    "# (3)ランダムフォレスト回帰、price無変換\n",
    "df = pd.read_csv(\"kc_house_data.csv\")\n",
    "df[\"date\"] = pd.to_datetime(df.date).map(lambda x:x.value / 10**9)  # dateをunix time(秒)に変換\n",
    "X = df.drop([\"price\", \"sqft_basement\"], axis=1) # 目的変数からsqft_basementのみ削除\n",
    "y = df[\"price\"]\n",
    "\n",
    "# データを訓練データ80%、テストデータ20%に分割\n",
    "X_train, X_test, y_train, y_test = train_test_split(X, y, test_size=0.2, random_state=42)\n",
    "\n",
    "# ランダムフォレスト回帰\n",
    "regr = RandomForestRegressor()\n",
    "regr.fit(X_train, y_train)\n",
    "\n",
    "# 訓練データでの学習、MAEの計算\n",
    "y_pred = regr.predict(X_train)\n",
    "mae = mean_absolute_error(y_train, y_pred)\n",
    "print(\" Train MAE: %s\"%round(mae,3))\n",
    "score = regr.score(X_train, y_train)\n",
    "print(\" Train SCR: %s\"%round(score,3))\n",
    "\n",
    "# テストデータでMAEの計算\n",
    "y_pred = regr.predict(X_test)\n",
    "mae = mean_absolute_error(y_test, y_pred)\n",
    "print(\" Test  MAE: %s\"%round(mae,3))\n",
    "score = regr.score(X_test, y_test)\n",
    "print(\" Test  SCR: %s\"%round(score,3))"
   ]
  },
  {
   "cell_type": "code",
   "execution_count": 151,
   "metadata": {
    "ExecuteTime": {
     "end_time": "2018-04-20T18:58:29.907402Z",
     "start_time": "2018-04-20T18:58:28.154851Z"
    }
   },
   "outputs": [
    {
     "name": "stdout",
     "output_type": "stream",
     "text": [
      " Train MAE: 30274.051\n",
      " Train SCR: 0.977\n",
      " Test  MAE: 76220.384\n",
      " Test  SCR: 0.879\n"
     ]
    }
   ],
   "source": [
    "# (4)ランダムフォレスト回帰、price対数化\n",
    "df = pd.read_csv(\"kc_house_data.csv\")\n",
    "df[\"date\"] = pd.to_datetime(df.date).map(lambda x:x.value / 10**9)  # dateをunix time(秒)に変換\n",
    "df[\"price\"] = df[\"price\"].apply( lambda x: np.log(x) ) # log関数で変換\n",
    "X = df.drop([\"price\", \"sqft_basement\"], axis=1) # 目的変数からsqft_basementのみ削除\n",
    "y = df[\"price\"]\n",
    "\n",
    "# データを訓練データ80%、テストデータ20%に分割\n",
    "X_train, X_test, y_train, y_test = train_test_split(X, y, test_size=0.2, random_state=42)\n",
    "\n",
    "# ランダムフォレスト回帰\n",
    "regr = RandomForestRegressor()\n",
    "regr.fit(X_train, y_train)\n",
    "\n",
    "# 訓練データでの学習、MAEの計算\n",
    "y_pred = regr.predict(X_train)\n",
    "mae = mean_absolute_error(np.exp(y_train), np.exp(y_pred))\n",
    "print(\" Train MAE: %s\"%round(mae,3))\n",
    "score = regr.score(X_train, y_train)\n",
    "print(\" Train SCR: %s\"%round(score,3))\n",
    "\n",
    "# テストデータでMAEの計算\n",
    "y_pred = regr.predict(X_test)\n",
    "mae = mean_absolute_error(np.exp(y_test), np.exp(y_pred))\n",
    "print(\" Test  MAE: %s\"%round(mae,3))\n",
    "score = regr.score(X_test, y_test)\n",
    "print(\" Test  SCR: %s\"%round(score,3))"
   ]
  },
  {
   "cell_type": "markdown",
   "metadata": {},
   "source": [
    "線形回帰、ランダムフォレスト回帰のいずれも対数化したほうが結果がよい。\n",
    "クロスバリデーションでも確認してみる。"
   ]
  },
  {
   "cell_type": "code",
   "execution_count": 156,
   "metadata": {
    "ExecuteTime": {
     "end_time": "2018-04-20T19:18:40.307515Z",
     "start_time": "2018-04-20T19:18:24.720619Z"
    }
   },
   "outputs": [
    {
     "name": "stdout",
     "output_type": "stream",
     "text": [
      "model:  LinearRegression , log:  False\n",
      "model:  LinearRegression , log:  True\n",
      "model:  RandomForestRegressor , log:  False\n",
      "model:  RandomForestRegressor , log:  True\n"
     ]
    },
    {
     "data": {
      "text/html": [
       "<div>\n",
       "<style scoped>\n",
       "    .dataframe tbody tr th:only-of-type {\n",
       "        vertical-align: middle;\n",
       "    }\n",
       "\n",
       "    .dataframe tbody tr th {\n",
       "        vertical-align: top;\n",
       "    }\n",
       "\n",
       "    .dataframe thead th {\n",
       "        text-align: right;\n",
       "    }\n",
       "</style>\n",
       "<table border=\"1\" class=\"dataframe\">\n",
       "  <thead>\n",
       "    <tr style=\"text-align: right;\">\n",
       "      <th></th>\n",
       "      <th>log</th>\n",
       "      <th>model</th>\n",
       "      <th>score</th>\n",
       "    </tr>\n",
       "  </thead>\n",
       "  <tbody>\n",
       "    <tr>\n",
       "      <th>0</th>\n",
       "      <td>False</td>\n",
       "      <td>LinearRegression</td>\n",
       "      <td>0.695974</td>\n",
       "    </tr>\n",
       "    <tr>\n",
       "      <th>1</th>\n",
       "      <td>True</td>\n",
       "      <td>LinearRegression</td>\n",
       "      <td>0.768592</td>\n",
       "    </tr>\n",
       "    <tr>\n",
       "      <th>2</th>\n",
       "      <td>False</td>\n",
       "      <td>RandomForestRegressor</td>\n",
       "      <td>0.863455</td>\n",
       "    </tr>\n",
       "    <tr>\n",
       "      <th>3</th>\n",
       "      <td>True</td>\n",
       "      <td>RandomForestRegressor</td>\n",
       "      <td>0.876427</td>\n",
       "    </tr>\n",
       "  </tbody>\n",
       "</table>\n",
       "</div>"
      ],
      "text/plain": [
       "     log                  model     score\n",
       "0  False       LinearRegression  0.695974\n",
       "1   True       LinearRegression  0.768592\n",
       "2  False  RandomForestRegressor  0.863455\n",
       "3   True  RandomForestRegressor  0.876427"
      ]
     },
     "execution_count": 156,
     "metadata": {},
     "output_type": "execute_result"
    }
   ],
   "source": [
    "# 計算結果\n",
    "result = pd.DataFrame(columns=[\"model\", \"log\", \"score\"])\n",
    "\n",
    "# モデル名を指定してクロスバリデーションする関数\n",
    "def cross_val_score_by_model_name(X, y, regr_name=\"LinearRegression\", module_name=\"sklearn.linear_model\", log=True):\n",
    "    print(\"model: \", regr_name, \", log: \", log)\n",
    "    global result\n",
    "\n",
    "    # データの読み込み\n",
    "    df = pd.read_csv(\"kc_house_data.csv\")\n",
    "    df[\"date\"] = pd.to_datetime(df.date).map(lambda x:x.value / 10**9)  # dateをunix time(秒)に変換\n",
    "    if log:\n",
    "        df[\"price\"] = df[\"price\"].apply( lambda x: np.log(x) ) # log関数で変換\n",
    "    X = df.drop([\"price\", \"sqft_basement\"], axis=1) # 目的変数からsqft_basementのみ削除\n",
    "    y = df[\"price\"]\n",
    "    \n",
    "    # モジュール名、クラス名からインスタンス生成\n",
    "    mod = __import__(module_name, fromlist=[regr_name])\n",
    "    class_def = getattr(mod, regr_name)\n",
    "    regr = class_def()\n",
    "    # cross validationの実行\n",
    "    scores = cross_val_score(regr, X, y, cv=5)\n",
    "    result = result.append(pd.DataFrame({\"model\":[regr_name], \"log\":[log], \"score\":[scores.mean()]}), ignore_index=True)\n",
    "\n",
    "cross_val_score_by_model_name(X, y, log=False) # (1)線形回帰、price無変換\n",
    "cross_val_score_by_model_name(X, y) # (2)線形回帰、price対数化\n",
    "cross_val_score_by_model_name(X, y, \"RandomForestRegressor\", \"sklearn.ensemble\", log=False) # ランダムフォレスト回帰、price無変換\n",
    "cross_val_score_by_model_name(X, y, \"RandomForestRegressor\", \"sklearn.ensemble\") # ランダムフォレスト回帰、price対数化\n",
    "\n",
    "result"
   ]
  },
  {
   "cell_type": "markdown",
   "metadata": {
    "ExecuteTime": {
     "end_time": "2018-04-20T19:14:25.132743Z",
     "start_time": "2018-04-20T19:14:25.101489Z"
    }
   },
   "source": [
    "クロスバリデーションでも、対数化したほうが結果がよいという結果が出た。"
   ]
  },
  {
   "cell_type": "markdown",
   "metadata": {},
   "source": [
    "## クロスバリデーションによる各モデルの評価"
   ]
  },
  {
   "cell_type": "code",
   "execution_count": 157,
   "metadata": {
    "ExecuteTime": {
     "end_time": "2018-04-20T19:19:22.659930Z",
     "start_time": "2018-04-20T19:18:47.521347Z"
    }
   },
   "outputs": [
    {
     "name": "stdout",
     "output_type": "stream",
     "text": [
      "model:  LinearRegression , log:  True\n",
      "model:  DecisionTreeRegressor , log:  True\n",
      "model:  RandomForestRegressor , log:  True\n",
      "model:  AdaBoostRegressor , log:  True\n",
      "model:  BaggingRegressor , log:  True\n",
      "model:  GradientBoostingRegressor , log:  True\n",
      "model:  BayesianRidge , log:  True\n",
      "model:  ElasticNet , log:  True\n",
      "model:  KNeighborsRegressor , log:  True\n",
      "model:  ExtraTreeRegressor , log:  True\n",
      "model:  Ridge , log:  True\n"
     ]
    },
    {
     "name": "stderr",
     "output_type": "stream",
     "text": [
      "C:\\Users\\yuji-yamaguchi\\AppData\\Local\\Continuum\\anaconda3\\lib\\site-packages\\scipy\\linalg\\basic.py:40: RuntimeWarning: scipy.linalg.solve\n",
      "Ill-conditioned matrix detected. Result is not guaranteed to be accurate.\n",
      "Reciprocal condition number/precision: 6.745103446971595e-22 / 1.1102230246251565e-16\n",
      "  RuntimeWarning)\n",
      "C:\\Users\\yuji-yamaguchi\\AppData\\Local\\Continuum\\anaconda3\\lib\\site-packages\\scipy\\linalg\\basic.py:40: RuntimeWarning: scipy.linalg.solve\n",
      "Ill-conditioned matrix detected. Result is not guaranteed to be accurate.\n",
      "Reciprocal condition number/precision: 7.073123285789283e-22 / 1.1102230246251565e-16\n",
      "  RuntimeWarning)\n",
      "C:\\Users\\yuji-yamaguchi\\AppData\\Local\\Continuum\\anaconda3\\lib\\site-packages\\scipy\\linalg\\basic.py:40: RuntimeWarning: scipy.linalg.solve\n",
      "Ill-conditioned matrix detected. Result is not guaranteed to be accurate.\n",
      "Reciprocal condition number/precision: 7.293187863208869e-22 / 1.1102230246251565e-16\n",
      "  RuntimeWarning)\n",
      "C:\\Users\\yuji-yamaguchi\\AppData\\Local\\Continuum\\anaconda3\\lib\\site-packages\\scipy\\linalg\\basic.py:40: RuntimeWarning: scipy.linalg.solve\n",
      "Ill-conditioned matrix detected. Result is not guaranteed to be accurate.\n",
      "Reciprocal condition number/precision: 6.723726115358331e-22 / 1.1102230246251565e-16\n",
      "  RuntimeWarning)\n",
      "C:\\Users\\yuji-yamaguchi\\AppData\\Local\\Continuum\\anaconda3\\lib\\site-packages\\scipy\\linalg\\basic.py:40: RuntimeWarning: scipy.linalg.solve\n",
      "Ill-conditioned matrix detected. Result is not guaranteed to be accurate.\n",
      "Reciprocal condition number/precision: 7.369339157102591e-22 / 1.1102230246251565e-16\n",
      "  RuntimeWarning)\n"
     ]
    },
    {
     "name": "stdout",
     "output_type": "stream",
     "text": [
      "model:  Lasso , log:  True\n"
     ]
    },
    {
     "data": {
      "text/html": [
       "<div>\n",
       "<style scoped>\n",
       "    .dataframe tbody tr th:only-of-type {\n",
       "        vertical-align: middle;\n",
       "    }\n",
       "\n",
       "    .dataframe tbody tr th {\n",
       "        vertical-align: top;\n",
       "    }\n",
       "\n",
       "    .dataframe thead th {\n",
       "        text-align: right;\n",
       "    }\n",
       "</style>\n",
       "<table border=\"1\" class=\"dataframe\">\n",
       "  <thead>\n",
       "    <tr style=\"text-align: right;\">\n",
       "      <th></th>\n",
       "      <th>log</th>\n",
       "      <th>model</th>\n",
       "      <th>score</th>\n",
       "    </tr>\n",
       "  </thead>\n",
       "  <tbody>\n",
       "    <tr>\n",
       "      <th>0</th>\n",
       "      <td>True</td>\n",
       "      <td>LinearRegression</td>\n",
       "      <td>0.768592</td>\n",
       "    </tr>\n",
       "    <tr>\n",
       "      <th>1</th>\n",
       "      <td>True</td>\n",
       "      <td>DecisionTreeRegressor</td>\n",
       "      <td>0.767856</td>\n",
       "    </tr>\n",
       "    <tr>\n",
       "      <th>2</th>\n",
       "      <td>True</td>\n",
       "      <td>RandomForestRegressor</td>\n",
       "      <td>0.877177</td>\n",
       "    </tr>\n",
       "    <tr>\n",
       "      <th>3</th>\n",
       "      <td>True</td>\n",
       "      <td>AdaBoostRegressor</td>\n",
       "      <td>0.762874</td>\n",
       "    </tr>\n",
       "    <tr>\n",
       "      <th>4</th>\n",
       "      <td>True</td>\n",
       "      <td>BaggingRegressor</td>\n",
       "      <td>0.876074</td>\n",
       "    </tr>\n",
       "    <tr>\n",
       "      <th>5</th>\n",
       "      <td>True</td>\n",
       "      <td>GradientBoostingRegressor</td>\n",
       "      <td>0.879164</td>\n",
       "    </tr>\n",
       "    <tr>\n",
       "      <th>6</th>\n",
       "      <td>True</td>\n",
       "      <td>BayesianRidge</td>\n",
       "      <td>0.768589</td>\n",
       "    </tr>\n",
       "    <tr>\n",
       "      <th>7</th>\n",
       "      <td>True</td>\n",
       "      <td>ElasticNet</td>\n",
       "      <td>0.532400</td>\n",
       "    </tr>\n",
       "    <tr>\n",
       "      <th>8</th>\n",
       "      <td>True</td>\n",
       "      <td>KNeighborsRegressor</td>\n",
       "      <td>0.149321</td>\n",
       "    </tr>\n",
       "    <tr>\n",
       "      <th>9</th>\n",
       "      <td>True</td>\n",
       "      <td>ExtraTreeRegressor</td>\n",
       "      <td>0.741154</td>\n",
       "    </tr>\n",
       "    <tr>\n",
       "      <th>10</th>\n",
       "      <td>True</td>\n",
       "      <td>Ridge</td>\n",
       "      <td>0.768586</td>\n",
       "    </tr>\n",
       "    <tr>\n",
       "      <th>11</th>\n",
       "      <td>True</td>\n",
       "      <td>Lasso</td>\n",
       "      <td>0.529738</td>\n",
       "    </tr>\n",
       "  </tbody>\n",
       "</table>\n",
       "</div>"
      ],
      "text/plain": [
       "     log                      model     score\n",
       "0   True           LinearRegression  0.768592\n",
       "1   True      DecisionTreeRegressor  0.767856\n",
       "2   True      RandomForestRegressor  0.877177\n",
       "3   True          AdaBoostRegressor  0.762874\n",
       "4   True           BaggingRegressor  0.876074\n",
       "5   True  GradientBoostingRegressor  0.879164\n",
       "6   True              BayesianRidge  0.768589\n",
       "7   True                 ElasticNet  0.532400\n",
       "8   True        KNeighborsRegressor  0.149321\n",
       "9   True         ExtraTreeRegressor  0.741154\n",
       "10  True                      Ridge  0.768586\n",
       "11  True                      Lasso  0.529738"
      ]
     },
     "execution_count": 157,
     "metadata": {},
     "output_type": "execute_result"
    }
   ],
   "source": [
    "# 計算結果\n",
    "result = pd.DataFrame(columns=[\"model\", \"log\", \"score\"])\n",
    "\n",
    "# モデル名を指定してクロスバリデーションする関数\n",
    "def cross_val_score_by_model_name(X, y, regr_name=\"LinearRegression\", module_name=\"sklearn.linear_model\", log=True):\n",
    "    print(\"model: \", regr_name, \", log: \", log)\n",
    "    global result\n",
    "\n",
    "    # データの読み込み\n",
    "    df = pd.read_csv(\"kc_house_data.csv\")\n",
    "    df[\"date\"] = pd.to_datetime(df.date).map(lambda x:x.value / 10**9)  # dateをunix time(秒)に変換\n",
    "    if log:\n",
    "        df[\"price\"] = df[\"price\"].apply( lambda x: np.log(x) ) # log関数で変換\n",
    "    X = df.drop([\"price\", \"sqft_basement\"], axis=1) # 目的変数からsqft_basementのみ削除\n",
    "    y = df[\"price\"]\n",
    "    \n",
    "    # モジュール名、クラス名からインスタンス生成\n",
    "    mod = __import__(module_name, fromlist=[regr_name])\n",
    "    class_def = getattr(mod, regr_name)\n",
    "    regr = class_def()\n",
    "    # cross validationの実行\n",
    "    scores = cross_val_score(regr, X, y, cv=5)\n",
    "    result = result.append(pd.DataFrame({\"model\":[regr_name], \"log\":[log], \"score\":[scores.mean()]}), ignore_index=True)\n",
    "\n",
    "cross_val_score_by_model_name(X, y) # 線形回帰\n",
    "cross_val_score_by_model_name(X, y, \"DecisionTreeRegressor\", \"sklearn.tree\") # 決定木\n",
    "cross_val_score_by_model_name(X, y, \"RandomForestRegressor\", \"sklearn.ensemble\") # ランダムフォレスト\n",
    "cross_val_score_by_model_name(X, y, \"AdaBoostRegressor\", \"sklearn.ensemble\") # ブースティング\n",
    "cross_val_score_by_model_name(X, y, \"BaggingRegressor\", \"sklearn.ensemble\") # バギング\n",
    "cross_val_score_by_model_name(X, y, \"GradientBoostingRegressor\", \"sklearn.ensemble\") # 勾配ブースティング\n",
    "cross_val_score_by_model_name(X, y, \"BayesianRidge\", \"sklearn.linear_model\") # ベイズ線形回帰\n",
    "cross_val_score_by_model_name(X, y, \"ElasticNet\", \"sklearn.linear_model\") # Elastic Net回帰\n",
    "cross_val_score_by_model_name(X, y, \"KNeighborsRegressor\", \"sklearn.neighbors\") # k近傍法\n",
    "cross_val_score_by_model_name(X, y, \"ExtraTreeRegressor\", \"sklearn.tree\") # ExtraTreeRegressor\n",
    "cross_val_score_by_model_name(X, y, \"Ridge\", \"sklearn.linear_model\") # Ridge\n",
    "cross_val_score_by_model_name(X, y, \"Lasso\", \"sklearn.linear_model\") # Lasso\n",
    "\n",
    "result"
   ]
  },
  {
   "cell_type": "markdown",
   "metadata": {},
   "source": [
    "パラメータが未調整の状況ではあるが、以下のモデルの結果が良いことが分かった。\n",
    "- RandomForestRegressor: 0.877177\n",
    "- BaggingRegressor: 0.876074\n",
    "- GradientBoostingRegressor: 0.879164"
   ]
  },
  {
   "cell_type": "markdown",
   "metadata": {},
   "source": [
    "# モデルのチューニング"
   ]
  },
  {
   "cell_type": "markdown",
   "metadata": {
    "ExecuteTime": {
     "end_time": "2018-04-20T19:26:07.160532Z",
     "start_time": "2018-04-20T19:26:07.144984Z"
    }
   },
   "source": [
    "## ランダムフォレスト回帰"
   ]
  },
  {
   "cell_type": "markdown",
   "metadata": {
    "ExecuteTime": {
     "end_time": "2018-04-20T20:22:56.416255Z",
     "start_time": "2018-04-20T20:22:56.400698Z"
    }
   },
   "source": [
    "### グリッドサーチによるパラメータチューニング"
   ]
  },
  {
   "cell_type": "code",
   "execution_count": 177,
   "metadata": {
    "ExecuteTime": {
     "end_time": "2018-04-20T20:35:08.380003Z",
     "start_time": "2018-04-20T20:26:42.757929Z"
    }
   },
   "outputs": [
    {
     "name": "stdout",
     "output_type": "stream",
     "text": [
      "RandomForestRegressor(bootstrap=True, criterion='mse', max_depth=30,\n",
      "           max_features='auto', max_leaf_nodes=None,\n",
      "           min_impurity_decrease=0.0, min_impurity_split=None,\n",
      "           min_samples_leaf=1, min_samples_split=2,\n",
      "           min_weight_fraction_leaf=0.0, n_estimators=300, n_jobs=-1,\n",
      "           oob_score=False, random_state=None, verbose=0, warm_start=False)\n",
      "0.8882733960195672\n",
      "{'mean_fit_time': array([ 0.37594263,  2.62453246,  5.19719195,  8.86138431,  0.62127511,\n",
      "        4.99052668,  9.2048351 , 13.88473368,  0.61985819,  4.9410634 ,\n",
      "        9.87888392, 14.45210163,  0.6042312 ,  5.32285666, 13.48468892,\n",
      "       19.46566542,  0.65110803,  5.59938359, 11.1763525 , 17.10590943]), 'std_fit_time': array([0.02446922, 0.01368698, 0.01768109, 0.64221794, 0.05708678,\n",
      "       0.04501814, 0.23126145, 0.03851944, 0.00736536, 0.04311878,\n",
      "       0.1164385 , 0.0547562 , 0.01473313, 0.71212927, 1.03966285,\n",
      "       2.01577543, 0.04830697, 0.07659914, 0.32524267, 0.1729583 ]), 'mean_score_time': array([0.12144995, 0.10941617, 0.11458683, 0.21236046, 0.11402067,\n",
      "       0.10921311, 0.22919575, 0.26562977, 0.10938589, 0.10938597,\n",
      "       0.21928342, 0.33336846, 0.10938644, 0.15105518, 0.31154617,\n",
      "       0.39587831, 0.11461139, 0.11979826, 0.22919075, 0.33336846]), 'std_score_time': array([5.10755374e-03, 2.70107194e-05, 7.35462508e-03, 4.58469203e-03,\n",
      "       5.58908955e-03, 8.11718687e-05, 1.47359434e-02, 4.41882749e-02,\n",
      "       6.25769923e-07, 1.01152436e-06, 7.64194622e-04, 7.36951798e-03,\n",
      "       1.01152436e-06, 4.83013733e-02, 4.41782826e-02, 7.47597815e-02,\n",
      "       7.38817396e-03, 7.36092780e-03, 7.36552745e-03, 7.36665098e-03]), 'param_max_depth': masked_array(data=[10, 10, 10, 10, 20, 20, 20, 20, 30, 30, 30, 30, 40, 40,\n",
      "                   40, 40, 50, 50, 50, 50],\n",
      "             mask=[False, False, False, False, False, False, False, False,\n",
      "                   False, False, False, False, False, False, False, False,\n",
      "                   False, False, False, False],\n",
      "       fill_value='?',\n",
      "            dtype=object), 'param_n_estimators': masked_array(data=[10, 100, 200, 300, 10, 100, 200, 300, 10, 100, 200,\n",
      "                   300, 10, 100, 200, 300, 10, 100, 200, 300],\n",
      "             mask=[False, False, False, False, False, False, False, False,\n",
      "                   False, False, False, False, False, False, False, False,\n",
      "                   False, False, False, False],\n",
      "       fill_value='?',\n",
      "            dtype=object), 'param_n_jobs': masked_array(data=[-1, -1, -1, -1, -1, -1, -1, -1, -1, -1, -1, -1, -1, -1,\n",
      "                   -1, -1, -1, -1, -1, -1],\n",
      "             mask=[False, False, False, False, False, False, False, False,\n",
      "                   False, False, False, False, False, False, False, False,\n",
      "                   False, False, False, False],\n",
      "       fill_value='?',\n",
      "            dtype=object), 'params': [{'max_depth': 10, 'n_estimators': 10, 'n_jobs': -1}, {'max_depth': 10, 'n_estimators': 100, 'n_jobs': -1}, {'max_depth': 10, 'n_estimators': 200, 'n_jobs': -1}, {'max_depth': 10, 'n_estimators': 300, 'n_jobs': -1}, {'max_depth': 20, 'n_estimators': 10, 'n_jobs': -1}, {'max_depth': 20, 'n_estimators': 100, 'n_jobs': -1}, {'max_depth': 20, 'n_estimators': 200, 'n_jobs': -1}, {'max_depth': 20, 'n_estimators': 300, 'n_jobs': -1}, {'max_depth': 30, 'n_estimators': 10, 'n_jobs': -1}, {'max_depth': 30, 'n_estimators': 100, 'n_jobs': -1}, {'max_depth': 30, 'n_estimators': 200, 'n_jobs': -1}, {'max_depth': 30, 'n_estimators': 300, 'n_jobs': -1}, {'max_depth': 40, 'n_estimators': 10, 'n_jobs': -1}, {'max_depth': 40, 'n_estimators': 100, 'n_jobs': -1}, {'max_depth': 40, 'n_estimators': 200, 'n_jobs': -1}, {'max_depth': 40, 'n_estimators': 300, 'n_jobs': -1}, {'max_depth': 50, 'n_estimators': 10, 'n_jobs': -1}, {'max_depth': 50, 'n_estimators': 100, 'n_jobs': -1}, {'max_depth': 50, 'n_estimators': 200, 'n_jobs': -1}, {'max_depth': 50, 'n_estimators': 300, 'n_jobs': -1}], 'split0_test_score': array([0.86646634, 0.87246511, 0.8732277 , 0.87319205, 0.8735995 ,\n",
      "       0.88570044, 0.88652221, 0.88659622, 0.87006482, 0.88622382,\n",
      "       0.8868225 , 0.88708206, 0.87337964, 0.88616453, 0.88672105,\n",
      "       0.88734281, 0.87473528, 0.88550629, 0.88647284, 0.88699953]), 'split1_test_score': array([0.86362907, 0.86971642, 0.87016628, 0.87080886, 0.8702456 ,\n",
      "       0.88434452, 0.8846643 , 0.88426671, 0.87011048, 0.88465115,\n",
      "       0.88471976, 0.88502555, 0.87172989, 0.88429671, 0.88430216,\n",
      "       0.88409206, 0.87171312, 0.8828691 , 0.883949  , 0.88453105]), 'split2_test_score': array([0.87209992, 0.88062187, 0.88046157, 0.88024338, 0.88010263,\n",
      "       0.89199596, 0.89244382, 0.8925431 , 0.87961577, 0.89176823,\n",
      "       0.8929411 , 0.89271274, 0.87929656, 0.8911767 , 0.89242452,\n",
      "       0.89272546, 0.87816648, 0.89214006, 0.89201308, 0.89228471]), 'mean_test_score': array([0.8673984 , 0.87426772, 0.87461845, 0.87474802, 0.87464919,\n",
      "       0.8873469 , 0.88787671, 0.88780195, 0.87326354, 0.88754767,\n",
      "       0.88816106, 0.8882734 , 0.87480196, 0.8872126 , 0.88781586,\n",
      "       0.88805341, 0.87487162, 0.88683842, 0.88747826, 0.88793839]), 'std_test_score': array([0.00352038, 0.00463093, 0.00431647, 0.00400563, 0.00409191,\n",
      "       0.00333355, 0.0033172 , 0.00348467, 0.00449159, 0.00305257,\n",
      "       0.0034872 , 0.00324932, 0.00324863, 0.00290482, 0.00340505,\n",
      "       0.00356013, 0.00263627, 0.00390024, 0.00336797, 0.00323422]), 'rank_test_score': array([20, 18, 17, 15, 16, 10,  5,  7, 19,  8,  2,  1, 14, 11,  6,  3, 13,\n",
      "       12,  9,  4]), 'split0_train_score': array([0.91767644, 0.92332956, 0.92390982, 0.92393   , 0.97640901,\n",
      "       0.98298295, 0.98347409, 0.98358178, 0.97787864, 0.9843361 ,\n",
      "       0.98473962, 0.98486125, 0.97781138, 0.98415804, 0.98473155,\n",
      "       0.98472347, 0.97771001, 0.98422217, 0.98466548, 0.9848315 ]), 'split1_train_score': array([0.91861449, 0.92467587, 0.92515076, 0.92541151, 0.9768017 ,\n",
      "       0.98341669, 0.98390242, 0.98383936, 0.9777793 , 0.98461807,\n",
      "       0.98487031, 0.98505469, 0.9780021 , 0.98460233, 0.98481892,\n",
      "       0.98497229, 0.97767835, 0.98438529, 0.98495657, 0.98502262]), 'split2_train_score': array([0.91982596, 0.92332751, 0.92359663, 0.9235052 , 0.97499917,\n",
      "       0.9824734 , 0.98275842, 0.98297322, 0.97673655, 0.98347097,\n",
      "       0.98392624, 0.98415959, 0.97578532, 0.98363555, 0.98397245,\n",
      "       0.98414181, 0.97618636, 0.98364756, 0.98408232, 0.98420463]), 'mean_train_score': array([0.91870563, 0.92377765, 0.92421907, 0.92428224, 0.97606996,\n",
      "       0.98295768, 0.98337831, 0.98346479, 0.97746483, 0.98414171,\n",
      "       0.98451205, 0.98469184, 0.9771996 , 0.98413198, 0.98450764,\n",
      "       0.98461252, 0.97719157, 0.984085  , 0.98456812, 0.98468625]), 'std_train_score': array([0.0008799 , 0.00063514, 0.0006711 , 0.00081713, 0.00077395,\n",
      "       0.00038551, 0.00047192, 0.00036315, 0.00051657, 0.00048806,\n",
      "       0.00041766, 0.00038456, 0.00100307, 0.00039512, 0.00038011,\n",
      "       0.000348  , 0.00071091, 0.00031641, 0.00036349, 0.00034938])}\n"
     ]
    }
   ],
   "source": [
    "# (4)ランダムフォレスト回帰、price対数化\n",
    "df = pd.read_csv(\"kc_house_data.csv\")\n",
    "df[\"date\"] = pd.to_datetime(df.date).map(lambda x:x.value / 10**9)  # dateをunix time(秒)に変換\n",
    "df[\"price\"] = df[\"price\"].apply( lambda x: np.log(x) ) # log関数で変換\n",
    "\n",
    "X = df.drop([\"price\", \"sqft_basement\"], axis=1) # 目的変数からsqft_basementのみ削除\n",
    "y = df[\"price\"]\n",
    "\n",
    "parameters = {\n",
    "    'n_estimators'      : [10, 100, 200, 300], # default: 10\n",
    "    'n_jobs'            : [-1], # 高速化のため\n",
    "    'max_depth'         : [10, 20, 30, 40, 50], # default: None\n",
    "}\n",
    "\n",
    "clf = GridSearchCV(RandomForestRegressor(), parameters)\n",
    "clf.fit(X, y)\n",
    " \n",
    "print(clf.best_estimator_)\n",
    "print(clf.best_score_)\n",
    "print(clf.cv_results_)"
   ]
  },
  {
   "cell_type": "markdown",
   "metadata": {
    "ExecuteTime": {
     "end_time": "2018-04-20T20:37:21.343406Z",
     "start_time": "2018-04-20T20:37:21.327779Z"
    }
   },
   "source": [
    "以下の組み合わせとなった。\n",
    "\n",
    "- n_estimators=300\n",
    "- max_depth=30"
   ]
  },
  {
   "cell_type": "markdown",
   "metadata": {},
   "source": [
    "### zipcodeのターゲットエンコーディング"
   ]
  },
  {
   "cell_type": "markdown",
   "metadata": {},
   "source": [
    "#### 現状の特徴量の重要性確認"
   ]
  },
  {
   "cell_type": "code",
   "execution_count": 168,
   "metadata": {
    "ExecuteTime": {
     "end_time": "2018-04-20T20:10:45.097154Z",
     "start_time": "2018-04-20T20:10:43.094538Z"
    }
   },
   "outputs": [
    {
     "name": "stdout",
     "output_type": "stream",
     "text": [
      "Training and Test: \n",
      " Train MAE: 29474.173\n",
      " Train SCR: 0.978\n",
      " Test  MAE: 76246.947\n",
      " Test  SCR: 0.88\n"
     ]
    },
    {
     "data": {
      "text/plain": [
       "Text(0,0.5,'Feature')"
      ]
     },
     "execution_count": 168,
     "metadata": {},
     "output_type": "execute_result"
    },
    {
     "data": {
      "image/png": "[encoded data removed]",
      "text/plain": [
       "<matplotlib.figure.Figure at 0x21bd3737400>"
      ]
     },
     "metadata": {},
     "output_type": "display_data"
    }
   ],
   "source": [
    "# (4)ランダムフォレスト回帰、price対数化\n",
    "df = pd.read_csv(\"kc_house_data.csv\")\n",
    "df[\"date\"] = pd.to_datetime(df.date).map(lambda x:x.value / 10**9)  # dateをunix time(秒)に変換\n",
    "df[\"price\"] = df[\"price\"].apply( lambda x: np.log(x) ) # log関数で変換\n",
    "X = df.drop([\"price\", \"sqft_basement\"], axis=1) # 目的変数からsqft_basementのみ削除\n",
    "y = df[\"price\"]\n",
    "\n",
    "# データを訓練データ80%、テストデータ20%に分割\n",
    "X_train, X_test, y_train, y_test = train_test_split(X, y, test_size=0.2, random_state=42)\n",
    "\n",
    "# ランダムフォレスト回帰\n",
    "regr = RandomForestRegressor()\n",
    "regr.fit(X_train, y_train)\n",
    "\n",
    "print(\"Training and Test: \")\n",
    "# 訓練データでの学習、MAEの計算\n",
    "y_pred = regr.predict(X_train)\n",
    "mae = mean_absolute_error(np.exp(y_train), np.exp(y_pred))\n",
    "print(\" Train MAE: %s\"%round(mae,3))\n",
    "score = regr.score(X_train, y_train)\n",
    "print(\" Train SCR: %s\"%round(score,3))\n",
    "\n",
    "# テストデータでMAEの計算\n",
    "y_pred = regr.predict(X_test)\n",
    "mae = mean_absolute_error(np.exp(y_test), np.exp(y_pred))\n",
    "print(\" Test  MAE: %s\"%round(mae,3))\n",
    "score = regr.score(X_test, y_test)\n",
    "print(\" Test  SCR: %s\"%round(score,3))\n",
    "\n",
    "##### 特徴量の重要度を確認する #####\n",
    "n_features = X_train.shape[1]\n",
    "plt.barh(range(n_features), regr.feature_importances_, align='center')\n",
    "plt.yticks(np.arange(n_features), X_train.columns)\n",
    "plt.xlabel(\"Feature importance\")\n",
    "plt.ylabel(\"Feature\")"
   ]
  },
  {
   "cell_type": "markdown",
   "metadata": {
    "ExecuteTime": {
     "end_time": "2018-04-20T20:04:50.771347Z",
     "start_time": "2018-04-20T20:04:50.724465Z"
    }
   },
   "source": [
    "以下の順で特徴量の重要度が表されている\n",
    "- grade（グレード）\n",
    "- lat（緯度）\n",
    "- sqft_living（家の面積）"
   ]
  },
  {
   "cell_type": "markdown",
   "metadata": {
    "ExecuteTime": {
     "end_time": "2018-04-20T23:22:20.712544Z",
     "start_time": "2018-04-20T23:22:20.696918Z"
    }
   },
   "source": [
    "#### ターゲットエンコーディング"
   ]
  },
  {
   "cell_type": "code",
   "execution_count": 193,
   "metadata": {
    "ExecuteTime": {
     "end_time": "2018-04-20T21:04:56.066893Z",
     "start_time": "2018-04-20T21:04:46.091440Z"
    }
   },
   "outputs": [
    {
     "data": {
      "image/png": "[encoded data removed]",
      "text/plain": [
       "<matplotlib.figure.Figure at 0x21ba29be4e0>"
      ]
     },
     "metadata": {},
     "output_type": "display_data"
    },
    {
     "data": {
      "image/png": "[encoded data removed]",
      "text/plain": [
       "<matplotlib.figure.Figure at 0x21ba479b128>"
      ]
     },
     "metadata": {},
     "output_type": "display_data"
    },
    {
     "data": {
      "image/png": "[encoded data removed]",
      "text/plain": [
       "<matplotlib.figure.Figure at 0x21ba29be550>"
      ]
     },
     "metadata": {},
     "output_type": "display_data"
    },
    {
     "data": {
      "image/png": "[encoded data removed]",
      "text/plain": [
       "<matplotlib.figure.Figure at 0x21ba296e860>"
      ]
     },
     "metadata": {},
     "output_type": "display_data"
    },
    {
     "data": {
      "image/png": "[encoded data removed]",
      "text/plain": [
       "<matplotlib.figure.Figure at 0x21b804d1390>"
      ]
     },
     "metadata": {},
     "output_type": "display_data"
    },
    {
     "name": "stdout",
     "output_type": "stream",
     "text": [
      " Train MAE: 29403.77\n",
      " Train SCR: 0.979\n",
      " Test  MAE: 73063.525\n",
      " Test  SCR: 0.877\n"
     ]
    }
   ],
   "source": [
    "# ターゲットエンコーディングを行う関数\n",
    "def target_encoding(df, column, target_column=None, dict=None):\n",
    "    if (target_column == None and dict == None):\n",
    "        raise Exception('invalid parameter')\n",
    "    if (target_column != None):\n",
    "        c = column\n",
    "        vals = df[[target_column,c]].groupby(c).mean()\n",
    "#        display(vals)\n",
    "        d = vals.to_dict()[target_column]\n",
    "        df[c + '_numeric'] = df[c].replace(d)\n",
    "#        display(df) \n",
    "        return d\n",
    "    if (dict != None):\n",
    "        c = column\n",
    "        d = dict\n",
    "        df[c + '_numeric'] = df[c].replace(d)\n",
    "        return\n",
    "\n",
    "# 計算結果\n",
    "result = pd.DataFrame(columns=[\"train_mae\", \"train_score\", \"test_mae\", \"test_score\"])\n",
    "\n",
    "def train_and_test_rf_zipcode_encoding(n_estimators=10, max_depth=None):\n",
    "    global result\n",
    "    \n",
    "    # (4)ランダムフォレスト回帰、price対数化、zipcodeをtarget encoding\n",
    "    df = pd.read_csv(\"kc_house_data.csv\")\n",
    "    df[\"date\"] = pd.to_datetime(df.date).map(lambda x:x.value / 10**9)  # dateをunix time(秒)に変換\n",
    "    df[\"price\"] = df[\"price\"].apply( lambda x: np.log(x) ) # log関数で変換\n",
    "\n",
    "    # target encodingを計算するため、いったんpriceも含めてXを作成する\n",
    "    X = df.drop([\"sqft_basement\"], axis=1) # 目的変数からsqft_basementのみ削除\n",
    "    y = df[\"price\"]\n",
    "\n",
    "    # データを訓練データ80%、テストデータ20%に分割 ※ランダムに分割\n",
    "    X_train, X_test, y_train, y_test = train_test_split(X, y, test_size=0.2)\n",
    "    X_train = X_train.copy()\n",
    "    X_test = X_test.copy()\n",
    "\n",
    "    # X_trainをtarget encodingし、priceを削除\n",
    "    vals = X_train[['price', 'zipcode']].groupby('zipcode').mean()\n",
    "    d = vals.to_dict()['price']\n",
    "    X_train['zipcode_numeric'] = X_train['zipcode'].replace(d)\n",
    "    X_train = X_train.drop([\"price\"], axis=1)\n",
    "\n",
    "    # X_testをtarget encodingし、priceを削除\n",
    "    X_test['zipcode_numeric'] = X_test['zipcode'].replace(d)\n",
    "    X_test = X_test.drop([\"price\"], axis=1)\n",
    "\n",
    "    # ランダムフォレスト回帰\n",
    "    regr = RandomForestRegressor(n_estimators=n_estimators, max_depth=max_depth)\n",
    "    regr.fit(X_train, y_train)\n",
    "\n",
    "    # 訓練データでの学習、MAEの計算\n",
    "    y_pred = regr.predict(X_train)\n",
    "    train_mae = mean_absolute_error(np.exp(y_train), np.exp(y_pred))\n",
    "    train_score = regr.score(X_train, y_train)\n",
    "\n",
    "    # テストデータでMAEの計算\n",
    "    y_pred = regr.predict(X_test)\n",
    "    test_mae = mean_absolute_error(np.exp(y_test), np.exp(y_pred))\n",
    "    test_score = regr.score(X_test, y_test)\n",
    "\n",
    "    result = result.append(pd.DataFrame({\"train_mae\":[train_mae], \"train_score\":[train_score], \"test_mae\":[test_mae], \"test_score\":[test_score]}), ignore_index=True)\n",
    "\n",
    "    ##### 特徴量の重要度を確認する #####\n",
    "    n_features = X_train.shape[1]\n",
    "    plt.barh(range(n_features), regr.feature_importances_, align='center')\n",
    "    plt.yticks(np.arange(n_features), X_train.columns)\n",
    "    plt.xlabel(\"Feature importance\")\n",
    "    plt.ylabel(\"Feature\")\n",
    "    plt.show()\n",
    "    \n",
    "for i in range(5):\n",
    "    train_and_test_rf_zipcode_encoding()\n",
    "\n",
    "# 訓練データでの学習、MAEの計算\n",
    "print(\" Train MAE: %s\"%round(result[\"train_mae\"].mean(),3))\n",
    "print(\" Train SCR: %s\"%round(result[\"train_score\"].mean(),3))\n",
    "\n",
    "# テストデータでMAEの計算\n",
    "print(\" Test  MAE: %s\"%round(result[\"test_mae\"].mean(),3))\n",
    "print(\" Test  SCR: %s\"%round(result[\"test_score\"].mean(),3))\n",
    "\n"
   ]
  },
  {
   "cell_type": "markdown",
   "metadata": {
    "ExecuteTime": {
     "end_time": "2018-04-20T20:05:54.177103Z",
     "start_time": "2018-04-20T20:05:54.130289Z"
    }
   },
   "source": [
    "zipcodeのターゲットエンコーディングを導入する前よりスコアの値が若干程度増えた。\n",
    "以下の順で特徴量の重要度が表されている。\n",
    "\n",
    "- zipcode_numeric（エリア）\n",
    "- sqft_living（家の面積）\n",
    "- grade（グレード）"
   ]
  },
  {
   "cell_type": "markdown",
   "metadata": {},
   "source": [
    "#### グリッドサーチで決定したパラメータとの組み合わせ"
   ]
  },
  {
   "cell_type": "markdown",
   "metadata": {},
   "source": [
    "以下の組み合わせで試してみる\n",
    "\n",
    "- グリッドサーチで決定したパラメータ(n_estimators=300, max_depth=30)\n",
    "- zipcodeエンコーディング"
   ]
  },
  {
   "cell_type": "code",
   "execution_count": 218,
   "metadata": {
    "ExecuteTime": {
     "end_time": "2018-04-20T23:47:25.658309Z",
     "start_time": "2018-04-20T23:42:32.667551Z"
    }
   },
   "outputs": [
    {
     "data": {
      "image/png": "[encoded data removed]",
      "text/plain": [
       "<matplotlib.figure.Figure at 0x21ba292e828>"
      ]
     },
     "metadata": {},
     "output_type": "display_data"
    },
    {
     "data": {
      "image/png": "[encoded data removed]",
      "text/plain": [
       "<matplotlib.figure.Figure at 0x21b8020ef98>"
      ]
     },
     "metadata": {},
     "output_type": "display_data"
    },
    {
     "data": {
      "image/png": "[encoded data removed]",
      "text/plain": [
       "<matplotlib.figure.Figure at 0x21b8005fc18>"
      ]
     },
     "metadata": {},
     "output_type": "display_data"
    },
    {
     "data": {
      "image/png": "[encoded data removed]",
      "text/plain": [
       "<matplotlib.figure.Figure at 0x21b800b6048>"
      ]
     },
     "metadata": {},
     "output_type": "display_data"
    },
    {
     "data": {
      "image/png": "[encoded data removed]",
      "text/plain": [
       "<matplotlib.figure.Figure at 0x21ba4643438>"
      ]
     },
     "metadata": {},
     "output_type": "display_data"
    },
    {
     "name": "stdout",
     "output_type": "stream",
     "text": [
      " Train MAE: 25390.849\n",
      " Train SCR: 0.986\n",
      " Test  MAE: 67839.663\n",
      " Test  SCR: 0.892\n"
     ]
    }
   ],
   "source": [
    "# 計算結果\n",
    "result = pd.DataFrame(columns=[\"train_mae\", \"train_score\", \"test_mae\", \"test_score\"])\n",
    "\n",
    "for i in range(5):\n",
    "    train_and_test_rf_zipcode_encoding(n_estimators=300, max_depth=30)\n",
    "\n",
    "# 訓練データでの学習、MAEの計算\n",
    "print(\" Train MAE: %s\"%round(result[\"train_mae\"].mean(),3))\n",
    "print(\" Train SCR: %s\"%round(result[\"train_score\"].mean(),3))\n",
    "\n",
    "# テストデータでMAEの計算\n",
    "print(\" Test  MAE: %s\"%round(result[\"test_mae\"].mean(),3))\n",
    "print(\" Test  SCR: %s\"%round(result[\"test_score\"].mean(),3))"
   ]
  },
  {
   "cell_type": "markdown",
   "metadata": {},
   "source": [
    "## GradientBoostingRegressor"
   ]
  },
  {
   "cell_type": "markdown",
   "metadata": {
    "ExecuteTime": {
     "end_time": "2018-04-20T21:27:01.422893Z",
     "start_time": "2018-04-20T21:27:01.407267Z"
    }
   },
   "source": [
    "### グリッドサーチによるパラメータチューニング"
   ]
  },
  {
   "cell_type": "code",
   "execution_count": 209,
   "metadata": {
    "ExecuteTime": {
     "end_time": "2018-04-20T23:22:20.696918Z",
     "start_time": "2018-04-20T23:12:28.066762Z"
    }
   },
   "outputs": [
    {
     "name": "stdout",
     "output_type": "stream",
     "text": [
      "GradientBoostingRegressor(alpha=0.9, criterion='friedman_mse', init=None,\n",
      "             learning_rate=0.1, loss='ls', max_depth=6, max_features=1.0,\n",
      "             max_leaf_nodes=None, min_impurity_decrease=0.0,\n",
      "             min_impurity_split=None, min_samples_leaf=3,\n",
      "             min_samples_split=2, min_weight_fraction_leaf=0.0,\n",
      "             n_estimators=100, presort='auto', random_state=None,\n",
      "             subsample=1.0, verbose=0, warm_start=False)\n",
      "0.9002503605249577\n",
      "{'mean_fit_time': array([2.2414128 , 2.18108471, 2.21971742, 2.38908776, 0.80824566,\n",
      "       0.84384362, 0.78258443, 0.82712499, 0.32001289, 0.38025276,\n",
      "       0.32818007, 0.29169456, 4.87836369, 4.71656132, 4.56369408,\n",
      "       4.66615176, 1.48520144, 1.48514557, 1.50477354, 1.38175011,\n",
      "       0.47400109, 0.4792095 , 0.49057953, 0.45317006, 2.66815845,\n",
      "       2.53354796, 2.52822034, 2.51995556, 0.83688879, 0.80326422,\n",
      "       0.85759075, 0.85425735, 0.31882811, 0.32293328, 0.32568733,\n",
      "       0.29869397, 5.6365482 , 5.92258541, 5.52315362, 5.57847476,\n",
      "       1.81222749, 1.66391603, 1.62572273, 1.61278343, 0.50525943,\n",
      "       0.50003266, 0.50407672, 0.4792188 , 2.7011435 , 2.79813894,\n",
      "       2.90170717, 2.81618214, 0.91259003, 0.89497821, 0.91424163,\n",
      "       0.92718093, 0.35420402, 0.31844473, 0.37862412, 0.36986883,\n",
      "       5.96636923, 6.40037902, 6.21582754, 6.05981207, 1.74873932,\n",
      "       1.84812252, 1.75198881, 1.67780789, 0.53651722, 0.54793421,\n",
      "       0.63027525, 0.58847515, 2.74821742, 2.59055471, 2.79815221,\n",
      "       2.92168053, 1.03769739, 0.92197355, 0.88163002, 0.9472843 ,\n",
      "       0.41150292, 0.37457999, 0.35005124, 0.35420402, 5.83631007,\n",
      "       5.79040821, 5.90191038, 6.17556262, 1.77683783, 1.92448823,\n",
      "       1.8662676 , 1.794952  , 0.62146926, 0.52660656, 0.55313595,\n",
      "       0.51238728]), 'std_fit_time': array([3.77085500e-02, 2.84821887e-02, 2.26323046e-02, 5.81617205e-02,\n",
      "       1.59608430e-02, 8.93002257e-02, 2.70658210e-02, 5.73135575e-02,\n",
      "       2.00745911e-02, 4.48071772e-02, 1.27591282e-02, 1.47351003e-02,\n",
      "       9.09701069e-02, 1.60830474e-01, 1.15330439e-01, 1.83664482e-01,\n",
      "       3.28108789e-02, 4.66308093e-02, 2.58027465e-02, 3.05482780e-02,\n",
      "       7.37121969e-03, 1.94779663e-02, 1.85030829e-02, 2.25907108e-05,\n",
      "       7.30432029e-02, 5.75177953e-02, 6.31687424e-02, 2.49961989e-02,\n",
      "       1.35203161e-02, 2.50635063e-02, 5.78592131e-02, 2.65614768e-02,\n",
      "       8.90074006e-03, 7.37424172e-03, 3.49813223e-03, 1.49986476e-02,\n",
      "       2.25644072e-01, 5.04283551e-01, 2.58019017e-01, 4.35560088e-01,\n",
      "       1.86620957e-01, 7.01739312e-02, 1.13181004e-01, 1.21686387e-01,\n",
      "       7.36500561e-03, 1.27720685e-02, 1.63654029e-02, 7.36193086e-03,\n",
      "       7.26263074e-02, 8.41354945e-02, 1.58121712e-01, 1.12519290e-01,\n",
      "       7.29432378e-02, 3.84456752e-02, 1.11661613e-02, 5.15647023e-02,\n",
      "       3.21112994e-02, 6.92239233e-03, 3.72732390e-02, 1.48041151e-02,\n",
      "       3.21434044e-01, 8.69004431e-02, 4.59196994e-01, 1.61990118e-01,\n",
      "       5.95348425e-02, 1.28863178e-01, 5.17032455e-02, 1.51329814e-02,\n",
      "       1.94888821e-02, 4.49227264e-02, 2.65616171e-02, 3.06060282e-02,\n",
      "       1.82172365e-02, 6.26372291e-02, 1.26981278e-01, 4.42469641e-02,\n",
      "       5.74525906e-02, 5.56154544e-02, 2.47661562e-02, 3.91739479e-02,\n",
      "       7.79593517e-02, 2.17807399e-02, 4.24904283e-02, 7.36749411e-03,\n",
      "       2.94873513e-02, 1.39551543e-01, 2.32949029e-01, 1.89223336e-01,\n",
      "       1.04763189e-01, 8.80533582e-02, 1.07650431e-01, 6.90449534e-02,\n",
      "       4.69490415e-02, 1.96355516e-02, 2.75537621e-02, 2.01773431e-02]), 'mean_score_time': array([0.02082419, 0.01562484, 0.0208447 , 0.03125374, 0.0208358 ,\n",
      "       0.02082856, 0.02604715, 0.02663596, 0.02084422, 0.02084668,\n",
      "       0.02081839, 0.01563668, 0.02604413, 0.02604477, 0.02604405,\n",
      "       0.0312326 , 0.03124309, 0.03125302, 0.03124976, 0.03124324,\n",
      "       0.02083445, 0.03125246, 0.02604357, 0.02083691, 0.02604731,\n",
      "       0.01562746, 0.03126033, 0.02083524, 0.02083492, 0.03125238,\n",
      "       0.02083333, 0.0260462 , 0.02604461, 0.0208443 , 0.02083524,\n",
      "       0.01562484, 0.04254301, 0.03645325, 0.03646199, 0.03646119,\n",
      "       0.03646278, 0.03125564, 0.03645841, 0.03124245, 0.03125389,\n",
      "       0.03125612, 0.02604214, 0.02604373, 0.02082666, 0.02604612,\n",
      "       0.03125342, 0.02604397, 0.03670986, 0.03125413, 0.01562754,\n",
      "       0.02604628, 0.02083874, 0.02083691, 0.01562087, 0.01563414,\n",
      "       0.04166985, 0.05209033, 0.03645102, 0.04165991, 0.04167072,\n",
      "       0.03125326, 0.0416731 , 0.04166969, 0.0312554 , 0.0312531 ,\n",
      "       0.03646509, 0.03125334, 0.02084168, 0.02603539, 0.01562047,\n",
      "       0.02605589, 0.02604453, 0.03125397, 0.02603459, 0.02604055,\n",
      "       0.02604437, 0.02083794, 0.02604437, 0.0219206 , 0.04167287,\n",
      "       0.03124889, 0.04166993, 0.04687834, 0.03645277, 0.04167008,\n",
      "       0.03996595, 0.0468781 , 0.03124992, 0.04167255, 0.0416708 ,\n",
      "       0.03125381]), 'std_score_time': array([7.34872460e-03, 4.89903609e-07, 7.36003532e-03, 4.64491501e-06,\n",
      "       7.36681962e-03, 7.35490607e-03, 7.36468411e-03, 7.82439883e-03,\n",
      "       7.36120924e-03, 7.37783451e-03, 7.37963226e-03, 1.41412569e-05,\n",
      "       7.36541474e-03, 7.36670747e-03, 7.36738160e-03, 1.31122994e-05,\n",
      "       1.43329033e-05, 5.94720425e-07, 1.27618475e-02, 1.51169830e-05,\n",
      "       7.36811360e-03, 8.99132768e-07, 7.36552724e-03, 7.36755015e-03,\n",
      "       7.36513372e-03, 1.14065012e-06, 1.20824886e-05, 7.36620140e-03,\n",
      "       7.36625762e-03, 3.44402769e-06, 7.36417835e-03, 7.36282965e-03,\n",
      "       7.36811206e-03, 7.37968893e-03, 7.36485271e-03, 2.15311324e-06,\n",
      "       1.41561433e-02, 7.37183039e-03, 7.36631380e-03, 7.36653865e-03,\n",
      "       7.36777490e-03, 1.17340271e-06, 7.36766319e-03, 1.72589729e-05,\n",
      "       2.07340411e-05, 2.06323544e-06, 7.36974178e-03, 7.34373664e-03,\n",
      "       7.37278408e-03, 7.36631398e-03, 7.86741172e-07, 7.36631394e-03,\n",
      "       7.71484018e-03, 1.17340271e-06, 6.25769923e-07, 7.36828074e-03,\n",
      "       7.36490915e-03, 7.36771885e-03, 5.39947756e-06, 1.70379877e-05,\n",
      "       7.36608901e-03, 7.36513405e-03, 7.37407791e-03, 7.35671421e-03,\n",
      "       7.36721300e-03, 7.37000982e-07, 7.36839304e-03, 7.36479725e-03,\n",
      "       2.92865845e-06, 3.05944706e-06, 7.36563944e-03, 8.92080638e-07,\n",
      "       7.37581090e-03, 7.38064373e-03, 2.68098132e-05, 7.37459061e-03,\n",
      "       7.36552745e-03, 1.38109105e-06, 7.35952465e-03, 7.36423568e-03,\n",
      "       7.36676339e-03, 7.36547143e-03, 7.36828065e-03, 8.90450520e-03,\n",
      "       7.36603298e-03, 5.73967936e-06, 7.36631398e-03, 2.80754117e-06,\n",
      "       7.35664811e-03, 7.36710053e-03, 1.23160964e-02, 1.27573697e-02,\n",
      "       1.17340271e-06, 7.36985414e-03, 7.36794356e-03, 1.27652315e-06]), 'param_learning_rate': masked_array(data=[0.1, 0.1, 0.1, 0.1, 0.1, 0.1, 0.1, 0.1, 0.1, 0.1, 0.1,\n",
      "                   0.1, 0.1, 0.1, 0.1, 0.1, 0.1, 0.1, 0.1, 0.1, 0.1, 0.1,\n",
      "                   0.1, 0.1, 0.05, 0.05, 0.05, 0.05, 0.05, 0.05, 0.05,\n",
      "                   0.05, 0.05, 0.05, 0.05, 0.05, 0.05, 0.05, 0.05, 0.05,\n",
      "                   0.05, 0.05, 0.05, 0.05, 0.05, 0.05, 0.05, 0.05, 0.02,\n",
      "                   0.02, 0.02, 0.02, 0.02, 0.02, 0.02, 0.02, 0.02, 0.02,\n",
      "                   0.02, 0.02, 0.02, 0.02, 0.02, 0.02, 0.02, 0.02, 0.02,\n",
      "                   0.02, 0.02, 0.02, 0.02, 0.02, 0.01, 0.01, 0.01, 0.01,\n",
      "                   0.01, 0.01, 0.01, 0.01, 0.01, 0.01, 0.01, 0.01, 0.01,\n",
      "                   0.01, 0.01, 0.01, 0.01, 0.01, 0.01, 0.01, 0.01, 0.01,\n",
      "                   0.01, 0.01],\n",
      "             mask=[False, False, False, False, False, False, False, False,\n",
      "                   False, False, False, False, False, False, False, False,\n",
      "                   False, False, False, False, False, False, False, False,\n",
      "                   False, False, False, False, False, False, False, False,\n",
      "                   False, False, False, False, False, False, False, False,\n",
      "                   False, False, False, False, False, False, False, False,\n",
      "                   False, False, False, False, False, False, False, False,\n",
      "                   False, False, False, False, False, False, False, False,\n",
      "                   False, False, False, False, False, False, False, False,\n",
      "                   False, False, False, False, False, False, False, False,\n",
      "                   False, False, False, False, False, False, False, False,\n",
      "                   False, False, False, False, False, False, False, False],\n",
      "       fill_value='?',\n",
      "            dtype=object), 'param_max_depth': masked_array(data=[4, 4, 4, 4, 4, 4, 4, 4, 4, 4, 4, 4, 6, 6, 6, 6, 6, 6,\n",
      "                   6, 6, 6, 6, 6, 6, 4, 4, 4, 4, 4, 4, 4, 4, 4, 4, 4, 4,\n",
      "                   6, 6, 6, 6, 6, 6, 6, 6, 6, 6, 6, 6, 4, 4, 4, 4, 4, 4,\n",
      "                   4, 4, 4, 4, 4, 4, 6, 6, 6, 6, 6, 6, 6, 6, 6, 6, 6, 6,\n",
      "                   4, 4, 4, 4, 4, 4, 4, 4, 4, 4, 4, 4, 6, 6, 6, 6, 6, 6,\n",
      "                   6, 6, 6, 6, 6, 6],\n",
      "             mask=[False, False, False, False, False, False, False, False,\n",
      "                   False, False, False, False, False, False, False, False,\n",
      "                   False, False, False, False, False, False, False, False,\n",
      "                   False, False, False, False, False, False, False, False,\n",
      "                   False, False, False, False, False, False, False, False,\n",
      "                   False, False, False, False, False, False, False, False,\n",
      "                   False, False, False, False, False, False, False, False,\n",
      "                   False, False, False, False, False, False, False, False,\n",
      "                   False, False, False, False, False, False, False, False,\n",
      "                   False, False, False, False, False, False, False, False,\n",
      "                   False, False, False, False, False, False, False, False,\n",
      "                   False, False, False, False, False, False, False, False],\n",
      "       fill_value='?',\n",
      "            dtype=object), 'param_max_features': masked_array(data=[1.0, 1.0, 1.0, 1.0, 0.3, 0.3, 0.3, 0.3, 0.1, 0.1, 0.1,\n",
      "                   0.1, 1.0, 1.0, 1.0, 1.0, 0.3, 0.3, 0.3, 0.3, 0.1, 0.1,\n",
      "                   0.1, 0.1, 1.0, 1.0, 1.0, 1.0, 0.3, 0.3, 0.3, 0.3, 0.1,\n",
      "                   0.1, 0.1, 0.1, 1.0, 1.0, 1.0, 1.0, 0.3, 0.3, 0.3, 0.3,\n",
      "                   0.1, 0.1, 0.1, 0.1, 1.0, 1.0, 1.0, 1.0, 0.3, 0.3, 0.3,\n",
      "                   0.3, 0.1, 0.1, 0.1, 0.1, 1.0, 1.0, 1.0, 1.0, 0.3, 0.3,\n",
      "                   0.3, 0.3, 0.1, 0.1, 0.1, 0.1, 1.0, 1.0, 1.0, 1.0, 0.3,\n",
      "                   0.3, 0.3, 0.3, 0.1, 0.1, 0.1, 0.1, 1.0, 1.0, 1.0, 1.0,\n",
      "                   0.3, 0.3, 0.3, 0.3, 0.1, 0.1, 0.1, 0.1],\n",
      "             mask=[False, False, False, False, False, False, False, False,\n",
      "                   False, False, False, False, False, False, False, False,\n",
      "                   False, False, False, False, False, False, False, False,\n",
      "                   False, False, False, False, False, False, False, False,\n",
      "                   False, False, False, False, False, False, False, False,\n",
      "                   False, False, False, False, False, False, False, False,\n",
      "                   False, False, False, False, False, False, False, False,\n",
      "                   False, False, False, False, False, False, False, False,\n",
      "                   False, False, False, False, False, False, False, False,\n",
      "                   False, False, False, False, False, False, False, False,\n",
      "                   False, False, False, False, False, False, False, False,\n",
      "                   False, False, False, False, False, False, False, False],\n",
      "       fill_value='?',\n",
      "            dtype=object), 'param_min_samples_leaf': masked_array(data=[3, 5, 9, 17, 3, 5, 9, 17, 3, 5, 9, 17, 3, 5, 9, 17, 3,\n",
      "                   5, 9, 17, 3, 5, 9, 17, 3, 5, 9, 17, 3, 5, 9, 17, 3, 5,\n",
      "                   9, 17, 3, 5, 9, 17, 3, 5, 9, 17, 3, 5, 9, 17, 3, 5, 9,\n",
      "                   17, 3, 5, 9, 17, 3, 5, 9, 17, 3, 5, 9, 17, 3, 5, 9, 17,\n",
      "                   3, 5, 9, 17, 3, 5, 9, 17, 3, 5, 9, 17, 3, 5, 9, 17, 3,\n",
      "                   5, 9, 17, 3, 5, 9, 17, 3, 5, 9, 17],\n",
      "             mask=[False, False, False, False, False, False, False, False,\n",
      "                   False, False, False, False, False, False, False, False,\n",
      "                   False, False, False, False, False, False, False, False,\n",
      "                   False, False, False, False, False, False, False, False,\n",
      "                   False, False, False, False, False, False, False, False,\n",
      "                   False, False, False, False, False, False, False, False,\n",
      "                   False, False, False, False, False, False, False, False,\n",
      "                   False, False, False, False, False, False, False, False,\n",
      "                   False, False, False, False, False, False, False, False,\n",
      "                   False, False, False, False, False, False, False, False,\n",
      "                   False, False, False, False, False, False, False, False,\n",
      "                   False, False, False, False, False, False, False, False],\n",
      "       fill_value='?',\n",
      "            dtype=object), 'params': [{'learning_rate': 0.1, 'max_depth': 4, 'max_features': 1.0, 'min_samples_leaf': 3}, {'learning_rate': 0.1, 'max_depth': 4, 'max_features': 1.0, 'min_samples_leaf': 5}, {'learning_rate': 0.1, 'max_depth': 4, 'max_features': 1.0, 'min_samples_leaf': 9}, {'learning_rate': 0.1, 'max_depth': 4, 'max_features': 1.0, 'min_samples_leaf': 17}, {'learning_rate': 0.1, 'max_depth': 4, 'max_features': 0.3, 'min_samples_leaf': 3}, {'learning_rate': 0.1, 'max_depth': 4, 'max_features': 0.3, 'min_samples_leaf': 5}, {'learning_rate': 0.1, 'max_depth': 4, 'max_features': 0.3, 'min_samples_leaf': 9}, {'learning_rate': 0.1, 'max_depth': 4, 'max_features': 0.3, 'min_samples_leaf': 17}, {'learning_rate': 0.1, 'max_depth': 4, 'max_features': 0.1, 'min_samples_leaf': 3}, {'learning_rate': 0.1, 'max_depth': 4, 'max_features': 0.1, 'min_samples_leaf': 5}, {'learning_rate': 0.1, 'max_depth': 4, 'max_features': 0.1, 'min_samples_leaf': 9}, {'learning_rate': 0.1, 'max_depth': 4, 'max_features': 0.1, 'min_samples_leaf': 17}, {'learning_rate': 0.1, 'max_depth': 6, 'max_features': 1.0, 'min_samples_leaf': 3}, {'learning_rate': 0.1, 'max_depth': 6, 'max_features': 1.0, 'min_samples_leaf': 5}, {'learning_rate': 0.1, 'max_depth': 6, 'max_features': 1.0, 'min_samples_leaf': 9}, {'learning_rate': 0.1, 'max_depth': 6, 'max_features': 1.0, 'min_samples_leaf': 17}, {'learning_rate': 0.1, 'max_depth': 6, 'max_features': 0.3, 'min_samples_leaf': 3}, {'learning_rate': 0.1, 'max_depth': 6, 'max_features': 0.3, 'min_samples_leaf': 5}, {'learning_rate': 0.1, 'max_depth': 6, 'max_features': 0.3, 'min_samples_leaf': 9}, {'learning_rate': 0.1, 'max_depth': 6, 'max_features': 0.3, 'min_samples_leaf': 17}, {'learning_rate': 0.1, 'max_depth': 6, 'max_features': 0.1, 'min_samples_leaf': 3}, {'learning_rate': 0.1, 'max_depth': 6, 'max_features': 0.1, 'min_samples_leaf': 5}, {'learning_rate': 0.1, 'max_depth': 6, 'max_features': 0.1, 'min_samples_leaf': 9}, {'learning_rate': 0.1, 'max_depth': 6, 'max_features': 0.1, 'min_samples_leaf': 17}, {'learning_rate': 0.05, 'max_depth': 4, 'max_features': 1.0, 'min_samples_leaf': 3}, {'learning_rate': 0.05, 'max_depth': 4, 'max_features': 1.0, 'min_samples_leaf': 5}, {'learning_rate': 0.05, 'max_depth': 4, 'max_features': 1.0, 'min_samples_leaf': 9}, {'learning_rate': 0.05, 'max_depth': 4, 'max_features': 1.0, 'min_samples_leaf': 17}, {'learning_rate': 0.05, 'max_depth': 4, 'max_features': 0.3, 'min_samples_leaf': 3}, {'learning_rate': 0.05, 'max_depth': 4, 'max_features': 0.3, 'min_samples_leaf': 5}, {'learning_rate': 0.05, 'max_depth': 4, 'max_features': 0.3, 'min_samples_leaf': 9}, {'learning_rate': 0.05, 'max_depth': 4, 'max_features': 0.3, 'min_samples_leaf': 17}, {'learning_rate': 0.05, 'max_depth': 4, 'max_features': 0.1, 'min_samples_leaf': 3}, {'learning_rate': 0.05, 'max_depth': 4, 'max_features': 0.1, 'min_samples_leaf': 5}, {'learning_rate': 0.05, 'max_depth': 4, 'max_features': 0.1, 'min_samples_leaf': 9}, {'learning_rate': 0.05, 'max_depth': 4, 'max_features': 0.1, 'min_samples_leaf': 17}, {'learning_rate': 0.05, 'max_depth': 6, 'max_features': 1.0, 'min_samples_leaf': 3}, {'learning_rate': 0.05, 'max_depth': 6, 'max_features': 1.0, 'min_samples_leaf': 5}, {'learning_rate': 0.05, 'max_depth': 6, 'max_features': 1.0, 'min_samples_leaf': 9}, {'learning_rate': 0.05, 'max_depth': 6, 'max_features': 1.0, 'min_samples_leaf': 17}, {'learning_rate': 0.05, 'max_depth': 6, 'max_features': 0.3, 'min_samples_leaf': 3}, {'learning_rate': 0.05, 'max_depth': 6, 'max_features': 0.3, 'min_samples_leaf': 5}, {'learning_rate': 0.05, 'max_depth': 6, 'max_features': 0.3, 'min_samples_leaf': 9}, {'learning_rate': 0.05, 'max_depth': 6, 'max_features': 0.3, 'min_samples_leaf': 17}, {'learning_rate': 0.05, 'max_depth': 6, 'max_features': 0.1, 'min_samples_leaf': 3}, {'learning_rate': 0.05, 'max_depth': 6, 'max_features': 0.1, 'min_samples_leaf': 5}, {'learning_rate': 0.05, 'max_depth': 6, 'max_features': 0.1, 'min_samples_leaf': 9}, {'learning_rate': 0.05, 'max_depth': 6, 'max_features': 0.1, 'min_samples_leaf': 17}, {'learning_rate': 0.02, 'max_depth': 4, 'max_features': 1.0, 'min_samples_leaf': 3}, {'learning_rate': 0.02, 'max_depth': 4, 'max_features': 1.0, 'min_samples_leaf': 5}, {'learning_rate': 0.02, 'max_depth': 4, 'max_features': 1.0, 'min_samples_leaf': 9}, {'learning_rate': 0.02, 'max_depth': 4, 'max_features': 1.0, 'min_samples_leaf': 17}, {'learning_rate': 0.02, 'max_depth': 4, 'max_features': 0.3, 'min_samples_leaf': 3}, {'learning_rate': 0.02, 'max_depth': 4, 'max_features': 0.3, 'min_samples_leaf': 5}, {'learning_rate': 0.02, 'max_depth': 4, 'max_features': 0.3, 'min_samples_leaf': 9}, {'learning_rate': 0.02, 'max_depth': 4, 'max_features': 0.3, 'min_samples_leaf': 17}, {'learning_rate': 0.02, 'max_depth': 4, 'max_features': 0.1, 'min_samples_leaf': 3}, {'learning_rate': 0.02, 'max_depth': 4, 'max_features': 0.1, 'min_samples_leaf': 5}, {'learning_rate': 0.02, 'max_depth': 4, 'max_features': 0.1, 'min_samples_leaf': 9}, {'learning_rate': 0.02, 'max_depth': 4, 'max_features': 0.1, 'min_samples_leaf': 17}, {'learning_rate': 0.02, 'max_depth': 6, 'max_features': 1.0, 'min_samples_leaf': 3}, {'learning_rate': 0.02, 'max_depth': 6, 'max_features': 1.0, 'min_samples_leaf': 5}, {'learning_rate': 0.02, 'max_depth': 6, 'max_features': 1.0, 'min_samples_leaf': 9}, {'learning_rate': 0.02, 'max_depth': 6, 'max_features': 1.0, 'min_samples_leaf': 17}, {'learning_rate': 0.02, 'max_depth': 6, 'max_features': 0.3, 'min_samples_leaf': 3}, {'learning_rate': 0.02, 'max_depth': 6, 'max_features': 0.3, 'min_samples_leaf': 5}, {'learning_rate': 0.02, 'max_depth': 6, 'max_features': 0.3, 'min_samples_leaf': 9}, {'learning_rate': 0.02, 'max_depth': 6, 'max_features': 0.3, 'min_samples_leaf': 17}, {'learning_rate': 0.02, 'max_depth': 6, 'max_features': 0.1, 'min_samples_leaf': 3}, {'learning_rate': 0.02, 'max_depth': 6, 'max_features': 0.1, 'min_samples_leaf': 5}, {'learning_rate': 0.02, 'max_depth': 6, 'max_features': 0.1, 'min_samples_leaf': 9}, {'learning_rate': 0.02, 'max_depth': 6, 'max_features': 0.1, 'min_samples_leaf': 17}, {'learning_rate': 0.01, 'max_depth': 4, 'max_features': 1.0, 'min_samples_leaf': 3}, {'learning_rate': 0.01, 'max_depth': 4, 'max_features': 1.0, 'min_samples_leaf': 5}, {'learning_rate': 0.01, 'max_depth': 4, 'max_features': 1.0, 'min_samples_leaf': 9}, {'learning_rate': 0.01, 'max_depth': 4, 'max_features': 1.0, 'min_samples_leaf': 17}, {'learning_rate': 0.01, 'max_depth': 4, 'max_features': 0.3, 'min_samples_leaf': 3}, {'learning_rate': 0.01, 'max_depth': 4, 'max_features': 0.3, 'min_samples_leaf': 5}, {'learning_rate': 0.01, 'max_depth': 4, 'max_features': 0.3, 'min_samples_leaf': 9}, {'learning_rate': 0.01, 'max_depth': 4, 'max_features': 0.3, 'min_samples_leaf': 17}, {'learning_rate': 0.01, 'max_depth': 4, 'max_features': 0.1, 'min_samples_leaf': 3}, {'learning_rate': 0.01, 'max_depth': 4, 'max_features': 0.1, 'min_samples_leaf': 5}, {'learning_rate': 0.01, 'max_depth': 4, 'max_features': 0.1, 'min_samples_leaf': 9}, {'learning_rate': 0.01, 'max_depth': 4, 'max_features': 0.1, 'min_samples_leaf': 17}, {'learning_rate': 0.01, 'max_depth': 6, 'max_features': 1.0, 'min_samples_leaf': 3}, {'learning_rate': 0.01, 'max_depth': 6, 'max_features': 1.0, 'min_samples_leaf': 5}, {'learning_rate': 0.01, 'max_depth': 6, 'max_features': 1.0, 'min_samples_leaf': 9}, {'learning_rate': 0.01, 'max_depth': 6, 'max_features': 1.0, 'min_samples_leaf': 17}, {'learning_rate': 0.01, 'max_depth': 6, 'max_features': 0.3, 'min_samples_leaf': 3}, {'learning_rate': 0.01, 'max_depth': 6, 'max_features': 0.3, 'min_samples_leaf': 5}, {'learning_rate': 0.01, 'max_depth': 6, 'max_features': 0.3, 'min_samples_leaf': 9}, {'learning_rate': 0.01, 'max_depth': 6, 'max_features': 0.3, 'min_samples_leaf': 17}, {'learning_rate': 0.01, 'max_depth': 6, 'max_features': 0.1, 'min_samples_leaf': 3}, {'learning_rate': 0.01, 'max_depth': 6, 'max_features': 0.1, 'min_samples_leaf': 5}, {'learning_rate': 0.01, 'max_depth': 6, 'max_features': 0.1, 'min_samples_leaf': 9}, {'learning_rate': 0.01, 'max_depth': 6, 'max_features': 0.1, 'min_samples_leaf': 17}], 'split0_test_score': array([0.89083156, 0.89089733, 0.89311757, 0.89096062, 0.88654992,\n",
      "       0.88845478, 0.88731661, 0.88956689, 0.84538896, 0.84102301,\n",
      "       0.84171691, 0.84608527, 0.90082409, 0.90003522, 0.90028182,\n",
      "       0.90022686, 0.89827775, 0.89873441, 0.89893846, 0.89868685,\n",
      "       0.87073082, 0.87227057, 0.86638175, 0.86273796, 0.87790354,\n",
      "       0.87818041, 0.87784423, 0.87765736, 0.87070606, 0.87108107,\n",
      "       0.87053051, 0.87274064, 0.79664506, 0.80768863, 0.80788502,\n",
      "       0.80806363, 0.8943761 , 0.89391737, 0.89414318, 0.89465625,\n",
      "       0.88989649, 0.89129634, 0.89168867, 0.88949806, 0.84697297,\n",
      "       0.83766209, 0.84906607, 0.83484194, 0.81174278, 0.81219577,\n",
      "       0.81171514, 0.81151762, 0.78676338, 0.78742251, 0.78802771,\n",
      "       0.78922816, 0.63832112, 0.63399705, 0.6463961 , 0.63200364,\n",
      "       0.84857318, 0.84849961, 0.84946324, 0.84863781, 0.83621722,\n",
      "       0.83647411, 0.8383933 , 0.83634739, 0.71670539, 0.72291761,\n",
      "       0.73181059, 0.71436507, 0.66995297, 0.67008323, 0.67023848,\n",
      "       0.66979445, 0.63723025, 0.62972296, 0.62888668, 0.63115532,\n",
      "       0.46033004, 0.44642796, 0.43723547, 0.46520086, 0.71863109,\n",
      "       0.71850144, 0.71905566, 0.71793978, 0.69390318, 0.69425654,\n",
      "       0.69535417, 0.69437733, 0.55103924, 0.548201  , 0.56348345,\n",
      "       0.55165391]), 'split1_test_score': array([0.88533261, 0.88495561, 0.8852445 , 0.88450139, 0.88237469,\n",
      "       0.88193728, 0.88186344, 0.88162768, 0.83211182, 0.83922735,\n",
      "       0.82735982, 0.83678675, 0.8956126 , 0.89553131, 0.89524459,\n",
      "       0.89612089, 0.89458088, 0.89328079, 0.89396534, 0.89195251,\n",
      "       0.85612226, 0.86643278, 0.86330434, 0.85839541, 0.87098913,\n",
      "       0.87058867, 0.87037472, 0.87058675, 0.86265038, 0.8650896 ,\n",
      "       0.86328308, 0.86413956, 0.79643992, 0.79614785, 0.80222041,\n",
      "       0.78056041, 0.88928565, 0.88908601, 0.88934195, 0.88938241,\n",
      "       0.88547642, 0.88453111, 0.88544558, 0.88558335, 0.84277689,\n",
      "       0.83426997, 0.84267513, 0.83109059, 0.80709048, 0.80708805,\n",
      "       0.80703283, 0.80777704, 0.78498521, 0.78528197, 0.77973975,\n",
      "       0.78349997, 0.64790161, 0.61088821, 0.61905429, 0.61983949,\n",
      "       0.84442782, 0.84401689, 0.84387364, 0.84389562, 0.8301444 ,\n",
      "       0.83131801, 0.83036687, 0.83007363, 0.71856144, 0.71780689,\n",
      "       0.72493572, 0.72084108, 0.66737818, 0.66737818, 0.66750819,\n",
      "       0.66770485, 0.62701862, 0.62889426, 0.62797654, 0.62949696,\n",
      "       0.43240411, 0.44264504, 0.44980305, 0.46564469, 0.71309317,\n",
      "       0.7128898 , 0.71310041, 0.71251671, 0.68950305, 0.68786773,\n",
      "       0.68923266, 0.68799275, 0.53355225, 0.54120195, 0.53111157,\n",
      "       0.5332322 ]), 'split2_test_score': array([0.89357714, 0.89420324, 0.89366981, 0.89489269, 0.8902578 ,\n",
      "       0.88989893, 0.89002385, 0.88983304, 0.84423653, 0.84157436,\n",
      "       0.84620382, 0.83767087, 0.90431432, 0.90391744, 0.90325439,\n",
      "       0.90292344, 0.90109861, 0.90093867, 0.90033608, 0.90061549,\n",
      "       0.86471499, 0.86630575, 0.86820739, 0.8622417 , 0.87996948,\n",
      "       0.87919368, 0.87906805, 0.87992269, 0.87354216, 0.87225032,\n",
      "       0.87065974, 0.87199608, 0.79922833, 0.80746617, 0.79443793,\n",
      "       0.79902603, 0.8970463 , 0.89759434, 0.89777227, 0.89698636,\n",
      "       0.89080172, 0.89352997, 0.89394642, 0.89389621, 0.84556664,\n",
      "       0.84389842, 0.84162351, 0.83788104, 0.81396296, 0.81378582,\n",
      "       0.8142058 , 0.81390255, 0.79179491, 0.79419794, 0.79653843,\n",
      "       0.79474027, 0.63598752, 0.62517058, 0.6461812 , 0.65838296,\n",
      "       0.84983341, 0.84963626, 0.85004854, 0.84901384, 0.83775636,\n",
      "       0.83738373, 0.83963486, 0.83639677, 0.72365452, 0.72304759,\n",
      "       0.7315087 , 0.71298446, 0.67487046, 0.67487046, 0.67492491,\n",
      "       0.67476662, 0.64115265, 0.64099659, 0.63719009, 0.63705927,\n",
      "       0.4375792 , 0.45144177, 0.44203314, 0.46547902, 0.72205718,\n",
      "       0.72139711, 0.72143136, 0.72098652, 0.6915529 , 0.69693712,\n",
      "       0.69645929, 0.69605526, 0.54939126, 0.55061897, 0.53978734,\n",
      "       0.53209967]), 'mean_test_score': array([0.88991381, 0.89001877, 0.8906774 , 0.89011827, 0.88639414,\n",
      "       0.88676374, 0.88640134, 0.88700932, 0.84057933, 0.84060826,\n",
      "       0.838427  , 0.84018124, 0.90025036, 0.899828  , 0.89959363,\n",
      "       0.89975708, 0.89798576, 0.89765134, 0.89774668, 0.89708502,\n",
      "       0.86385634, 0.86833655, 0.86596451, 0.8611251 , 0.87628746,\n",
      "       0.87598769, 0.87576243, 0.87605567, 0.86896628, 0.86947374,\n",
      "       0.86815789, 0.86962557, 0.79743773, 0.80376773, 0.80151475,\n",
      "       0.79588392, 0.89356939, 0.89353259, 0.89375249, 0.89367505,\n",
      "       0.88872493, 0.88978587, 0.89036028, 0.8896592 , 0.84510559,\n",
      "       0.83861012, 0.84445512, 0.83460453, 0.81093211, 0.81102327,\n",
      "       0.81098463, 0.81106576, 0.78784778, 0.7889674 , 0.78810196,\n",
      "       0.78915614, 0.64073664, 0.62335244, 0.63721096, 0.63674181,\n",
      "       0.84761152, 0.84738431, 0.84779522, 0.84718249, 0.83470607,\n",
      "       0.83505868, 0.83613178, 0.83427269, 0.71964031, 0.72125744,\n",
      "       0.72941844, 0.71606346, 0.67073383, 0.67077726, 0.67089049,\n",
      "       0.67075526, 0.63513394, 0.63320444, 0.63135099, 0.63257045,\n",
      "       0.44343857, 0.44683824, 0.44302362, 0.46544151, 0.71792718,\n",
      "       0.71759616, 0.71786253, 0.71714771, 0.69165315, 0.69302052,\n",
      "       0.69368212, 0.69280852, 0.54466121, 0.54667405, 0.54479499,\n",
      "       0.53899585]), 'std_test_score': array([0.00342773, 0.00382602, 0.00384812, 0.00428375, 0.00322008,\n",
      "       0.00346326, 0.00339369, 0.00380682, 0.00600568, 0.00100203,\n",
      "       0.00803694, 0.00419065, 0.00357547, 0.00342668, 0.00330593,\n",
      "       0.00279686, 0.00266879, 0.0032187 , 0.00273392, 0.00371354,\n",
      "       0.00599481, 0.00278245, 0.00202325, 0.00194072, 0.00384012,\n",
      "       0.0038399 , 0.00384218, 0.00397603, 0.00461351, 0.00313649,\n",
      "       0.00344729, 0.00389095, 0.00126887, 0.00538865, 0.00551244,\n",
      "       0.01144597, 0.00321915, 0.00348407, 0.00345266, 0.00318083,\n",
      "       0.0023265 , 0.00382582, 0.00359526, 0.00339554, 0.0017438 ,\n",
      "       0.00398747, 0.0032888 , 0.0027772 , 0.00286358, 0.00285724,\n",
      "       0.0029735 , 0.002521  , 0.00288381, 0.00380026, 0.00685808,\n",
      "       0.00458901, 0.00515503, 0.00952144, 0.01283855, 0.01608773,\n",
      "       0.00230918, 0.00242584, 0.00278316, 0.00232915, 0.00328611,\n",
      "       0.0026709 , 0.00410766, 0.00296915, 0.00293778, 0.0024404 ,\n",
      "       0.00317205, 0.00342487, 0.00310809, 0.00309777, 0.0030627 ,\n",
      "       0.00296188, 0.00595745, 0.00552007, 0.00414541, 0.00324537,\n",
      "       0.0121303 , 0.00360287, 0.00517833, 0.00018313, 0.00369316,\n",
      "       0.00353152, 0.00350411, 0.00350278, 0.00179777, 0.00380425,\n",
      "       0.00317832, 0.00347336, 0.00788371, 0.00399316, 0.01368203,\n",
      "       0.00896316]), 'rank_test_score': array([17, 16, 13, 15, 24, 22, 23, 21, 44, 43, 47, 45,  1,  2,  4,  3,  5,\n",
      "        7,  6,  8, 35, 32, 34, 36, 25, 27, 28, 26, 31, 30, 33, 29, 59, 57,\n",
      "       58, 60, 11, 12,  9, 10, 20, 18, 14, 19, 41, 46, 42, 51, 56, 54, 55,\n",
      "       53, 64, 62, 63, 61, 81, 88, 82, 83, 38, 39, 37, 40, 50, 49, 48, 52,\n",
      "       67, 66, 65, 72, 80, 78, 77, 79, 84, 85, 87, 86, 95, 94, 96, 93, 68,\n",
      "       70, 69, 71, 76, 74, 73, 75, 91, 89, 90, 92]), 'split0_train_score': array([0.9090422 , 0.90836379, 0.90925724, 0.90703827, 0.90262619,\n",
      "       0.90372979, 0.90055309, 0.9025017 , 0.85538199, 0.85149571,\n",
      "       0.84972935, 0.85484346, 0.94093744, 0.93939749, 0.93791499,\n",
      "       0.93338972, 0.93415189, 0.93303203, 0.93034083, 0.92683939,\n",
      "       0.8986484 , 0.89543185, 0.89162716, 0.8823561 , 0.88979662,\n",
      "       0.88932021, 0.88925923, 0.88850681, 0.8799443 , 0.87981105,\n",
      "       0.87981984, 0.88109953, 0.80211553, 0.81550605, 0.81319184,\n",
      "       0.81195235, 0.92579287, 0.92466438, 0.92326754, 0.91996456,\n",
      "       0.91622875, 0.91611749, 0.91443112, 0.91087769, 0.86484222,\n",
      "       0.85548579, 0.8628205 , 0.84966331, 0.81918718, 0.81918415,\n",
      "       0.81863344, 0.81843796, 0.79414797, 0.79547863, 0.79574555,\n",
      "       0.79565344, 0.64304779, 0.63904489, 0.64965866, 0.63734372,\n",
      "       0.86881282, 0.86825724, 0.86774981, 0.86589933, 0.85169771,\n",
      "       0.85224308, 0.8533152 , 0.85070923, 0.72920863, 0.73718078,\n",
      "       0.74244015, 0.7237197 , 0.67749801, 0.67748915, 0.67751954,\n",
      "       0.67744896, 0.64401687, 0.63642101, 0.63451319, 0.63868749,\n",
      "       0.46287296, 0.45099525, 0.44097043, 0.47033506, 0.73289188,\n",
      "       0.73242637, 0.73183496, 0.73064313, 0.70585655, 0.70684919,\n",
      "       0.70555229, 0.70499987, 0.56136368, 0.55794803, 0.56969051,\n",
      "       0.55870687]), 'split1_train_score': array([0.91237537, 0.91162076, 0.91101237, 0.90942466, 0.90683902,\n",
      "       0.90602486, 0.90534969, 0.90429305, 0.85712579, 0.86207408,\n",
      "       0.85150263, 0.85839635, 0.94327404, 0.94109852, 0.93843384,\n",
      "       0.93650039, 0.93656918, 0.93388259, 0.93222346, 0.92842446,\n",
      "       0.89601095, 0.90086649, 0.89439983, 0.8902145 , 0.8921217 ,\n",
      "       0.89173747, 0.891571  , 0.89091486, 0.88298956, 0.88544115,\n",
      "       0.88306979, 0.88240411, 0.81671646, 0.81931879, 0.82303705,\n",
      "       0.80103293, 0.92723627, 0.92619131, 0.92441401, 0.92198386,\n",
      "       0.91887371, 0.91709871, 0.91659094, 0.9139802 , 0.87390029,\n",
      "       0.86327861, 0.87046969, 0.85764305, 0.82289714, 0.82289046,\n",
      "       0.82284387, 0.82250873, 0.80138048, 0.80195872, 0.79742351,\n",
      "       0.80005146, 0.66470886, 0.63190659, 0.6377228 , 0.63917774,\n",
      "       0.87108746, 0.87043148, 0.86955851, 0.86791077, 0.85553476,\n",
      "       0.85608919, 0.85481898, 0.85315055, 0.74435417, 0.74282692,\n",
      "       0.74878421, 0.74114374, 0.67987113, 0.67987113, 0.67999038,\n",
      "       0.67967044, 0.6420362 , 0.64344148, 0.64193586, 0.6448388 ,\n",
      "       0.44715292, 0.45755184, 0.46627997, 0.47852608, 0.73450675,\n",
      "       0.73409035, 0.73339645, 0.73198143, 0.71062206, 0.708129  ,\n",
      "       0.70906164, 0.70678482, 0.55419796, 0.56205109, 0.5508204 ,\n",
      "       0.55073306]), 'split2_train_score': array([0.90804393, 0.90733264, 0.9064064 , 0.90690282, 0.90088938,\n",
      "       0.9009692 , 0.90161952, 0.8999208 , 0.86174829, 0.85309806,\n",
      "       0.86112687, 0.85199629, 0.93882325, 0.93810852, 0.93578397,\n",
      "       0.93298213, 0.93162915, 0.93086677, 0.92828105, 0.92566364,\n",
      "       0.89473794, 0.89448429, 0.89246398, 0.88652061, 0.88924354,\n",
      "       0.8890376 , 0.88808608, 0.88826993, 0.88149315, 0.8816766 ,\n",
      "       0.8793969 , 0.88099979, 0.81181753, 0.81728599, 0.80699732,\n",
      "       0.80773565, 0.92368299, 0.92279407, 0.92152562, 0.91925082,\n",
      "       0.91388115, 0.91493571, 0.91387394, 0.91159451, 0.86719497,\n",
      "       0.86562843, 0.86065895, 0.8566222 , 0.820456  , 0.82028647,\n",
      "       0.82032594, 0.82007492, 0.79595428, 0.79933114, 0.80239188,\n",
      "       0.79869758, 0.64008592, 0.6348486 , 0.65025759, 0.66233214,\n",
      "       0.86838939, 0.86829926, 0.86762183, 0.8658942 , 0.85347502,\n",
      "       0.85224173, 0.85242376, 0.84870322, 0.73993   , 0.74063414,\n",
      "       0.74809736, 0.7266886 , 0.6772308 , 0.6772308 , 0.67718612,\n",
      "       0.67711021, 0.64134405, 0.64220838, 0.64191928, 0.63846242,\n",
      "       0.44516755, 0.45939338, 0.44274598, 0.46719325, 0.73318341,\n",
      "       0.73290634, 0.73217433, 0.73115013, 0.70223059, 0.70752288,\n",
      "       0.70718109, 0.70411842, 0.5618099 , 0.5607613 , 0.54903642,\n",
      "       0.54105669]), 'mean_train_score': array([0.9098205 , 0.90910573, 0.908892  , 0.90778858, 0.90345153,\n",
      "       0.90357462, 0.90250744, 0.90223852, 0.85808535, 0.85555595,\n",
      "       0.85411962, 0.8550787 , 0.94101158, 0.93953484, 0.9373776 ,\n",
      "       0.93429075, 0.93411674, 0.9325938 , 0.93028178, 0.92697583,\n",
      "       0.89646577, 0.89692754, 0.89283032, 0.88636374, 0.89038729,\n",
      "       0.89003176, 0.88963877, 0.88923053, 0.88147567, 0.8823096 ,\n",
      "       0.88076218, 0.88150115, 0.81021651, 0.81737028, 0.81440874,\n",
      "       0.80690698, 0.92557071, 0.92454992, 0.92306906, 0.92039975,\n",
      "       0.91632787, 0.91605064, 0.91496533, 0.9121508 , 0.86864583,\n",
      "       0.86146428, 0.86464971, 0.85464285, 0.82084678, 0.82078703,\n",
      "       0.82060108, 0.82034054, 0.79716091, 0.79892283, 0.79852031,\n",
      "       0.79813416, 0.64928085, 0.63526669, 0.64587968, 0.64628453,\n",
      "       0.86942989, 0.86899599, 0.86831005, 0.8665681 , 0.85356917,\n",
      "       0.85352467, 0.85351931, 0.85085434, 0.73783094, 0.74021395,\n",
      "       0.74644057, 0.73051735, 0.67819998, 0.67819703, 0.67823201,\n",
      "       0.67807654, 0.64246571, 0.64069029, 0.63945611, 0.6406629 ,\n",
      "       0.45173114, 0.45598015, 0.4499988 , 0.47201813, 0.73352734,\n",
      "       0.73314102, 0.73246858, 0.73125823, 0.7062364 , 0.70750036,\n",
      "       0.70726501, 0.70530104, 0.55912384, 0.56025347, 0.55651578,\n",
      "       0.55016554]), 'std_train_score': array([0.00185196, 0.00182754, 0.00189803, 0.0011582 , 0.00249806,\n",
      "       0.00206688, 0.0020564 , 0.00179464, 0.00268614, 0.0046552 ,\n",
      "       0.00500748, 0.00261811, 0.00181778, 0.00122452, 0.0011466 ,\n",
      "       0.00157129, 0.00201691, 0.0012696 , 0.00161002, 0.00113123,\n",
      "       0.00162851, 0.002812  , 0.0011612 , 0.0032101 , 0.00124703,\n",
      "       0.00121163, 0.0014478 , 0.00119492, 0.00124328, 0.00234166,\n",
      "       0.00164084, 0.00063979, 0.00606736, 0.00155768, 0.00660449,\n",
      "       0.00449618, 0.0014591 , 0.00138928, 0.0011875 , 0.00115741,\n",
      "       0.00203941, 0.0008843 , 0.00117177, 0.00132627, 0.00383761,\n",
      "       0.00433491, 0.0042089 , 0.00354565, 0.00153959, 0.00155394,\n",
      "       0.00172988, 0.00167246, 0.00307346, 0.00266119, 0.00282202,\n",
      "       0.00183915, 0.01097605, 0.00292915, 0.00577297, 0.01137205,\n",
      "       0.00118476, 0.00101519, 0.00088434, 0.00094941, 0.00156788,\n",
      "       0.00181339, 0.00098844, 0.00181851, 0.0063588 , 0.0023241 ,\n",
      "       0.00284259, 0.00761112, 0.00118671, 0.00118846, 0.00125078,\n",
      "       0.00113551, 0.00113265, 0.00306052, 0.00349518, 0.00295423,\n",
      "       0.00792003, 0.00360414, 0.01153532, 0.00477722, 0.0007027 ,\n",
      "       0.00069929, 0.00067057, 0.00055168, 0.00343632, 0.00052273,\n",
      "       0.00143391, 0.00110919, 0.00348789, 0.00171312, 0.00934437,\n",
      "       0.00721682])}\n"
     ]
    }
   ],
   "source": [
    "# (4)GradientBoostingRegressor、price対数化\n",
    "df = pd.read_csv(\"kc_house_data.csv\")\n",
    "df[\"date\"] = pd.to_datetime(df.date).map(lambda x:x.value / 10**9)  # dateをunix time(秒)に変換\n",
    "df[\"price\"] = df[\"price\"].apply( lambda x: np.log(x) ) # log関数で変換\n",
    "\n",
    "X = df.drop([\"price\", \"sqft_basement\"], axis=1) # 目的変数からsqft_basementのみ削除\n",
    "y = df[\"price\"]\n",
    "\n",
    "# http://techtipshoge.blogspot.jp/2015/07/scikit-learn5-gradient-boosting.html\n",
    "# を参考にチューニング\n",
    "# ただし、n_estimator=3000でチューニングすると終わらないので、いったんデフォルトの\n",
    "# 100で他のパラメータをチューニングし、その後3000に変更する。\n",
    "parameters = {\n",
    "    'learning_rate' : [0.1, 0.05, 0.02, 0.01], # default: 0.1\n",
    "    'max_depth': [4, 6], # default: 3\n",
    "    'min_samples_leaf': [3, 5, 9, 17], # default: 1\n",
    "    'max_features': [1.0, 0.3, 0.1]} # default: None\n",
    "\n",
    "clf = GridSearchCV(GradientBoostingRegressor(), parameters)\n",
    "clf.fit(X, y)\n",
    " \n",
    "print(clf.best_estimator_)\n",
    "print(clf.best_score_)\n",
    "print(clf.cv_results_)"
   ]
  },
  {
   "cell_type": "markdown",
   "metadata": {},
   "source": [
    "以下の組み合わせとなった(score=0.9002503605249577)。\n",
    "\n",
    "- learning_rate=0.1\n",
    "- max_depth=6\n",
    "- max_features=1.0\n",
    "- min_samples_leaf=3\n",
    "\n",
    "さらに、\n",
    "\n",
    "- n_estimators=3000\n",
    "\n",
    "の組み合わせを試す。"
   ]
  },
  {
   "cell_type": "code",
   "execution_count": 214,
   "metadata": {
    "ExecuteTime": {
     "end_time": "2018-04-20T23:39:50.099618Z",
     "start_time": "2018-04-20T23:31:32.018810Z"
    }
   },
   "outputs": [
    {
     "name": "stdout",
     "output_type": "stream",
     "text": [
      "GradientBoostingRegressor(alpha=0.9, criterion='friedman_mse', init=None,\n",
      "             learning_rate=0.1, loss='ls', max_depth=6, max_features=1.0,\n",
      "             max_leaf_nodes=None, min_impurity_decrease=0.0,\n",
      "             min_impurity_split=None, min_samples_leaf=3,\n",
      "             min_samples_split=2, min_weight_fraction_leaf=0.0,\n",
      "             n_estimators=3000, presort='auto', random_state=None,\n",
      "             subsample=1.0, verbose=0, warm_start=False)\n",
      "0.9009857353249259\n",
      "{'mean_fit_time': array([109.35418359]), 'std_fit_time': array([1.35380426]), 'mean_score_time': array([0.55800144]), 'std_score_time': array([0.01429541]), 'param_learning_rate': masked_array(data=[0.1],\n",
      "             mask=[False],\n",
      "       fill_value='?',\n",
      "            dtype=object), 'param_max_depth': masked_array(data=[6],\n",
      "             mask=[False],\n",
      "       fill_value='?',\n",
      "            dtype=object), 'param_max_features': masked_array(data=[1.0],\n",
      "             mask=[False],\n",
      "       fill_value='?',\n",
      "            dtype=object), 'param_min_samples_leaf': masked_array(data=[3],\n",
      "             mask=[False],\n",
      "       fill_value='?',\n",
      "            dtype=object), 'param_n_estimators': masked_array(data=[3000],\n",
      "             mask=[False],\n",
      "       fill_value='?',\n",
      "            dtype=object), 'params': [{'learning_rate': 0.1, 'max_depth': 6, 'max_features': 1.0, 'min_samples_leaf': 3, 'n_estimators': 3000}], 'split0_test_score': array([0.90206426]), 'split1_test_score': array([0.89701634]), 'split2_test_score': array([0.90387645]), 'mean_test_score': array([0.90098574]), 'std_test_score': array([0.00290256]), 'rank_test_score': array([1]), 'split0_train_score': array([0.99956665]), 'split1_train_score': array([0.99966646]), 'split2_train_score': array([0.99958905]), 'mean_train_score': array([0.99960739]), 'std_train_score': array([4.27627615e-05])}\n"
     ]
    }
   ],
   "source": [
    "# (4)GradientBoostingRegressor、price対数化\n",
    "df = pd.read_csv(\"kc_house_data.csv\")\n",
    "df[\"date\"] = pd.to_datetime(df.date).map(lambda x:x.value / 10**9)  # dateをunix time(秒)に変換\n",
    "df[\"price\"] = df[\"price\"].apply( lambda x: np.log(x) ) # log関数で変換\n",
    "\n",
    "X = df.drop([\"price\", \"sqft_basement\"], axis=1) # 目的変数からsqft_basementのみ削除\n",
    "y = df[\"price\"]\n",
    "\n",
    "# n_estimator=3000、あとは先に決定したパラメータ\n",
    "parameters = {\n",
    "    'n_estimators' : [3000], # default: 100    \n",
    "    'learning_rate' : [0.1], # default: 0.1\n",
    "    'max_depth': [6], # default: 3\n",
    "    'min_samples_leaf': [3], # default: 1\n",
    "    'max_features': [1.0]} # default: None\n",
    "\n",
    "clf = GridSearchCV(GradientBoostingRegressor(), parameters)\n",
    "clf.fit(X, y)\n",
    " \n",
    "print(clf.best_estimator_)\n",
    "print(clf.best_score_)\n",
    "print(clf.cv_results_)"
   ]
  },
  {
   "cell_type": "markdown",
   "metadata": {
    "ExecuteTime": {
     "end_time": "2018-04-20T23:41:55.038053Z",
     "start_time": "2018-04-20T23:41:55.006799Z"
    }
   },
   "source": [
    "若干スコアはよい(score=0.9002503605249577)。以下で決定とする。\n",
    "\n",
    "- learning_rate=0.1\n",
    "- max_depth=6\n",
    "- max_features=1.0\n",
    "- min_samples_leaf=3\n",
    "- n_estimators=3000"
   ]
  },
  {
   "cell_type": "markdown",
   "metadata": {},
   "source": [
    "### zipcodeのターゲットエンコーディング"
   ]
  },
  {
   "cell_type": "markdown",
   "metadata": {},
   "source": [
    "#### 現状の特徴量の重要性確認"
   ]
  },
  {
   "cell_type": "code",
   "execution_count": 199,
   "metadata": {
    "ExecuteTime": {
     "end_time": "2018-04-20T21:28:53.697368Z",
     "start_time": "2018-04-20T21:28:51.912655Z"
    }
   },
   "outputs": [
    {
     "name": "stdout",
     "output_type": "stream",
     "text": [
      "Training and Test: \n",
      " Train MAE: 70897.772\n",
      " Train SCR: 0.888\n",
      " Test  MAE: 78391.28\n",
      " Test  SCR: 0.881\n"
     ]
    },
    {
     "data": {
      "text/plain": [
       "Text(0,0.5,'Feature')"
      ]
     },
     "execution_count": 199,
     "metadata": {},
     "output_type": "execute_result"
    },
    {
     "data": {
      "image/png": "[encoded data removed]",
      "text/plain": [
       "<matplotlib.figure.Figure at 0x21bd3737550>"
      ]
     },
     "metadata": {},
     "output_type": "display_data"
    }
   ],
   "source": [
    "# (4)GradientBoostingRegressor、price対数化\n",
    "df = pd.read_csv(\"kc_house_data.csv\")\n",
    "df[\"date\"] = pd.to_datetime(df.date).map(lambda x:x.value / 10**9)  # dateをunix time(秒)に変換\n",
    "df[\"price\"] = df[\"price\"].apply( lambda x: np.log(x) ) # log関数で変換\n",
    "X = df.drop([\"price\", \"sqft_basement\"], axis=1) # 目的変数からsqft_basementのみ削除\n",
    "y = df[\"price\"]\n",
    "\n",
    "# データを訓練データ80%、テストデータ20%に分割\n",
    "X_train, X_test, y_train, y_test = train_test_split(X, y, test_size=0.2, random_state=42)\n",
    "\n",
    "# GradientBoostingRegressor\n",
    "regr = GradientBoostingRegressor()\n",
    "regr.fit(X_train, y_train)\n",
    "\n",
    "print(\"Training and Test: \")\n",
    "# 訓練データでの学習、MAEの計算\n",
    "y_pred = regr.predict(X_train)\n",
    "mae = mean_absolute_error(np.exp(y_train), np.exp(y_pred))\n",
    "print(\" Train MAE: %s\"%round(mae,3))\n",
    "score = regr.score(X_train, y_train)\n",
    "print(\" Train SCR: %s\"%round(score,3))\n",
    "\n",
    "# テストデータでMAEの計算\n",
    "y_pred = regr.predict(X_test)\n",
    "mae = mean_absolute_error(np.exp(y_test), np.exp(y_pred))\n",
    "print(\" Test  MAE: %s\"%round(mae,3))\n",
    "score = regr.score(X_test, y_test)\n",
    "print(\" Test  SCR: %s\"%round(score,3))\n",
    "\n",
    "##### 特徴量の重要度を確認する #####\n",
    "n_features = X_train.shape[1]\n",
    "plt.barh(range(n_features), regr.feature_importances_, align='center')\n",
    "plt.yticks(np.arange(n_features), X_train.columns)\n",
    "plt.xlabel(\"Feature importance\")\n",
    "plt.ylabel(\"Feature\")"
   ]
  },
  {
   "cell_type": "markdown",
   "metadata": {
    "ExecuteTime": {
     "end_time": "2018-04-20T21:29:26.561470Z",
     "start_time": "2018-04-20T21:29:26.545846Z"
    }
   },
   "source": [
    "#### ターゲットエンコーディング"
   ]
  },
  {
   "cell_type": "code",
   "execution_count": 204,
   "metadata": {
    "ExecuteTime": {
     "end_time": "2018-04-20T21:42:41.635759Z",
     "start_time": "2018-04-20T21:42:32.284512Z"
    }
   },
   "outputs": [
    {
     "data": {
      "image/png": "[encoded data removed]",
      "text/plain": [
       "<matplotlib.figure.Figure at 0x21b801e53c8>"
      ]
     },
     "metadata": {},
     "output_type": "display_data"
    },
    {
     "data": {
      "image/png": "[encoded data removed]",
      "text/plain": [
       "<matplotlib.figure.Figure at 0x21ba2979400>"
      ]
     },
     "metadata": {},
     "output_type": "display_data"
    },
    {
     "data": {
      "image/png": "[encoded data removed]",
      "text/plain": [
       "<matplotlib.figure.Figure at 0x21ba2979a90>"
      ]
     },
     "metadata": {},
     "output_type": "display_data"
    },
    {
     "data": {
      "image/png": "[encoded data removed]",
      "text/plain": [
       "<matplotlib.figure.Figure at 0x21bd560af60>"
      ]
     },
     "metadata": {},
     "output_type": "display_data"
    },
    {
     "data": {
      "image/png": "[encoded data removed]",
      "text/plain": [
       "<matplotlib.figure.Figure at 0x21ba4608048>"
      ]
     },
     "metadata": {},
     "output_type": "display_data"
    },
    {
     "name": "stdout",
     "output_type": "stream",
     "text": [
      " Train MAE: 66891.126\n",
      " Train SCR: 0.899\n",
      " Test  MAE: 69277.647\n",
      " Test  SCR: 0.892\n"
     ]
    }
   ],
   "source": [
    "# 計算結果\n",
    "result = pd.DataFrame(columns=[\"train_mae\", \"train_score\", \"test_mae\", \"test_score\"])\n",
    "\n",
    "def train_and_test_gb_zipcode_encoding(n_estimators=100, learning_rate=0.1, max_depth=3, min_samples_leaf=1, max_features=None):\n",
    "    global result\n",
    "    \n",
    "    # (4)GradientBoostingRegressor、price対数化、zipcodeをtarget encoding\n",
    "    df = pd.read_csv(\"kc_house_data.csv\")\n",
    "    df[\"date\"] = pd.to_datetime(df.date).map(lambda x:x.value / 10**9)  # dateをunix time(秒)に変換\n",
    "    df[\"price\"] = df[\"price\"].apply( lambda x: np.log(x) ) # log関数で変換\n",
    "\n",
    "    # target encodingを計算するため、いったんpriceも含めてXを作成する\n",
    "    X = df.drop([\"sqft_basement\"], axis=1) # 目的変数からsqft_basementのみ削除\n",
    "    y = df[\"price\"]\n",
    "\n",
    "    # データを訓練データ80%、テストデータ20%に分割 ※ランダムに分割\n",
    "    X_train, X_test, y_train, y_test = train_test_split(X, y, test_size=0.2)\n",
    "    X_train = X_train.copy()\n",
    "    X_test = X_test.copy()\n",
    "\n",
    "    # X_trainをtarget encodingし、priceを削除\n",
    "    vals = X_train[['price', 'zipcode']].groupby('zipcode').mean()\n",
    "    d = vals.to_dict()['price']\n",
    "    X_train['zipcode_numeric'] = X_train['zipcode'].replace(d)\n",
    "    X_train = X_train.drop([\"price\"], axis=1)\n",
    "\n",
    "    # X_testをtarget encodingし、priceを削除\n",
    "    X_test['zipcode_numeric'] = X_test['zipcode'].replace(d)\n",
    "    X_test = X_test.drop([\"price\"], axis=1)\n",
    "\n",
    "    # GradientBoostingRegressor\n",
    "    regr = GradientBoostingRegressor(n_estimators=n_estimators, learning_rate=learning_rate, max_depth=max_depth, min_samples_leaf=min_samples_leaf, max_features=max_features)\n",
    "    regr.fit(X_train, y_train)\n",
    "\n",
    "    # 訓練データでの学習、MAEの計算\n",
    "    y_pred = regr.predict(X_train)\n",
    "    train_mae = mean_absolute_error(np.exp(y_train), np.exp(y_pred))\n",
    "    train_score = regr.score(X_train, y_train)\n",
    "\n",
    "    # テストデータでMAEの計算\n",
    "    y_pred = regr.predict(X_test)\n",
    "    test_mae = mean_absolute_error(np.exp(y_test), np.exp(y_pred))\n",
    "    test_score = regr.score(X_test, y_test)\n",
    "\n",
    "    result = result.append(pd.DataFrame({\"train_mae\":[train_mae], \"train_score\":[train_score], \"test_mae\":[test_mae], \"test_score\":[test_score]}), ignore_index=True)\n",
    "\n",
    "    ##### 特徴量の重要度を確認する #####\n",
    "    n_features = X_train.shape[1]\n",
    "    plt.barh(range(n_features), regr.feature_importances_, align='center')\n",
    "    plt.yticks(np.arange(n_features), X_train.columns)\n",
    "    plt.xlabel(\"Feature importance\")\n",
    "    plt.ylabel(\"Feature\")\n",
    "    plt.show()\n",
    "    \n",
    "for i in range(5):\n",
    "    train_and_test_gb_zipcode_encoding()\n",
    "\n",
    "# 訓練データでの学習、MAEの計算\n",
    "print(\" Train MAE: %s\"%round(result[\"train_mae\"].mean(),3))\n",
    "print(\" Train SCR: %s\"%round(result[\"train_score\"].mean(),3))\n",
    "\n",
    "# テストデータでMAEの計算\n",
    "print(\" Test  MAE: %s\"%round(result[\"test_mae\"].mean(),3))\n",
    "print(\" Test  SCR: %s\"%round(result[\"test_score\"].mean(),3))\n"
   ]
  },
  {
   "cell_type": "markdown",
   "metadata": {
    "ExecuteTime": {
     "end_time": "2018-04-20T23:24:45.218519Z",
     "start_time": "2018-04-20T23:24:45.202926Z"
    }
   },
   "source": [
    "#### グリッドサーチで決定したパラメータとの組み合わせ"
   ]
  },
  {
   "cell_type": "markdown",
   "metadata": {
    "ExecuteTime": {
     "end_time": "2018-04-20T23:47:25.705154Z",
     "start_time": "2018-04-20T23:47:25.658309Z"
    }
   },
   "source": [
    "以下の組み合わせで試してみる\n",
    "- グリッドサーチで決定したパラメータ(n_estimators=3000, learning_rate=0.1, max_depth=6, max_features=1.0, min_samples_leaf=3)\n",
    "- zipcodeエンコーディング"
   ]
  },
  {
   "cell_type": "code",
   "execution_count": 233,
   "metadata": {
    "ExecuteTime": {
     "end_time": "2018-04-21T00:41:21.680085Z",
     "start_time": "2018-04-21T00:32:40.449494Z"
    }
   },
   "outputs": [
    {
     "data": {
      "image/png": "[encoded data removed]",
      "text/plain": [
       "<matplotlib.figure.Figure at 0x21bd71ef518>"
      ]
     },
     "metadata": {},
     "output_type": "display_data"
    },
    {
     "data": {
      "image/png": "[encoded data removed]",
      "text/plain": [
       "<matplotlib.figure.Figure at 0x21b80a149e8>"
      ]
     },
     "metadata": {},
     "output_type": "display_data"
    },
    {
     "data": {
      "image/png": "[encoded data removed]",
      "text/plain": [
       "<matplotlib.figure.Figure at 0x21b80a25630>"
      ]
     },
     "metadata": {},
     "output_type": "display_data"
    },
    {
     "data": {
      "image/png": "[encoded data removed]",
      "text/plain": [
       "<matplotlib.figure.Figure at 0x21b80a25320>"
      ]
     },
     "metadata": {},
     "output_type": "display_data"
    },
    {
     "data": {
      "image/png": "[encoded data removed]",
      "text/plain": [
       "<matplotlib.figure.Figure at 0x21ba293c550>"
      ]
     },
     "metadata": {},
     "output_type": "display_data"
    },
    {
     "name": "stdout",
     "output_type": "stream",
     "text": [
      " Train MAE: 4678.423\n",
      " Train SCR: 0.999\n",
      " Test  MAE: 63016.254\n",
      " Test  SCR: 0.902\n"
     ]
    }
   ],
   "source": [
    "# 計算結果\n",
    "result = pd.DataFrame(columns=[\"train_mae\", \"train_score\", \"test_mae\", \"test_score\"])\n",
    "\n",
    "for i in range(5):\n",
    "    train_and_test_gb_zipcode_encoding(n_estimators=3000, learning_rate=0.1, max_depth=6, max_features=1.0, min_samples_leaf=3)\n",
    "\n",
    "# 訓練データでの学習、MAEの計算\n",
    "print(\" Train MAE: %s\"%round(result[\"train_mae\"].mean(),3))\n",
    "print(\" Train SCR: %s\"%round(result[\"train_score\"].mean(),3))\n",
    "\n",
    "# テストデータでMAEの計算\n",
    "print(\" Test  MAE: %s\"%round(result[\"test_mae\"].mean(),3))\n",
    "print(\" Test  SCR: %s\"%round(result[\"test_score\"].mean(),3))\n"
   ]
  },
  {
   "cell_type": "markdown",
   "metadata": {
    "ExecuteTime": {
     "end_time": "2018-04-20T23:12:22.654236Z",
     "start_time": "2018-04-20T22:01:48.712Z"
    }
   },
   "source": [
    "## BaggingRegressor"
   ]
  },
  {
   "cell_type": "markdown",
   "metadata": {
    "ExecuteTime": {
     "end_time": "2018-04-20T23:12:22.654236Z",
     "start_time": "2018-04-20T22:02:22.052Z"
    }
   },
   "source": [
    "### グリッドサーチによるパラメータチューニング"
   ]
  },
  {
   "cell_type": "code",
   "execution_count": 225,
   "metadata": {
    "ExecuteTime": {
     "end_time": "2018-04-21T00:10:52.507683Z",
     "start_time": "2018-04-20T23:58:55.042410Z"
    }
   },
   "outputs": [
    {
     "name": "stdout",
     "output_type": "stream",
     "text": [
      "BaggingRegressor(base_estimator=None, bootstrap=True,\n",
      "         bootstrap_features=False, max_features=1.0, max_samples=1.0,\n",
      "         n_estimators=1000, n_jobs=1, oob_score=False, random_state=None,\n",
      "         verbose=0, warm_start=False)\n",
      "0.8882767482688207\n",
      "{'mean_fit_time': array([1.15786203e+00, 1.20326251e+02, 3.48994970e-01, 3.37512070e+01,\n",
      "       7.81470935e-02, 6.28887407e+00]), 'std_fit_time': array([2.10678048e-03, 3.45696931e+00, 1.94901141e-02, 4.85278465e-03,\n",
      "       1.52666515e-05, 3.42579779e-01]), 'mean_score_time': array([0.026057  , 2.63980412, 0.01563032, 1.6512328 , 0.01041571,\n",
      "       0.62068884]), 'std_score_time': array([7.37469749e-03, 1.90232594e-01, 2.97360213e-06, 2.94510938e-02,\n",
      "       7.36502135e-03, 2.77025593e-02]), 'param_max_features': masked_array(data=[1.0, 1.0, 0.3, 0.3, 0.1, 0.1],\n",
      "             mask=[False, False, False, False, False, False],\n",
      "       fill_value='?',\n",
      "            dtype=object), 'param_n_estimators': masked_array(data=[10, 1000, 10, 1000, 10, 1000],\n",
      "             mask=[False, False, False, False, False, False],\n",
      "       fill_value='?',\n",
      "            dtype=object), 'params': [{'max_features': 1.0, 'n_estimators': 10}, {'max_features': 1.0, 'n_estimators': 1000}, {'max_features': 0.3, 'n_estimators': 10}, {'max_features': 0.3, 'n_estimators': 1000}, {'max_features': 0.1, 'n_estimators': 10}, {'max_features': 0.1, 'n_estimators': 1000}], 'split0_test_score': array([0.87259667, 0.88727044, 0.78312832, 0.81999628, 0.37638022,\n",
      "       0.37711461]), 'split1_test_score': array([0.8701163 , 0.8848484 , 0.79053851, 0.8197853 , 0.25109439,\n",
      "       0.39250791]), 'split2_test_score': array([0.87745483, 0.89271154, 0.80640426, 0.82589432, 0.24678131,\n",
      "       0.39905851]), 'mean_test_score': array([0.87338923, 0.88827675, 0.79335655, 0.82189188, 0.29142257,\n",
      "       0.38955977]), 'std_test_score': array([0.00304785, 0.00328797, 0.00970914, 0.00283136, 0.06010409,\n",
      "       0.009198  ]), 'rank_test_score': array([2, 1, 4, 3, 6, 5]), 'split0_train_score': array([0.97738703, 0.98502896, 0.95226462, 0.96976342, 0.45127725,\n",
      "       0.47275365]), 'split1_train_score': array([0.97747805, 0.98522025, 0.95162908, 0.97274038, 0.43045766,\n",
      "       0.50492559]), 'split2_train_score': array([0.97597807, 0.98439615, 0.95455496, 0.96988708, 0.41997083,\n",
      "       0.48842777]), 'mean_train_score': array([0.97694772, 0.98488179, 0.95281622, 0.97079696, 0.43390191,\n",
      "       0.48870234]), 'std_train_score': array([0.00068665, 0.00035217, 0.00125655, 0.00137513, 0.01301077,\n",
      "       0.01313558])}\n"
     ]
    }
   ],
   "source": [
    "# (4)BaggingRegressor、price対数化\n",
    "df = pd.read_csv(\"kc_house_data.csv\")\n",
    "df[\"date\"] = pd.to_datetime(df.date).map(lambda x:x.value / 10**9)  # dateをunix time(秒)に変換\n",
    "df[\"price\"] = df[\"price\"].apply( lambda x: np.log(x) ) # log関数で変換\n",
    "\n",
    "X = df.drop([\"price\", \"sqft_basement\"], axis=1) # 目的変数からsqft_basementのみ削除\n",
    "y = df[\"price\"]\n",
    "\n",
    "# https://books.google.co.jp/books?id=kkFPDwAAQBAJ&pg=PA279&lpg=PA279&dq=baggingregressor+optimization&source=bl&ots=k7t346iVeE&sig=2PTclHIMg7JLChLegU5r6x_EwfE&hl=ja&sa=X&ved=0ahUKEwjMvoLy7cnaAhUINJQKHWlpBpAQ6AEIQzAC#v=onepage&q=baggingregressor%20optimization&f=false\n",
    "# を参考にチューニング\n",
    "parameters = {\n",
    "    'n_estimators' : [10, 1000], # default: 10\n",
    "    'max_features': [1.0, 0.3, 0.1]} # default: 1.0\n",
    "\n",
    "clf = GridSearchCV(BaggingRegressor(), parameters)\n",
    "clf.fit(X, y)\n",
    " \n",
    "print(clf.best_estimator_)\n",
    "print(clf.best_score_)\n",
    "print(clf.cv_results_)"
   ]
  },
  {
   "cell_type": "markdown",
   "metadata": {
    "ExecuteTime": {
     "end_time": "2018-04-21T00:10:52.523306Z",
     "start_time": "2018-04-21T00:10:52.507683Z"
    }
   },
   "source": [
    "以下の組み合わせとなった(score=0.)。\n",
    "\n",
    "- n_estimators=1000\n",
    "- max_features=1.0"
   ]
  },
  {
   "cell_type": "markdown",
   "metadata": {
    "ExecuteTime": {
     "end_time": "2018-04-20T23:39:50.115246Z",
     "start_time": "2018-04-20T23:39:50.099618Z"
    }
   },
   "source": [
    "### zipcodeのターゲットエンコーディング"
   ]
  },
  {
   "cell_type": "markdown",
   "metadata": {},
   "source": [
    "#### 現状の特徴量の重要性確認"
   ]
  },
  {
   "cell_type": "markdown",
   "metadata": {
    "ExecuteTime": {
     "end_time": "2018-04-21T00:15:03.356958Z",
     "start_time": "2018-04-21T00:15:01.285404Z"
    }
   },
   "source": [
    "    feature_importances_\n",
    "\n",
    "が存在しないため取得できない。"
   ]
  },
  {
   "cell_type": "markdown",
   "metadata": {
    "ExecuteTime": {
     "end_time": "2018-04-20T23:12:22.669864Z",
     "start_time": "2018-04-20T22:08:44.860Z"
    }
   },
   "source": [
    "#### ターゲットエンコーディング"
   ]
  },
  {
   "cell_type": "code",
   "execution_count": 231,
   "metadata": {
    "ExecuteTime": {
     "end_time": "2018-04-21T00:17:50.352484Z",
     "start_time": "2018-04-21T00:17:40.331048Z"
    }
   },
   "outputs": [
    {
     "name": "stdout",
     "output_type": "stream",
     "text": [
      " Train MAE: 29546.337\n",
      " Train SCR: 0.978\n",
      " Test  MAE: 71760.294\n",
      " Test  SCR: 0.884\n"
     ]
    }
   ],
   "source": [
    "# 計算結果\n",
    "result = pd.DataFrame(columns=[\"train_mae\", \"train_score\", \"test_mae\", \"test_score\"])\n",
    "\n",
    "def train_and_test_b_zipcode_encoding(n_estimators=10, max_features=1.0):\n",
    "    global result\n",
    "    \n",
    "    # (4)BaggingRegressor、price対数化、zipcodeをtarget encoding\n",
    "    df = pd.read_csv(\"kc_house_data.csv\")\n",
    "    df[\"date\"] = pd.to_datetime(df.date).map(lambda x:x.value / 10**9)  # dateをunix time(秒)に変換\n",
    "    df[\"price\"] = df[\"price\"].apply( lambda x: np.log(x) ) # log関数で変換\n",
    "\n",
    "    # target encodingを計算するため、いったんpriceも含めてXを作成する\n",
    "    X = df.drop([\"sqft_basement\"], axis=1) # 目的変数からsqft_basementのみ削除\n",
    "    y = df[\"price\"]\n",
    "\n",
    "    # データを訓練データ80%、テストデータ20%に分割 ※ランダムに分割\n",
    "    X_train, X_test, y_train, y_test = train_test_split(X, y, test_size=0.2)\n",
    "    X_train = X_train.copy()\n",
    "    X_test = X_test.copy()\n",
    "\n",
    "    # X_trainをtarget encodingし、priceを削除\n",
    "    vals = X_train[['price', 'zipcode']].groupby('zipcode').mean()\n",
    "    d = vals.to_dict()['price']\n",
    "    X_train['zipcode_numeric'] = X_train['zipcode'].replace(d)\n",
    "    X_train = X_train.drop([\"price\"], axis=1)\n",
    "\n",
    "    # X_testをtarget encodingし、priceを削除\n",
    "    X_test['zipcode_numeric'] = X_test['zipcode'].replace(d)\n",
    "    X_test = X_test.drop([\"price\"], axis=1)\n",
    "\n",
    "    # BaggingRegressor\n",
    "    regr = BaggingRegressor(n_estimators=n_estimators, max_features=max_features)\n",
    "    regr.fit(X_train, y_train)\n",
    "\n",
    "    # 訓練データでの学習、MAEの計算\n",
    "    y_pred = regr.predict(X_train)\n",
    "    train_mae = mean_absolute_error(np.exp(y_train), np.exp(y_pred))\n",
    "    train_score = regr.score(X_train, y_train)\n",
    "\n",
    "    # テストデータでMAEの計算\n",
    "    y_pred = regr.predict(X_test)\n",
    "    test_mae = mean_absolute_error(np.exp(y_test), np.exp(y_pred))\n",
    "    test_score = regr.score(X_test, y_test)\n",
    "\n",
    "    result = result.append(pd.DataFrame({\"train_mae\":[train_mae], \"train_score\":[train_score], \"test_mae\":[test_mae], \"test_score\":[test_score]}), ignore_index=True)\n",
    "\n",
    "#     ##### 特徴量の重要度を確認する #####\n",
    "#     n_features = X_train.shape[1]\n",
    "#     plt.barh(range(n_features), regr.feature_importances_, align='center')\n",
    "#     plt.yticks(np.arange(n_features), X_train.columns)\n",
    "#     plt.xlabel(\"Feature importance\")\n",
    "#     plt.ylabel(\"Feature\")\n",
    "#     plt.show()\n",
    "    \n",
    "for i in range(5):\n",
    "    train_and_test_b_zipcode_encoding()\n",
    "\n",
    "# 訓練データでの学習、MAEの計算\n",
    "print(\" Train MAE: %s\"%round(result[\"train_mae\"].mean(),3))\n",
    "print(\" Train SCR: %s\"%round(result[\"train_score\"].mean(),3))\n",
    "\n",
    "# テストデータでMAEの計算\n",
    "print(\" Test  MAE: %s\"%round(result[\"test_mae\"].mean(),3))\n",
    "print(\" Test  SCR: %s\"%round(result[\"test_score\"].mean(),3))\n"
   ]
  },
  {
   "cell_type": "markdown",
   "metadata": {
    "ExecuteTime": {
     "end_time": "2018-04-20T23:39:50.130872Z",
     "start_time": "2018-04-20T23:39:50.115246Z"
    }
   },
   "source": [
    "#### グリッドサーチで決定したパラメータとの組み合わせ"
   ]
  },
  {
   "cell_type": "markdown",
   "metadata": {},
   "source": [
    "以下の組み合わせで試してみる\n",
    "- グリッドサーチで決定したパラメータ(n_estimators=1000, max_features=1.0)\n",
    "- zipcodeエンコーディング"
   ]
  },
  {
   "cell_type": "code",
   "execution_count": 232,
   "metadata": {
    "ExecuteTime": {
     "end_time": "2018-04-21T00:32:40.449494Z",
     "start_time": "2018-04-21T00:18:32.940493Z"
    }
   },
   "outputs": [
    {
     "name": "stdout",
     "output_type": "stream",
     "text": [
      " Train MAE: 25379.18\n",
      " Train SCR: 0.986\n",
      " Test  MAE: 67704.326\n",
      " Test  SCR: 0.896\n"
     ]
    }
   ],
   "source": [
    "# 計算結果\n",
    "result = pd.DataFrame(columns=[\"train_mae\", \"train_score\", \"test_mae\", \"test_score\"])\n",
    "\n",
    "for i in range(5):\n",
    "    train_and_test_b_zipcode_encoding(n_estimators=1000, max_features=1.0)\n",
    "\n",
    "# 訓練データでの学習、MAEの計算\n",
    "print(\" Train MAE: %s\"%round(result[\"train_mae\"].mean(),3))\n",
    "print(\" Train SCR: %s\"%round(result[\"train_score\"].mean(),3))\n",
    "\n",
    "# テストデータでMAEの計算\n",
    "print(\" Test  MAE: %s\"%round(result[\"test_mae\"].mean(),3))\n",
    "print(\" Test  SCR: %s\"%round(result[\"test_score\"].mean(),3))"
   ]
  },
  {
   "cell_type": "markdown",
   "metadata": {},
   "source": [
    "# 結論\n",
    "最も成績の良かったモデルとパラメータの組み合わせは以下のとおり\n",
    "\n",
    "- モデル: GradientBoostingRegressor\n",
    "- パラメータ: n_estimators=3000, learning_rate=0.1, max_depth=6, max_features=1.0, min_samples_leaf=3\n",
    "- MAE: 63016.254\n",
    "- SCORE: 0.902\n"
   ]
  },
  {
   "cell_type": "markdown",
   "metadata": {},
   "source": [
    "シンプルなソースで再確認"
   ]
  },
  {
   "cell_type": "code",
   "execution_count": 234,
   "metadata": {
    "ExecuteTime": {
     "end_time": "2018-04-21T00:43:01.217553Z",
     "start_time": "2018-04-21T00:41:21.680085Z"
    }
   },
   "outputs": [
    {
     "name": "stdout",
     "output_type": "stream",
     "text": [
      "Training and Test: \n",
      " Train MAE: 4750.486\n",
      " Train SCR: 0.999\n",
      " Test  MAE: 64323.68\n",
      " Test  SCR: 0.908\n"
     ]
    },
    {
     "data": {
      "text/plain": [
       "Text(0,0.5,'Feature')"
      ]
     },
     "execution_count": 234,
     "metadata": {},
     "output_type": "execute_result"
    },
    {
     "data": {
      "image/png": "[encoded data removed]",
      "text/plain": [
       "<matplotlib.figure.Figure at 0x21bd7203860>"
      ]
     },
     "metadata": {},
     "output_type": "display_data"
    }
   ],
   "source": [
    "# (4)GradientBoostingRegressor、price対数化\n",
    "df = pd.read_csv(\"kc_house_data.csv\")\n",
    "df[\"date\"] = pd.to_datetime(df.date).map(lambda x:x.value / 10**9)  # dateをunix time(秒)に変換\n",
    "df[\"price\"] = df[\"price\"].apply( lambda x: np.log(x) ) # log関数で変換\n",
    "X = df.drop([\"price\", \"sqft_basement\"], axis=1) # 目的変数からsqft_basementのみ削除\n",
    "y = df[\"price\"]\n",
    "\n",
    "# データを訓練データ80%、テストデータ20%に分割\n",
    "X_train, X_test, y_train, y_test = train_test_split(X, y, test_size=0.2, random_state=42)\n",
    "\n",
    "# GradientBoostingRegressor\n",
    "regr = GradientBoostingRegressor(n_estimators=3000, learning_rate=0.1, max_depth=6, max_features=1.0, min_samples_leaf=3)\n",
    "regr.fit(X_train, y_train)\n",
    "\n",
    "print(\"Training and Test: \")\n",
    "# 訓練データでの学習、MAEの計算\n",
    "y_pred = regr.predict(X_train)\n",
    "mae = mean_absolute_error(np.exp(y_train), np.exp(y_pred))\n",
    "print(\" Train MAE: %s\"%round(mae,3))\n",
    "score = regr.score(X_train, y_train)\n",
    "print(\" Train SCR: %s\"%round(score,3))\n",
    "\n",
    "# テストデータでMAEの計算\n",
    "y_pred = regr.predict(X_test)\n",
    "mae = mean_absolute_error(np.exp(y_test), np.exp(y_pred))\n",
    "print(\" Test  MAE: %s\"%round(mae,3))\n",
    "score = regr.score(X_test, y_test)\n",
    "print(\" Test  SCR: %s\"%round(score,3))\n",
    "\n",
    "##### 特徴量の重要度を確認する #####\n",
    "n_features = X_train.shape[1]\n",
    "plt.barh(range(n_features), regr.feature_importances_, align='center')\n",
    "plt.yticks(np.arange(n_features), X_train.columns)\n",
    "plt.xlabel(\"Feature importance\")\n",
    "plt.ylabel(\"Feature\")"
   ]
  }
 ],
 "metadata": {
  "kernelspec": {
   "display_name": "Python 3",
   "language": "python",
   "name": "python3"
  },
  "language_info": {
   "codemirror_mode": {
    "name": "ipython",
    "version": 3
   },
   "file_extension": ".py",
   "mimetype": "text/x-python",
   "name": "python",
   "nbconvert_exporter": "python",
   "pygments_lexer": "ipython3",
   "version": "3.6.4"
  },
  "toc": {
   "base_numbering": 1,
   "nav_menu": {},
   "number_sections": true,
   "sideBar": true,
   "skip_h1_title": false,
   "title_cell": "目次",
   "title_sidebar": "目次",
   "toc_cell": true,
   "toc_position": {
    "height": "calc(100% - 180px)",
    "left": "10px",
    "top": "150px",
    "width": "252px"
   },
   "toc_section_display": true,
   "toc_window_display": true
  }
 },
 "nbformat": 4,
 "nbformat_minor": 2
}
